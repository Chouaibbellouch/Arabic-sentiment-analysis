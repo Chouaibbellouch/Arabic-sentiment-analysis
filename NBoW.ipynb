{
 "cells": [
  {
   "cell_type": "markdown",
   "id": "b27d31c0-1940-42a5-a326-849d351f4d63",
   "metadata": {},
   "source": [
    "**Importing Modules**"
   ]
  },
  {
   "cell_type": "code",
   "execution_count": 190,
   "id": "47c67866-1c09-4e42-b35c-f13041f0b587",
   "metadata": {},
   "outputs": [],
   "source": [
    "import collections\n",
    "\n",
    "import datasets\n",
    "import matplotlib.pyplot as plt\n",
    "import numpy as np\n",
    "import torch\n",
    "import torch.nn as nn\n",
    "import torch.optim as optim\n",
    "import torchtext\n",
    "import tqdm\n",
    "import nltk\n",
    "import sklearn"
   ]
  },
  {
   "cell_type": "code",
   "execution_count": 2,
   "id": "e8dcd7a8-a2ab-430f-ae39-35aa716be5b2",
   "metadata": {},
   "outputs": [],
   "source": [
    "seed = 1306\n",
    "\n",
    "np.random.seed(seed)\n",
    "torch.manual_seed(seed)\n",
    "torch.cuda.manual_seed(seed)\n",
    "torch.backends.cudnn.deterministic = True"
   ]
  },
  {
   "cell_type": "markdown",
   "id": "d3fcf705-bcc1-4e5e-aeeb-031fb6e3912b",
   "metadata": {},
   "source": [
    "**Loading the Dataset**"
   ]
  },
  {
   "cell_type": "code",
   "execution_count": 24,
   "id": "41a23b44-70cb-43c0-b452-8e6387811e5d",
   "metadata": {},
   "outputs": [],
   "source": [
    "features = datasets.Features({\n",
    "    \"text\": datasets.Value(\"string\"),\n",
    "    \"label\": datasets.ClassLabel(names=[\"neg\", \"pos\"])\n",
    "})\n",
    "\n",
    "ds = datasets.load_dataset(\n",
    "    \"csv\",\n",
    "    data_files={\n",
    "        \"train\": \"hf://datasets/ImranzamanML/Arabic-Sentiments/train.tsv\",\n",
    "        \"test\":  \"hf://datasets/ImranzamanML/Arabic-Sentiments/test.tsv\",\n",
    "    },\n",
    "    delimiter=\"\\t\",\n",
    "    column_names=[\"label\", \"text\"],\n",
    "    features=features,\n",
    "    encoding=\"utf-8\",\n",
    ")"
   ]
  },
  {
   "cell_type": "code",
   "execution_count": 25,
   "id": "403329e0-48f3-4db0-9955-41839390eda2",
   "metadata": {},
   "outputs": [
    {
     "data": {
      "text/plain": [
       "DatasetDict({\n",
       "    train: Dataset({\n",
       "        features: ['text', 'label'],\n",
       "        num_rows: 28326\n",
       "    })\n",
       "    test: Dataset({\n",
       "        features: ['text', 'label'],\n",
       "        num_rows: 28536\n",
       "    })\n",
       "})"
      ]
     },
     "execution_count": 25,
     "metadata": {},
     "output_type": "execute_result"
    }
   ],
   "source": [
    "ds"
   ]
  },
  {
   "cell_type": "code",
   "execution_count": 119,
   "id": "80786286-3643-483e-8dec-9e14a8e7a7df",
   "metadata": {},
   "outputs": [],
   "source": [
    "from datasets import concatenate_datasets\n",
    "\n",
    "full_dataset = concatenate_datasets([ds[\"train\"], ds[\"test\"]])\n",
    "\n",
    "train_val_test = full_dataset.train_test_split(test_size=0.2, seed=42)\n",
    "\n",
    "val_test = train_val_test[\"test\"].train_test_split(test_size=0.5, seed=42)\n",
    "\n",
    "ds = {\n",
    "    \"train\": train_val_test[\"train\"],\n",
    "    \"validation\": val_test[\"train\"],\n",
    "    \"test\": val_test[\"test\"],\n",
    "}"
   ]
  },
  {
   "cell_type": "code",
   "execution_count": 125,
   "id": "e9f262f6-4699-4840-abec-8ec90834f7dc",
   "metadata": {},
   "outputs": [
    {
     "data": {
      "text/plain": [
       "{'train': Dataset({\n",
       "     features: ['text', 'label'],\n",
       "     num_rows: 45489\n",
       " }),\n",
       " 'validation': Dataset({\n",
       "     features: ['text', 'label'],\n",
       "     num_rows: 5686\n",
       " }),\n",
       " 'test': Dataset({\n",
       "     features: ['text', 'label'],\n",
       "     num_rows: 5687\n",
       " })}"
      ]
     },
     "execution_count": 125,
     "metadata": {},
     "output_type": "execute_result"
    }
   ],
   "source": [
    "ds"
   ]
  },
  {
   "cell_type": "code",
   "execution_count": 122,
   "id": "a678d3c1-8403-4c5d-9b93-2ebbf80d4803",
   "metadata": {},
   "outputs": [
    {
     "data": {
      "text/plain": [
       "{'text': 'مازالت معاناة اهالي #ام_الساهك مستمرة و الدرباوية مستمرين في ازعاج وترهيب السكان وسط غياب الجهات المعنية .. والمرفق…',\n",
       " 'label': 0}"
      ]
     },
     "execution_count": 122,
     "metadata": {},
     "output_type": "execute_result"
    }
   ],
   "source": [
    "ds['train'][0]"
   ]
  },
  {
   "cell_type": "code",
   "execution_count": 123,
   "id": "2610d5e4-fb3d-4235-a07e-a6807b320b3b",
   "metadata": {},
   "outputs": [
    {
     "data": {
      "text/plain": [
       "{'text': Value('string'), 'label': ClassLabel(names=['neg', 'pos'])}"
      ]
     },
     "execution_count": 123,
     "metadata": {},
     "output_type": "execute_result"
    }
   ],
   "source": [
    "ds['train'].features"
   ]
  },
  {
   "cell_type": "code",
   "execution_count": 124,
   "id": "fc0b286b-7ed7-4dba-874d-c83679367c04",
   "metadata": {},
   "outputs": [],
   "source": [
    "from datasets import Features, Value, ClassLabel, Sequence\n",
    "\n",
    "target_features = Features({\n",
    "    \"text\": Value(\"string\"),\n",
    "    \"label\": ClassLabel(names=[\"neg\", \"pos\"]),\n",
    "    \"tokens\": Sequence(Value(\"string\"))  # length=-1 par défaut (variable)\n",
    "})"
   ]
  },
  {
   "cell_type": "markdown",
   "id": "5d875486-663d-47ea-bb02-4ee9ee0dd0c4",
   "metadata": {},
   "source": [
    "**Tokenization**"
   ]
  },
  {
   "cell_type": "code",
   "execution_count": 23,
   "id": "be41d299-fa1b-4686-b904-5f92d17cbc55",
   "metadata": {},
   "outputs": [
    {
     "name": "stderr",
     "output_type": "stream",
     "text": [
      "[nltk_data] Downloading package punkt to\n",
      "[nltk_data]     C:\\Users\\user\\AppData\\Roaming\\nltk_data...\n",
      "[nltk_data]   Package punkt is already up-to-date!\n"
     ]
    },
    {
     "data": {
      "text/plain": [
       "True"
      ]
     },
     "execution_count": 23,
     "metadata": {},
     "output_type": "execute_result"
    }
   ],
   "source": [
    "nltk.download('punkt')"
   ]
  },
  {
   "cell_type": "code",
   "execution_count": 15,
   "id": "0dc483c2-689e-4435-bc2f-2b8f61a35a0c",
   "metadata": {},
   "outputs": [
    {
     "name": "stderr",
     "output_type": "stream",
     "text": [
      "[nltk_data] Downloading package punkt_tab to\n",
      "[nltk_data]     C:\\Users\\user\\AppData\\Roaming\\nltk_data...\n",
      "[nltk_data]   Unzipping tokenizers\\punkt_tab.zip.\n"
     ]
    },
    {
     "data": {
      "text/plain": [
       "True"
      ]
     },
     "execution_count": 15,
     "metadata": {},
     "output_type": "execute_result"
    }
   ],
   "source": [
    "nltk.download(\"punkt_tab\")"
   ]
  },
  {
   "cell_type": "code",
   "execution_count": 29,
   "id": "6c1d527f-651e-4b4c-a602-f3c012ba0376",
   "metadata": {},
   "outputs": [
    {
     "name": "stdout",
     "output_type": "stream",
     "text": [
      "['رحمه', 'الله', 'رحمه', 'واسعه', 'واسكنه', 'فسيح', 'جناته', '!', '!', '!']\n"
     ]
    }
   ],
   "source": [
    "text = 'رحمه الله رحمه واسعه واسكنه فسيح جناته !!!'\n",
    "print(nltk.word_tokenize(text))"
   ]
  },
  {
   "cell_type": "code",
   "execution_count": 30,
   "id": "8c60b67f-91c0-4b16-b9b7-7013e48f398b",
   "metadata": {},
   "outputs": [],
   "source": [
    "def tokenize(example, tokenizer, max_length):\n",
    "    tokens = tokenizer(example[\"text\"])[:max_length]\n",
    "    return {\"tokens\": tokens}"
   ]
  },
  {
   "cell_type": "code",
   "execution_count": 126,
   "id": "f5b4288f-15b0-4838-a030-c3c878b9a6dc",
   "metadata": {},
   "outputs": [
    {
     "data": {
      "application/vnd.jupyter.widget-view+json": {
       "model_id": "6c4085458e3b4fa7ae6082ee1cde4414",
       "version_major": 2,
       "version_minor": 0
      },
      "text/plain": [
       "Map:   0%|          | 0/45489 [00:00<?, ? examples/s]"
      ]
     },
     "metadata": {},
     "output_type": "display_data"
    },
    {
     "data": {
      "application/vnd.jupyter.widget-view+json": {
       "model_id": "99301f6a974b40f1bbdcbd420938bf2b",
       "version_major": 2,
       "version_minor": 0
      },
      "text/plain": [
       "Map:   0%|          | 0/5686 [00:00<?, ? examples/s]"
      ]
     },
     "metadata": {},
     "output_type": "display_data"
    },
    {
     "data": {
      "application/vnd.jupyter.widget-view+json": {
       "model_id": "e74b076b2ac442a99b5547bb9626824d",
       "version_major": 2,
       "version_minor": 0
      },
      "text/plain": [
       "Map:   0%|          | 0/5687 [00:00<?, ? examples/s]"
      ]
     },
     "metadata": {},
     "output_type": "display_data"
    }
   ],
   "source": [
    "max_length = 256\n",
    "\n",
    "train_data = ds['train'].map(\n",
    "    tokenize, fn_kwargs={\"tokenizer\": nltk.word_tokenize, \"max_length\": max_length}, features=target_features\n",
    ")\n",
    "valid_data = ds['validation'].map(\n",
    "    tokenize, fn_kwargs={\"tokenizer\": nltk.word_tokenize, \"max_length\": max_length}, features=target_features\n",
    ")\n",
    "test_data = ds['test'].map(\n",
    "    tokenize, fn_kwargs={\"tokenizer\": nltk.word_tokenize, \"max_length\": max_length}, features=target_features\n",
    ")"
   ]
  },
  {
   "cell_type": "code",
   "execution_count": 127,
   "id": "002e8d3e-c6f9-426a-86d6-f08ce79e3879",
   "metadata": {},
   "outputs": [
    {
     "data": {
      "text/plain": [
       "{'text': '#عبدالفتاح الإخونج، كيف الحال؟ 😂',\n",
       " 'label': 1,\n",
       " 'tokens': ['#', 'عبدالفتاح', 'الإخونج،', 'كيف', 'الحال؟', '😂']}"
      ]
     },
     "execution_count": 127,
     "metadata": {},
     "output_type": "execute_result"
    }
   ],
   "source": [
    "train_data[3536]"
   ]
  },
  {
   "cell_type": "code",
   "execution_count": 128,
   "id": "9d6ed9e1-5c80-4a08-a0ef-7a01433a5d78",
   "metadata": {},
   "outputs": [
    {
     "data": {
      "text/plain": [
       "Dataset({\n",
       "    features: ['text', 'label', 'tokens'],\n",
       "    num_rows: 45489\n",
       "})"
      ]
     },
     "execution_count": 128,
     "metadata": {},
     "output_type": "execute_result"
    }
   ],
   "source": [
    "train_data"
   ]
  },
  {
   "cell_type": "code",
   "execution_count": 129,
   "id": "fb259a63-4ce6-4851-bf93-c93b0b6c2659",
   "metadata": {},
   "outputs": [
    {
     "data": {
      "text/plain": [
       "{'text': Value('string'),\n",
       " 'label': ClassLabel(names=['neg', 'pos']),\n",
       " 'tokens': List(Value('string'))}"
      ]
     },
     "execution_count": 129,
     "metadata": {},
     "output_type": "execute_result"
    }
   ],
   "source": [
    "train_data.features"
   ]
  },
  {
   "cell_type": "code",
   "execution_count": 130,
   "id": "1b3c5de0-5dc3-4798-ac77-d70cfb3bf833",
   "metadata": {},
   "outputs": [
    {
     "data": {
      "text/plain": [
       "['انزين', 'عادي', 'انا', 'احب', 'الدراسه', '😢']"
      ]
     },
     "execution_count": 130,
     "metadata": {},
     "output_type": "execute_result"
    }
   ],
   "source": [
    "valid_data[0][\"tokens\"][:25]"
   ]
  },
  {
   "cell_type": "code",
   "execution_count": 131,
   "id": "986acbe4-155f-41bb-a339-a9e96fdbaa02",
   "metadata": {},
   "outputs": [
    {
     "data": {
      "text/plain": [
       "(45489, 5686, 5687)"
      ]
     },
     "execution_count": 131,
     "metadata": {},
     "output_type": "execute_result"
    }
   ],
   "source": [
    "len(train_data), len(valid_data), len(test_data)"
   ]
  },
  {
   "cell_type": "markdown",
   "id": "40e451e6-fbf2-4647-bde4-a833fdd5fa3c",
   "metadata": {},
   "source": [
    "**Creating a Vocabulary**"
   ]
  },
  {
   "cell_type": "code",
   "execution_count": 132,
   "id": "5433bd31-bae9-4069-9b03-6e77d30dcdda",
   "metadata": {},
   "outputs": [],
   "source": [
    "from collections import Counter\n",
    "\n",
    "counter = Counter(token for tokens in train_data[\"tokens\"] for token in tokens)\n",
    "special_tokens = [\"<unk>\", \"<pad>\"]\n",
    "stoi = {tok: i for i, tok in enumerate(special_tokens + [t for t, c in counter.items() if c >= 5])}\n",
    "itos = {i: tok for tok, i in stoi.items()}"
   ]
  },
  {
   "cell_type": "code",
   "execution_count": 133,
   "id": "c5801321-87d3-4e8f-a519-6f209a5e9a9b",
   "metadata": {},
   "outputs": [
    {
     "data": {
      "text/plain": [
       "14772"
      ]
     },
     "execution_count": 133,
     "metadata": {},
     "output_type": "execute_result"
    }
   ],
   "source": [
    "len(itos)"
   ]
  },
  {
   "cell_type": "code",
   "execution_count": 134,
   "id": "5f905cba-1628-4d3c-ac46-1c5907e1a582",
   "metadata": {},
   "outputs": [],
   "source": [
    "unk_index = stoi[\"<unk>\"]\n",
    "pad_index = stoi[\"<pad>\"]"
   ]
  },
  {
   "cell_type": "code",
   "execution_count": 135,
   "id": "ee1e4a21-a0d8-4a76-9bf7-8c17b6ec78a5",
   "metadata": {},
   "outputs": [],
   "source": [
    "# For the tokens that doesn't exist in stoi we should return unk_index\n",
    "from collections import defaultdict\n",
    "stoi = defaultdict(lambda: unk_index, stoi)"
   ]
  },
  {
   "cell_type": "code",
   "execution_count": 136,
   "id": "86d1d146-ae5f-49e7-bb7b-dde2265ca7fb",
   "metadata": {},
   "outputs": [],
   "source": [
    "def lookup_indices(tokens):\n",
    "    return [stoi[token] for token in tokens]"
   ]
  },
  {
   "cell_type": "code",
   "execution_count": 137,
   "id": "0e251b4f-34dc-4903-94b8-3ed9d677b3d9",
   "metadata": {},
   "outputs": [],
   "source": [
    "def lookup_tokens(ids):\n",
    "    return [itos[Id] for Id in ids]"
   ]
  },
  {
   "cell_type": "code",
   "execution_count": 138,
   "id": "04e46f31-73cc-44b4-89fc-82f6bdd7fe0e",
   "metadata": {},
   "outputs": [
    {
     "data": {
      "text/plain": [
       "[3296, 113, 3296, 0, 6254, 2741, 2742, 135]"
      ]
     },
     "execution_count": 138,
     "metadata": {},
     "output_type": "execute_result"
    }
   ],
   "source": [
    "lookup_indices(['رحمه', 'الله', 'رحمه', 'واسعه', 'واسكنه', 'فسيح', 'جناته', '😢'])"
   ]
  },
  {
   "cell_type": "markdown",
   "id": "cc905c8e-03f2-4843-bd45-3747742c1504",
   "metadata": {},
   "source": [
    "**Numericalizing Data**"
   ]
  },
  {
   "cell_type": "code",
   "execution_count": 139,
   "id": "0acf4c5a-314c-4faf-badf-c6ad3c7b4ba6",
   "metadata": {},
   "outputs": [],
   "source": [
    "def numericalize_example(example):\n",
    "    ids = lookup_indices(example[\"tokens\"])\n",
    "    return {\"ids\": ids}"
   ]
  },
  {
   "cell_type": "code",
   "execution_count": 140,
   "id": "b5dc90bc-1712-4b9a-9620-49556ed894e0",
   "metadata": {},
   "outputs": [
    {
     "data": {
      "application/vnd.jupyter.widget-view+json": {
       "model_id": "ca9689e94cfc46999553692af685ac50",
       "version_major": 2,
       "version_minor": 0
      },
      "text/plain": [
       "Map:   0%|          | 0/45489 [00:00<?, ? examples/s]"
      ]
     },
     "metadata": {},
     "output_type": "display_data"
    },
    {
     "data": {
      "application/vnd.jupyter.widget-view+json": {
       "model_id": "687938775fb54fdfbd74cc2206d08c71",
       "version_major": 2,
       "version_minor": 0
      },
      "text/plain": [
       "Map:   0%|          | 0/5686 [00:00<?, ? examples/s]"
      ]
     },
     "metadata": {},
     "output_type": "display_data"
    },
    {
     "data": {
      "application/vnd.jupyter.widget-view+json": {
       "model_id": "1ebda3da41554d49b9b4aa8fcf6788f4",
       "version_major": 2,
       "version_minor": 0
      },
      "text/plain": [
       "Map:   0%|          | 0/5687 [00:00<?, ? examples/s]"
      ]
     },
     "metadata": {},
     "output_type": "display_data"
    }
   ],
   "source": [
    "train_data = train_data.map(numericalize_example)\n",
    "valid_data = valid_data.map(numericalize_example)\n",
    "test_data = test_data.map(numericalize_example)"
   ]
  },
  {
   "cell_type": "code",
   "execution_count": 141,
   "id": "b114114b-4d41-477b-806b-1137e9c3ffda",
   "metadata": {},
   "outputs": [
    {
     "data": {
      "text/plain": [
       "{'text': 'صوره من حدث تجمع ستار وأرز ، وكأنها صورة نيثن دريك من انشارتد 😅 #Uncharted #StarWarsCelebration',\n",
       " 'label': 1,\n",
       " 'tokens': ['صوره',\n",
       "  'من',\n",
       "  'حدث',\n",
       "  'تجمع',\n",
       "  'ستار',\n",
       "  'وأرز',\n",
       "  '،',\n",
       "  'وكأنها',\n",
       "  'صورة',\n",
       "  'نيثن',\n",
       "  'دريك',\n",
       "  'من',\n",
       "  'انشارتد',\n",
       "  '😅',\n",
       "  '#',\n",
       "  'Uncharted',\n",
       "  '#',\n",
       "  'StarWarsCelebration'],\n",
       " 'ids': [5297,\n",
       "  34,\n",
       "  11174,\n",
       "  3405,\n",
       "  0,\n",
       "  0,\n",
       "  421,\n",
       "  3678,\n",
       "  212,\n",
       "  0,\n",
       "  0,\n",
       "  34,\n",
       "  0,\n",
       "  3810,\n",
       "  5,\n",
       "  0,\n",
       "  5,\n",
       "  0]}"
      ]
     },
     "execution_count": 141,
     "metadata": {},
     "output_type": "execute_result"
    }
   ],
   "source": [
    "test_data[0]"
   ]
  },
  {
   "cell_type": "code",
   "execution_count": 149,
   "id": "b017d570-9b9e-4fa1-af75-9f4af81c5b64",
   "metadata": {},
   "outputs": [
    {
     "data": {
      "text/plain": [
       "'من النهارده مدة اي تويته عندي مش هتتعدي ساعتين و هحذفها 😎 لو مهتم فعل التنبيهات ليصلك كل جديد😉'"
      ]
     },
     "execution_count": 149,
     "metadata": {},
     "output_type": "execute_result"
    }
   ],
   "source": [
    "train_data[24]['text']"
   ]
  },
  {
   "cell_type": "code",
   "execution_count": 150,
   "id": "0cfebc8f-db94-4794-a04f-40e6af6fa56f",
   "metadata": {},
   "outputs": [
    {
     "data": {
      "text/plain": [
       "['من',\n",
       " 'النهارده',\n",
       " 'مدة',\n",
       " 'اي',\n",
       " 'تويته',\n",
       " 'عندي',\n",
       " 'مش',\n",
       " 'هتتعدي',\n",
       " 'ساعتين',\n",
       " 'و',\n",
       " 'هحذفها',\n",
       " '😎',\n",
       " 'لو',\n",
       " 'مهتم',\n",
       " 'فعل',\n",
       " 'التنبيهات',\n",
       " 'ليصلك',\n",
       " 'كل',\n",
       " 'جديد😉']"
      ]
     },
     "execution_count": 150,
     "metadata": {},
     "output_type": "execute_result"
    }
   ],
   "source": [
    "train_data[24][\"tokens\"][:20]"
   ]
  },
  {
   "cell_type": "code",
   "execution_count": 151,
   "id": "b8ba86b0-26f0-43bb-a699-6f75ff8b2d9a",
   "metadata": {},
   "outputs": [
    {
     "data": {
      "text/plain": [
       "[34,\n",
       " 266,\n",
       " 267,\n",
       " 268,\n",
       " 269,\n",
       " 270,\n",
       " 125,\n",
       " 0,\n",
       " 271,\n",
       " 8,\n",
       " 0,\n",
       " 272,\n",
       " 85,\n",
       " 273,\n",
       " 274,\n",
       " 275,\n",
       " 0,\n",
       " 38,\n",
       " 0]"
      ]
     },
     "execution_count": 151,
     "metadata": {},
     "output_type": "execute_result"
    }
   ],
   "source": [
    "lookup_indices(train_data[24][\"tokens\"][:20])"
   ]
  },
  {
   "cell_type": "code",
   "execution_count": 152,
   "id": "c1de9462-6926-4491-aeb2-8f172d2f8a52",
   "metadata": {},
   "outputs": [
    {
     "data": {
      "text/plain": [
       "['من',\n",
       " 'النهارده',\n",
       " 'مدة',\n",
       " 'اي',\n",
       " 'تويته',\n",
       " 'عندي',\n",
       " 'مش',\n",
       " '<unk>',\n",
       " 'ساعتين',\n",
       " 'و',\n",
       " '<unk>',\n",
       " '😎',\n",
       " 'لو',\n",
       " 'مهتم',\n",
       " 'فعل',\n",
       " 'التنبيهات',\n",
       " '<unk>',\n",
       " 'كل',\n",
       " '<unk>']"
      ]
     },
     "execution_count": 152,
     "metadata": {},
     "output_type": "execute_result"
    }
   ],
   "source": [
    "lookup_tokens(train_data[24][\"ids\"][:20])"
   ]
  },
  {
   "cell_type": "code",
   "execution_count": 153,
   "id": "b97a417c-0ba7-431e-a399-e8a2f83bf1a6",
   "metadata": {},
   "outputs": [],
   "source": [
    "train_data = train_data.with_format(type=\"torch\", columns=[\"ids\", \"label\"])\n",
    "valid_data = valid_data.with_format(type=\"torch\", columns=[\"ids\", \"label\"])\n",
    "test_data = test_data.with_format(type=\"torch\", columns=[\"ids\", \"label\"])"
   ]
  },
  {
   "cell_type": "code",
   "execution_count": 155,
   "id": "ed3c8c46-ee1e-44c3-ad2d-2dcd56263e79",
   "metadata": {},
   "outputs": [
    {
     "data": {
      "text/plain": [
       "tensor(1)"
      ]
     },
     "execution_count": 155,
     "metadata": {},
     "output_type": "execute_result"
    }
   ],
   "source": [
    "train_data[24][\"label\"]"
   ]
  },
  {
   "cell_type": "code",
   "execution_count": 156,
   "id": "3f572a9c-af87-4b3a-b98c-6346205e41b2",
   "metadata": {},
   "outputs": [
    {
     "data": {
      "text/plain": [
       "tensor([ 34, 266, 267, 268, 269, 270, 125,   0, 271,   8])"
      ]
     },
     "execution_count": 156,
     "metadata": {},
     "output_type": "execute_result"
    }
   ],
   "source": [
    "train_data[24][\"ids\"][:10]"
   ]
  },
  {
   "cell_type": "code",
   "execution_count": 157,
   "id": "2da1eb02-85a4-4704-8cc7-62d78d673d5d",
   "metadata": {},
   "outputs": [
    {
     "data": {
      "text/plain": [
       "{'label': tensor(1),\n",
       " 'ids': tensor([ 34, 266, 267, 268, 269, 270, 125,   0, 271,   8,   0, 272,  85, 273,\n",
       "         274, 275,   0,  38,   0])}"
      ]
     },
     "execution_count": 157,
     "metadata": {},
     "output_type": "execute_result"
    }
   ],
   "source": [
    "train_data[24]"
   ]
  },
  {
   "cell_type": "code",
   "execution_count": 160,
   "id": "67e5e3f1-afa3-4bea-8f9f-637b10d33b46",
   "metadata": {},
   "outputs": [
    {
     "data": {
      "text/plain": [
       "['مازالت',\n",
       " 'معاناة',\n",
       " 'اهالي',\n",
       " '#',\n",
       " 'ام_الساهك',\n",
       " 'مستمرة',\n",
       " 'و',\n",
       " 'الدرباوية',\n",
       " 'مستمرين',\n",
       " 'في',\n",
       " 'ازعاج',\n",
       " 'وترهيب',\n",
       " 'السكان',\n",
       " 'وسط',\n",
       " 'غياب',\n",
       " 'الجهات',\n",
       " 'المعنية',\n",
       " '..',\n",
       " 'والمرفق…']"
      ]
     },
     "execution_count": 160,
     "metadata": {},
     "output_type": "execute_result"
    }
   ],
   "source": [
    "lookup_tokens(train_data[0][\"ids\"][:30].tolist())"
   ]
  },
  {
   "cell_type": "markdown",
   "id": "107db387-d8e8-4cde-9e6b-be49d472b6ee",
   "metadata": {},
   "source": [
    "**Creating Data Loaders**"
   ]
  },
  {
   "cell_type": "code",
   "execution_count": 161,
   "id": "17b904ed-71a5-43c0-a2bd-f243dc91eaba",
   "metadata": {},
   "outputs": [],
   "source": [
    "def get_collate_fn(pad_index):\n",
    "    def collate_fn(batch):\n",
    "        batch_ids = [i[\"ids\"] for i in batch]\n",
    "        batch_ids = nn.utils.rnn.pad_sequence(\n",
    "            batch_ids, padding_value=pad_index, batch_first=True\n",
    "        )\n",
    "        batch_label = [i[\"label\"] for i in batch]\n",
    "        batch_label = torch.stack(batch_label)\n",
    "        batch = {\"ids\": batch_ids, \"label\": batch_label}\n",
    "        return batch\n",
    "\n",
    "    return collate_fn"
   ]
  },
  {
   "cell_type": "code",
   "execution_count": 162,
   "id": "fa8c46bf-d450-4e03-8247-93ca235851f6",
   "metadata": {},
   "outputs": [],
   "source": [
    "def get_data_loader(dataset, batch_size, pad_index, shuffle=False):\n",
    "    collate_fn = get_collate_fn(pad_index)\n",
    "    data_loader = torch.utils.data.DataLoader(\n",
    "        dataset=dataset,\n",
    "        batch_size=batch_size,\n",
    "        collate_fn=collate_fn,\n",
    "        shuffle=shuffle,\n",
    "    )\n",
    "    return data_loader"
   ]
  },
  {
   "cell_type": "code",
   "execution_count": 164,
   "id": "49fbcdf2-6c59-4fa1-b35d-147aea0164db",
   "metadata": {},
   "outputs": [],
   "source": [
    "batch_size = 512\n",
    "\n",
    "train_data_loader = get_data_loader(train_data, batch_size, pad_index, shuffle=True)\n",
    "valid_data_loader = get_data_loader(valid_data, batch_size, pad_index)\n",
    "test_data_loader = get_data_loader(test_data, batch_size, pad_index)"
   ]
  },
  {
   "cell_type": "code",
   "execution_count": 165,
   "id": "431a8c95-6e69-47b8-92fd-5b7b854d1048",
   "metadata": {},
   "outputs": [
    {
     "data": {
      "text/plain": [
       "{'ids': tensor([[ 698, 6258,  849,  ...,    1,    1,    1],\n",
       "         [3046,   55, 3047,  ...,    1,    1,    1],\n",
       "         [ 717,  893, 3138,  ..., 1095,    1,    1],\n",
       "         ...,\n",
       "         [ 383, 1614, 1615,  ...,    1,    1,    1],\n",
       "         [ 116,    0, 2572,  ...,    1,    1,    1],\n",
       "         [6355, 3867,    0,  ...,    1,    1,    1]]),\n",
       " 'label': tensor([1, 1, 1, 1, 0, 1, 1, 0, 0, 0, 0, 0, 0, 1, 1, 0, 0, 1, 1, 0, 1, 0, 1, 0,\n",
       "         1, 0, 0, 0, 0, 1, 1, 0, 0, 0, 1, 0, 1, 0, 0, 1, 1, 0, 0, 0, 0, 0, 0, 1,\n",
       "         1, 0, 0, 1, 1, 0, 1, 0, 1, 1, 1, 1, 1, 1, 0, 1, 1, 0, 1, 1, 0, 0, 1, 0,\n",
       "         0, 0, 0, 1, 0, 1, 0, 1, 0, 0, 1, 1, 1, 1, 0, 0, 1, 1, 1, 1, 0, 1, 1, 1,\n",
       "         0, 1, 0, 0, 0, 0, 0, 0, 0, 1, 0, 1, 1, 0, 0, 1, 1, 1, 1, 1, 0, 1, 1, 0,\n",
       "         0, 1, 1, 1, 1, 1, 1, 0, 1, 1, 0, 0, 1, 1, 1, 0, 0, 1, 1, 0, 1, 0, 1, 0,\n",
       "         1, 0, 1, 1, 1, 1, 0, 1, 1, 1, 0, 1, 1, 1, 0, 1, 0, 0, 0, 0, 1, 1, 0, 1,\n",
       "         1, 0, 1, 0, 1, 0, 1, 0, 1, 0, 0, 0, 1, 1, 0, 0, 0, 1, 0, 1, 1, 1, 1, 0,\n",
       "         1, 1, 0, 0, 1, 1, 0, 1, 1, 0, 1, 1, 0, 0, 1, 0, 1, 1, 1, 0, 0, 0, 0, 1,\n",
       "         0, 1, 1, 0, 0, 0, 0, 0, 0, 1, 1, 1, 0, 0, 0, 1, 1, 0, 1, 1, 1, 1, 0, 0,\n",
       "         0, 0, 1, 0, 1, 0, 1, 1, 1, 1, 1, 1, 1, 0, 1, 0, 0, 0, 1, 1, 1, 0, 0, 0,\n",
       "         1, 0, 1, 1, 1, 0, 0, 0, 0, 0, 1, 0, 1, 0, 0, 0, 0, 1, 1, 1, 0, 1, 0, 0,\n",
       "         1, 1, 1, 1, 0, 1, 1, 1, 1, 0, 1, 0, 1, 0, 1, 0, 0, 1, 1, 1, 1, 1, 1, 1,\n",
       "         0, 0, 0, 1, 1, 1, 0, 1, 1, 1, 1, 0, 0, 0, 1, 1, 1, 0, 1, 0, 0, 1, 1, 0,\n",
       "         0, 1, 1, 1, 1, 0, 1, 0, 0, 1, 0, 0, 1, 1, 0, 1, 0, 1, 0, 0, 1, 0, 1, 1,\n",
       "         0, 0, 1, 1, 1, 0, 1, 0, 0, 1, 0, 1, 1, 0, 0, 0, 0, 0, 0, 0, 1, 0, 0, 0,\n",
       "         0, 1, 1, 1, 0, 0, 0, 1, 0, 1, 0, 0, 1, 0, 0, 0, 0, 1, 1, 1, 1, 1, 0, 0,\n",
       "         0, 0, 0, 1, 1, 0, 1, 0, 1, 0, 1, 0, 0, 1, 0, 0, 0, 0, 1, 0, 0, 1, 0, 0,\n",
       "         1, 1, 1, 0, 0, 0, 0, 0, 0, 0, 1, 1, 1, 1, 1, 1, 1, 0, 1, 0, 0, 1, 0, 1,\n",
       "         0, 1, 0, 0, 1, 0, 1, 1, 1, 0, 1, 0, 0, 0, 1, 0, 0, 1, 0, 0, 1, 1, 1, 1,\n",
       "         1, 0, 0, 0, 1, 0, 0, 1, 0, 0, 0, 1, 1, 0, 1, 0, 0, 0, 0, 1, 1, 1, 0, 0,\n",
       "         1, 0, 0, 1, 1, 1, 1, 0])}"
      ]
     },
     "execution_count": 165,
     "metadata": {},
     "output_type": "execute_result"
    }
   ],
   "source": [
    "next(iter(train_data_loader))"
   ]
  },
  {
   "cell_type": "markdown",
   "id": "6660c37f-a0a6-4df1-8248-53b3514e9982",
   "metadata": {},
   "source": [
    "**Building the Model**"
   ]
  },
  {
   "cell_type": "code",
   "execution_count": 166,
   "id": "6ba7edd5-0032-4d39-8acf-74eafbc545f3",
   "metadata": {},
   "outputs": [],
   "source": [
    "class NBoW(nn.Module):\n",
    "    def __init__(self, vocab_size, embedding_dim, output_dim, pad_index):\n",
    "        super().__init__()\n",
    "        self.embedding = nn.Embedding(vocab_size, embedding_dim, padding_idx=pad_index)\n",
    "        self.fc = nn.Linear(embedding_dim, output_dim)\n",
    "\n",
    "    def forward(self, ids):\n",
    "        # ids = [batch size, seq len]\n",
    "        embedded = self.embedding(ids)\n",
    "        # embedded = [batch size, seq len, embedding dim]\n",
    "        pooled = embedded.mean(dim=1)\n",
    "        # pooled = [batch size, embedding dim]\n",
    "        prediction = self.fc(pooled)\n",
    "        # prediction = [batch size, output dim]\n",
    "        return prediction"
   ]
  },
  {
   "cell_type": "code",
   "execution_count": 167,
   "id": "cfc5815b-dba5-488f-84e7-5eab4804a349",
   "metadata": {},
   "outputs": [],
   "source": [
    "vocab_size = len(stoi)\n",
    "embedding_dim = 128\n",
    "output_dim = len(train_data.unique(\"label\"))\n",
    "\n",
    "model = NBoW(vocab_size, embedding_dim, output_dim, pad_index)"
   ]
  },
  {
   "cell_type": "code",
   "execution_count": 168,
   "id": "e4788449-e4c4-4345-85f6-cc8a167e8075",
   "metadata": {},
   "outputs": [
    {
     "data": {
      "text/plain": [
       "NBoW(\n",
       "  (embedding): Embedding(89072, 128, padding_idx=1)\n",
       "  (fc): Linear(in_features=128, out_features=2, bias=True)\n",
       ")"
      ]
     },
     "execution_count": 168,
     "metadata": {},
     "output_type": "execute_result"
    }
   ],
   "source": [
    "model"
   ]
  },
  {
   "cell_type": "code",
   "execution_count": 169,
   "id": "04377d89-7e16-43bc-9546-d5f97260a84a",
   "metadata": {},
   "outputs": [
    {
     "name": "stdout",
     "output_type": "stream",
     "text": [
      "The model has 11,401,474 trainable parameters\n"
     ]
    }
   ],
   "source": [
    "def count_parameters(model):\n",
    "    return sum(p.numel() for p in model.parameters() if p.requires_grad)\n",
    "\n",
    "\n",
    "print(f\"The model has {count_parameters(model):,} trainable parameters\")"
   ]
  },
  {
   "cell_type": "code",
   "execution_count": 170,
   "id": "e81a2986-3275-4b79-ad45-f5f1dedd6c91",
   "metadata": {},
   "outputs": [],
   "source": [
    "optimizer = optim.Adam(model.parameters())"
   ]
  },
  {
   "cell_type": "code",
   "execution_count": 171,
   "id": "057f46f4-b528-46fb-b9b8-7aabd58e43f0",
   "metadata": {},
   "outputs": [],
   "source": [
    "criterion = nn.CrossEntropyLoss()"
   ]
  },
  {
   "cell_type": "code",
   "execution_count": 173,
   "id": "401bc48d-25ab-4cda-9aca-4b2b12d299e0",
   "metadata": {},
   "outputs": [],
   "source": [
    "def train(data_loader, model, criterion, optimizer):\n",
    "    model.train()\n",
    "    epoch_losses = []\n",
    "    epoch_accs = []\n",
    "    for batch in tqdm.tqdm(data_loader, desc=\"training...\"):\n",
    "        ids = batch[\"ids\"]\n",
    "        label = batch[\"label\"]\n",
    "        prediction = model(ids)\n",
    "        loss = criterion(prediction, label)\n",
    "        accuracy = get_accuracy(prediction, label)\n",
    "        optimizer.zero_grad()\n",
    "        loss.backward()\n",
    "        optimizer.step()\n",
    "        epoch_losses.append(loss.item())\n",
    "        epoch_accs.append(accuracy.item())\n",
    "    return np.mean(epoch_losses), np.mean(epoch_accs)"
   ]
  },
  {
   "cell_type": "code",
   "execution_count": 174,
   "id": "229ede05-9ea6-4bfc-b565-b797baefc230",
   "metadata": {},
   "outputs": [],
   "source": [
    "def evaluate(data_loader, model, criterion):\n",
    "    model.eval()\n",
    "    epoch_losses = []\n",
    "    epoch_accs = []\n",
    "    with torch.no_grad():\n",
    "        for batch in tqdm.tqdm(data_loader, desc=\"evaluating...\"):\n",
    "            ids = batch[\"ids\"]\n",
    "            label = batch[\"label\"]\n",
    "            prediction = model(ids)\n",
    "            loss = criterion(prediction, label)\n",
    "            accuracy = get_accuracy(prediction, label)\n",
    "            epoch_losses.append(loss.item())\n",
    "            epoch_accs.append(accuracy.item())\n",
    "    return np.mean(epoch_losses), np.mean(epoch_accs)"
   ]
  },
  {
   "cell_type": "code",
   "execution_count": 175,
   "id": "55304ed9-5caa-4eba-8212-3b81fdad5ddd",
   "metadata": {},
   "outputs": [],
   "source": [
    "def get_accuracy(prediction, label):\n",
    "    batch_size, _ = prediction.shape\n",
    "    predicted_classes = prediction.argmax(dim=-1)\n",
    "    correct_predictions = predicted_classes.eq(label).sum()\n",
    "    accuracy = correct_predictions / batch_size\n",
    "    return accuracy"
   ]
  },
  {
   "cell_type": "code",
   "execution_count": 177,
   "id": "6355ac20-3c6d-48a8-82b2-a73cbfc7e184",
   "metadata": {},
   "outputs": [
    {
     "name": "stderr",
     "output_type": "stream",
     "text": [
      "training...: 100%|█████████████████████████████████████████████████████████████████████| 89/89 [00:13<00:00,  6.70it/s]\n",
      "evaluating...: 100%|███████████████████████████████████████████████████████████████████| 12/12 [00:00<00:00, 18.16it/s]\n"
     ]
    },
    {
     "name": "stdout",
     "output_type": "stream",
     "text": [
      "epoch: 0\n",
      "train_loss: 0.677, train_acc: 0.654\n",
      "valid_loss: 0.661, valid_acc: 0.751\n"
     ]
    },
    {
     "name": "stderr",
     "output_type": "stream",
     "text": [
      "training...: 100%|█████████████████████████████████████████████████████████████████████| 89/89 [00:14<00:00,  6.16it/s]\n",
      "evaluating...: 100%|███████████████████████████████████████████████████████████████████| 12/12 [00:00<00:00, 13.86it/s]\n"
     ]
    },
    {
     "name": "stdout",
     "output_type": "stream",
     "text": [
      "epoch: 1\n",
      "train_loss: 0.627, train_acc: 0.793\n",
      "valid_loss: 0.600, valid_acc: 0.801\n"
     ]
    },
    {
     "name": "stderr",
     "output_type": "stream",
     "text": [
      "training...: 100%|█████████████████████████████████████████████████████████████████████| 89/89 [00:16<00:00,  5.24it/s]\n",
      "evaluating...: 100%|███████████████████████████████████████████████████████████████████| 12/12 [00:00<00:00, 13.00it/s]\n"
     ]
    },
    {
     "name": "stdout",
     "output_type": "stream",
     "text": [
      "epoch: 2\n",
      "train_loss: 0.541, train_acc: 0.838\n",
      "valid_loss: 0.529, valid_acc: 0.853\n"
     ]
    },
    {
     "name": "stderr",
     "output_type": "stream",
     "text": [
      "training...: 100%|█████████████████████████████████████████████████████████████████████| 89/89 [00:17<00:00,  5.15it/s]\n",
      "evaluating...: 100%|███████████████████████████████████████████████████████████████████| 12/12 [00:00<00:00, 14.28it/s]\n"
     ]
    },
    {
     "name": "stdout",
     "output_type": "stream",
     "text": [
      "epoch: 3\n",
      "train_loss: 0.482, train_acc: 0.881\n",
      "valid_loss: 0.474, valid_acc: 0.891\n"
     ]
    },
    {
     "name": "stderr",
     "output_type": "stream",
     "text": [
      "training...: 100%|█████████████████████████████████████████████████████████████████████| 89/89 [00:17<00:00,  4.99it/s]\n",
      "evaluating...: 100%|███████████████████████████████████████████████████████████████████| 12/12 [00:00<00:00, 13.86it/s]\n"
     ]
    },
    {
     "name": "stdout",
     "output_type": "stream",
     "text": [
      "epoch: 4\n",
      "train_loss: 0.428, train_acc: 0.906\n",
      "valid_loss: 0.429, valid_acc: 0.912\n"
     ]
    },
    {
     "name": "stderr",
     "output_type": "stream",
     "text": [
      "training...: 100%|█████████████████████████████████████████████████████████████████████| 89/89 [00:17<00:00,  5.01it/s]\n",
      "evaluating...: 100%|███████████████████████████████████████████████████████████████████| 12/12 [00:00<00:00, 13.07it/s]\n"
     ]
    },
    {
     "name": "stdout",
     "output_type": "stream",
     "text": [
      "epoch: 5\n",
      "train_loss: 0.366, train_acc: 0.927\n",
      "valid_loss: 0.391, valid_acc: 0.928\n"
     ]
    },
    {
     "name": "stderr",
     "output_type": "stream",
     "text": [
      "training...: 100%|█████████████████████████████████████████████████████████████████████| 89/89 [00:16<00:00,  5.25it/s]\n",
      "evaluating...: 100%|███████████████████████████████████████████████████████████████████| 12/12 [00:00<00:00, 12.41it/s]\n"
     ]
    },
    {
     "name": "stdout",
     "output_type": "stream",
     "text": [
      "epoch: 6\n",
      "train_loss: 0.341, train_acc: 0.939\n",
      "valid_loss: 0.362, valid_acc: 0.937\n"
     ]
    },
    {
     "name": "stderr",
     "output_type": "stream",
     "text": [
      "training...: 100%|█████████████████████████████████████████████████████████████████████| 89/89 [00:17<00:00,  4.97it/s]\n",
      "evaluating...: 100%|███████████████████████████████████████████████████████████████████| 12/12 [00:00<00:00, 13.66it/s]\n"
     ]
    },
    {
     "name": "stdout",
     "output_type": "stream",
     "text": [
      "epoch: 7\n",
      "train_loss: 0.308, train_acc: 0.946\n",
      "valid_loss: 0.339, valid_acc: 0.941\n"
     ]
    },
    {
     "name": "stderr",
     "output_type": "stream",
     "text": [
      "training...: 100%|█████████████████████████████████████████████████████████████████████| 89/89 [00:17<00:00,  5.03it/s]\n",
      "evaluating...: 100%|███████████████████████████████████████████████████████████████████| 12/12 [00:00<00:00, 13.28it/s]\n"
     ]
    },
    {
     "name": "stdout",
     "output_type": "stream",
     "text": [
      "epoch: 8\n",
      "train_loss: 0.286, train_acc: 0.951\n",
      "valid_loss: 0.319, valid_acc: 0.943\n"
     ]
    },
    {
     "name": "stderr",
     "output_type": "stream",
     "text": [
      "training...: 100%|█████████████████████████████████████████████████████████████████████| 89/89 [00:16<00:00,  5.29it/s]\n",
      "evaluating...: 100%|███████████████████████████████████████████████████████████████████| 12/12 [00:00<00:00, 12.81it/s]"
     ]
    },
    {
     "name": "stdout",
     "output_type": "stream",
     "text": [
      "epoch: 9\n",
      "train_loss: 0.251, train_acc: 0.956\n",
      "valid_loss: 0.304, valid_acc: 0.946\n"
     ]
    },
    {
     "name": "stderr",
     "output_type": "stream",
     "text": [
      "\n"
     ]
    }
   ],
   "source": [
    "n_epochs = 10\n",
    "best_valid_loss = float(\"inf\")\n",
    "\n",
    "metrics = collections.defaultdict(list)\n",
    "\n",
    "for epoch in range(n_epochs):\n",
    "    train_loss, train_acc = train(\n",
    "        train_data_loader, model, criterion, optimizer\n",
    "    )\n",
    "    valid_loss, valid_acc = evaluate(valid_data_loader, model, criterion)\n",
    "    metrics[\"train_losses\"].append(train_loss)\n",
    "    metrics[\"train_accs\"].append(train_acc)\n",
    "    metrics[\"valid_losses\"].append(valid_loss)\n",
    "    metrics[\"valid_accs\"].append(valid_acc)\n",
    "    if valid_loss < best_valid_loss:\n",
    "        best_valid_loss = valid_loss\n",
    "        torch.save(model.state_dict(), \"nbow.pt\")\n",
    "    print(f\"epoch: {epoch}\")\n",
    "    print(f\"train_loss: {train_loss:.3f}, train_acc: {train_acc:.3f}\")\n",
    "    print(f\"valid_loss: {valid_loss:.3f}, valid_acc: {valid_acc:.3f}\")"
   ]
  },
  {
   "cell_type": "code",
   "execution_count": 178,
   "id": "7c13bd20-8321-4c6e-b929-75b3a7163a31",
   "metadata": {},
   "outputs": [
    {
     "data": {
      "image/png": "[encoded data removed]",
      "text/plain": [
       "<Figure size 1000x600 with 1 Axes>"
      ]
     },
     "metadata": {},
     "output_type": "display_data"
    }
   ],
   "source": [
    "fig = plt.figure(figsize=(10, 6))\n",
    "ax = fig.add_subplot(1, 1, 1)\n",
    "ax.plot(metrics[\"train_losses\"], label=\"train loss\")\n",
    "ax.plot(metrics[\"valid_losses\"], label=\"valid loss\")\n",
    "ax.set_xlabel(\"epoch\")\n",
    "ax.set_ylabel(\"loss\")\n",
    "ax.set_xticks(range(n_epochs))\n",
    "ax.legend()\n",
    "ax.grid()"
   ]
  },
  {
   "cell_type": "code",
   "execution_count": 179,
   "id": "87ac33b4-67bf-4fb3-a45d-0da899662629",
   "metadata": {},
   "outputs": [
    {
     "data": {
      "image/png": "[encoded data removed]",
      "text/plain": [
       "<Figure size 1000x600 with 1 Axes>"
      ]
     },
     "metadata": {},
     "output_type": "display_data"
    }
   ],
   "source": [
    "fig = plt.figure(figsize=(10, 6))\n",
    "ax = fig.add_subplot(1, 1, 1)\n",
    "ax.plot(metrics[\"train_accs\"], label=\"train accuracy\")\n",
    "ax.plot(metrics[\"valid_accs\"], label=\"valid accuracy\")\n",
    "ax.set_xlabel(\"epoch\")\n",
    "ax.set_ylabel(\"loss\")\n",
    "ax.set_xticks(range(n_epochs))\n",
    "ax.legend()\n",
    "ax.grid()"
   ]
  },
  {
   "cell_type": "code",
   "execution_count": 180,
   "id": "09f9c7be-ece7-4c2d-bc87-08bb510a6d18",
   "metadata": {},
   "outputs": [
    {
     "name": "stderr",
     "output_type": "stream",
     "text": [
      "evaluating...: 100%|███████████████████████████████████████████████████████████████████| 12/12 [00:00<00:00, 20.36it/s]\n"
     ]
    }
   ],
   "source": [
    "model.load_state_dict(torch.load(\"nbow.pt\"))\n",
    "\n",
    "test_loss, test_acc = evaluate(test_data_loader, model, criterion)"
   ]
  },
  {
   "cell_type": "code",
   "execution_count": 181,
   "id": "1ffc4c55-63a9-4812-a325-afc2f6bb5144",
   "metadata": {},
   "outputs": [
    {
     "name": "stdout",
     "output_type": "stream",
     "text": [
      "test_loss: 0.225, test_acc: 0.938\n"
     ]
    }
   ],
   "source": [
    "print(f\"test_loss: {test_loss:.3f}, test_acc: {test_acc:.3f}\")"
   ]
  },
  {
   "cell_type": "code",
   "execution_count": 191,
   "id": "9400dcae-e06c-422d-a578-3a3641a50c39",
   "metadata": {},
   "outputs": [
    {
     "name": "stderr",
     "output_type": "stream",
     "text": [
      "evaluating...: 100%|███████████████████████████████████████████████████████████████████| 12/12 [00:00<00:00, 18.29it/s]"
     ]
    },
    {
     "name": "stdout",
     "output_type": "stream",
     "text": [
      "Test Loss: 0.2254441144565741\n",
      "Classification Report:\n",
      "               precision    recall  f1-score   support\n",
      "\n",
      "           0     0.9306    0.9366    0.9336      2837\n",
      "           1     0.9364    0.9305    0.9335      2850\n",
      "\n",
      "    accuracy                         0.9335      5687\n",
      "   macro avg     0.9335    0.9335    0.9335      5687\n",
      "weighted avg     0.9336    0.9335    0.9335      5687\n",
      "\n"
     ]
    },
    {
     "name": "stderr",
     "output_type": "stream",
     "text": [
      "\n"
     ]
    }
   ],
   "source": [
    "from sklearn.metrics import classification_report\n",
    "\n",
    "def evaluate_with_report(data_loader, model, criterion):\n",
    "    model.eval()\n",
    "    epoch_losses = []\n",
    "    all_preds = []\n",
    "    all_labels = []\n",
    "    with torch.no_grad():\n",
    "        for batch in tqdm.tqdm(data_loader, desc=\"evaluating...\"):\n",
    "            ids = batch[\"ids\"]\n",
    "            labels = batch[\"label\"]\n",
    "            preds = model(ids)\n",
    "\n",
    "            # loss\n",
    "            loss = criterion(preds, labels)\n",
    "            epoch_losses.append(loss.item())\n",
    "\n",
    "            # prédictions finales (argmax si classification multi-classes)\n",
    "            pred_labels = preds.argmax(dim=1).cpu().numpy()\n",
    "            all_preds.extend(pred_labels)\n",
    "            all_labels.extend(labels.cpu().numpy())\n",
    "\n",
    "    avg_loss = np.mean(epoch_losses)\n",
    "    report = classification_report(all_labels, all_preds, digits=4)\n",
    "    return avg_loss, report\n",
    "\n",
    "\n",
    "# Exemple d'utilisation\n",
    "model.load_state_dict(torch.load(\"nbow.pt\"))\n",
    "\n",
    "test_loss, test_report = evaluate_with_report(test_data_loader, model, criterion)\n",
    "\n",
    "print(\"Test Loss:\", test_loss)\n",
    "print(\"Classification Report:\\n\", test_report)"
   ]
  },
  {
   "cell_type": "code",
   "execution_count": 183,
   "id": "e7b88b24-14d0-4796-aa5f-eb1595da8882",
   "metadata": {},
   "outputs": [],
   "source": [
    "def predict_sentiment(text, model):\n",
    "    tokens = nltk.word_tokenize(text)\n",
    "    ids = lookup_indices(tokens)\n",
    "    tensor = torch.LongTensor(ids).unsqueeze(dim=0)\n",
    "    prediction = model(tensor).squeeze(dim=0)\n",
    "    probability = torch.softmax(prediction, dim=-1)\n",
    "    predicted_class = prediction.argmax(dim=-1).item()\n",
    "    predicted_probability = probability[predicted_class].item()\n",
    "    return predicted_class, predicted_probability"
   ]
  },
  {
   "cell_type": "code",
   "execution_count": 188,
   "id": "28c4f9e9-33ef-4e4c-ab3b-a5ebc1a20916",
   "metadata": {},
   "outputs": [
    {
     "data": {
      "text/plain": [
       "(0, 0.999818742275238)"
      ]
     },
     "execution_count": 188,
     "metadata": {},
     "output_type": "execute_result"
    }
   ],
   "source": [
    "text = \"أنا لست بخير\"\n",
    "\n",
    "predict_sentiment(text, model)"
   ]
  },
  {
   "cell_type": "code",
   "execution_count": 197,
   "id": "cd263213-d3a9-4e6e-9858-85dd04c02c58",
   "metadata": {},
   "outputs": [
    {
     "data": {
      "text/plain": [
       "(1, 0.999980092048645)"
      ]
     },
     "execution_count": 197,
     "metadata": {},
     "output_type": "execute_result"
    }
   ],
   "source": [
    "text = \"الحمد لله على كل شيء\"\n",
    "\n",
    "predict_sentiment(text, model)"
   ]
  },
  {
   "cell_type": "markdown",
   "id": "dd9a93a5-4157-4a57-a8e6-ad3048376760",
   "metadata": {},
   "source": [
    "**Using Embeddings of a model pretrained**"
   ]
  },
  {
   "cell_type": "code",
   "execution_count": 198,
   "id": "c95a9ad9-23bb-4cc3-9a13-ee3799bc9b9d",
   "metadata": {},
   "outputs": [
    {
     "data": {
      "text/plain": [
       "Parameter containing:\n",
       "tensor([[ 1.8630, -0.3045, -0.8614,  ..., -0.1024, -0.0572,  1.7937],\n",
       "        [ 0.0000,  0.0000,  0.0000,  ...,  0.0000,  0.0000,  0.0000],\n",
       "        [ 1.6324,  1.1831,  1.4293,  ..., -0.4820,  2.2172,  1.7805],\n",
       "        ...,\n",
       "        [-0.1184, -0.5611,  0.6355,  ..., -0.1416, -0.5046,  1.6646],\n",
       "        [ 0.6114, -2.0983, -0.4004,  ..., -0.1809,  0.6680,  0.7047],\n",
       "        [-1.1145,  0.5268,  2.2645,  ...,  0.7976,  0.7215,  0.6390]],\n",
       "       requires_grad=True)"
      ]
     },
     "execution_count": 198,
     "metadata": {},
     "output_type": "execute_result"
    }
   ],
   "source": [
    "model.embedding.weight"
   ]
  },
  {
   "cell_type": "code",
   "execution_count": 199,
   "id": "012a03cc-9062-47c9-a857-a85c8e1d738f",
   "metadata": {},
   "outputs": [
    {
     "data": {
      "application/vnd.jupyter.widget-view+json": {
       "model_id": "f1f344450b8d4e52809f5fde4a48b7d2",
       "version_major": 2,
       "version_minor": 0
      },
      "text/plain": [
       "tokenizer_config.json:   0%|          | 0.00/62.0 [00:00<?, ?B/s]"
      ]
     },
     "metadata": {},
     "output_type": "display_data"
    },
    {
     "name": "stderr",
     "output_type": "stream",
     "text": [
      "C:\\Users\\user\\miniconda3\\envs\\data\\Lib\\site-packages\\huggingface_hub\\file_download.py:143: UserWarning: `huggingface_hub` cache-system uses symlinks by default to efficiently store duplicated files but your machine does not support them in C:\\Users\\user\\.cache\\huggingface\\hub\\models--asafaya--bert-base-arabic. Caching files will still work but in a degraded version that might require more space on your disk. This warning can be disabled by setting the `HF_HUB_DISABLE_SYMLINKS_WARNING` environment variable. For more details, see https://huggingface.co/docs/huggingface_hub/how-to-cache#limitations.\n",
      "To support symlinks on Windows, you either need to activate Developer Mode or to run Python as an administrator. In order to activate developer mode, see this article: https://docs.microsoft.com/en-us/windows/apps/get-started/enable-your-device-for-development\n",
      "  warnings.warn(message)\n"
     ]
    },
    {
     "data": {
      "application/vnd.jupyter.widget-view+json": {
       "model_id": "230f91f3552940dc87a6350abf99a392",
       "version_major": 2,
       "version_minor": 0
      },
      "text/plain": [
       "config.json:   0%|          | 0.00/491 [00:00<?, ?B/s]"
      ]
     },
     "metadata": {},
     "output_type": "display_data"
    },
    {
     "data": {
      "application/vnd.jupyter.widget-view+json": {
       "model_id": "819efcf6e9ba4d7485a05587451e3e07",
       "version_major": 2,
       "version_minor": 0
      },
      "text/plain": [
       "vocab.txt: 0.00B [00:00, ?B/s]"
      ]
     },
     "metadata": {},
     "output_type": "display_data"
    },
    {
     "data": {
      "application/vnd.jupyter.widget-view+json": {
       "model_id": "7ddadca994ff4b8d81474d8acb06e777",
       "version_major": 2,
       "version_minor": 0
      },
      "text/plain": [
       "special_tokens_map.json:   0%|          | 0.00/112 [00:00<?, ?B/s]"
      ]
     },
     "metadata": {},
     "output_type": "display_data"
    },
    {
     "name": "stderr",
     "output_type": "stream",
     "text": [
      "C:\\Users\\user\\miniconda3\\envs\\data\\Lib\\site-packages\\transformers\\tokenization_utils_base.py:1601: FutureWarning: `clean_up_tokenization_spaces` was not set. It will be set to `True` by default. This behavior will be depracted in transformers v4.45, and will be then set to `False` by default. For more details check this issue: https://github.com/huggingface/transformers/issues/31884\n",
      "  warnings.warn(\n"
     ]
    },
    {
     "data": {
      "application/vnd.jupyter.widget-view+json": {
       "model_id": "87c3e5c99589478bb2043a8e71195743",
       "version_major": 2,
       "version_minor": 0
      },
      "text/plain": [
       "model.safetensors:   0%|          | 0.00/445M [00:00<?, ?B/s]"
      ]
     },
     "metadata": {},
     "output_type": "display_data"
    },
    {
     "name": "stdout",
     "output_type": "stream",
     "text": [
      "Embedding matrix shape: torch.Size([89072, 128])\n"
     ]
    }
   ],
   "source": [
    "from transformers import AutoTokenizer, AutoModel\n",
    "\n",
    "pretrained_name = \"asafaya/bert-base-arabic\"\n",
    "tokenizer = AutoTokenizer.from_pretrained(pretrained_name)\n",
    "hf_model = AutoModel.from_pretrained(pretrained_name)\n",
    "\n",
    "hf_embeddings = hf_model.get_input_embeddings().weight.data  # (vocab_hf, 768)\n",
    "hf_dim = hf_embeddings.shape[1]\n",
    "\n",
    "\n",
    "target_dim = 128\n",
    "\n",
    "projection = nn.Linear(hf_dim, target_dim, bias=False)\n",
    "with torch.no_grad():\n",
    "    projected_hf_embeddings = projection(hf_embeddings)  # (vocab_hf, 128)\n",
    "\n",
    "new_weights = torch.zeros(len(stoi), target_dim)\n",
    "\n",
    "for word, idx in stoi.items():\n",
    "    sub_tokens = tokenizer.tokenize(word)\n",
    "    sub_ids = tokenizer.convert_tokens_to_ids(sub_tokens)\n",
    "\n",
    "    if len(sub_ids) > 0 and all(i != tokenizer.unk_token_id for i in sub_ids):\n",
    "        vecs = projected_hf_embeddings[sub_ids]\n",
    "        new_weights[idx] = vecs.mean(dim=0)\n",
    "    else:\n",
    "        new_weights[idx] = torch.randn(target_dim)\n",
    "\n",
    "embedding_layer = nn.Embedding.from_pretrained(new_weights, freeze=False)\n",
    "\n",
    "print(\"Embedding matrix shape:\", embedding_layer.weight.shape)"
   ]
  },
  {
   "cell_type": "code",
   "execution_count": 202,
   "id": "48954e12-54a6-4280-9522-69fa863ce7d3",
   "metadata": {},
   "outputs": [],
   "source": [
    "vocab_size = len(stoi)\n",
    "embedding_dim = 128\n",
    "output_dim = len(train_data.unique(\"label\"))\n",
    "\n",
    "model = NBoW(vocab_size, embedding_dim, output_dim, pad_index)"
   ]
  },
  {
   "cell_type": "code",
   "execution_count": 200,
   "id": "3b2b365b-c731-4803-94d6-f0001285b016",
   "metadata": {},
   "outputs": [
    {
     "data": {
      "text/plain": [
       "Parameter containing:\n",
       "tensor([[ 0.0196,  0.0182, -0.0089,  ..., -0.0046,  0.0084,  0.0085],\n",
       "        [ 0.0195,  0.0300, -0.0205,  ..., -0.0093, -0.0004, -0.0024],\n",
       "        [ 0.0043,  0.0354, -0.0466,  ..., -0.0124,  0.0010, -0.0119],\n",
       "        ...,\n",
       "        [ 0.0000,  0.0000,  0.0000,  ...,  0.0000,  0.0000,  0.0000],\n",
       "        [ 0.0000,  0.0000,  0.0000,  ...,  0.0000,  0.0000,  0.0000],\n",
       "        [ 0.0000,  0.0000,  0.0000,  ...,  0.0000,  0.0000,  0.0000]],\n",
       "       requires_grad=True)"
      ]
     },
     "execution_count": 200,
     "metadata": {},
     "output_type": "execute_result"
    }
   ],
   "source": [
    "embedding_layer.weight"
   ]
  },
  {
   "cell_type": "code",
   "execution_count": 203,
   "id": "9ef13ad9-d2da-4c65-ac0c-530dbc68772b",
   "metadata": {},
   "outputs": [],
   "source": [
    "model.embedding.weight.data = embedding_layer.weight"
   ]
  },
  {
   "cell_type": "code",
   "execution_count": 204,
   "id": "81b9b7dd-9fdc-4bc4-a4b0-6e80e5958ecf",
   "metadata": {},
   "outputs": [
    {
     "data": {
      "text/plain": [
       "Parameter containing:\n",
       "tensor([[ 0.0196,  0.0182, -0.0089,  ..., -0.0046,  0.0084,  0.0085],\n",
       "        [ 0.0195,  0.0300, -0.0205,  ..., -0.0093, -0.0004, -0.0024],\n",
       "        [ 0.0043,  0.0354, -0.0466,  ..., -0.0124,  0.0010, -0.0119],\n",
       "        ...,\n",
       "        [ 0.0000,  0.0000,  0.0000,  ...,  0.0000,  0.0000,  0.0000],\n",
       "        [ 0.0000,  0.0000,  0.0000,  ...,  0.0000,  0.0000,  0.0000],\n",
       "        [ 0.0000,  0.0000,  0.0000,  ...,  0.0000,  0.0000,  0.0000]],\n",
       "       requires_grad=True)"
      ]
     },
     "execution_count": 204,
     "metadata": {},
     "output_type": "execute_result"
    }
   ],
   "source": [
    "model.embedding.weight"
   ]
  },
  {
   "cell_type": "code",
   "execution_count": 205,
   "id": "3c0c306f-6d1a-4cb6-9d71-48163d2027c4",
   "metadata": {},
   "outputs": [],
   "source": [
    "optimizer = optim.Adam(model.parameters())\n",
    "criterion = nn.CrossEntropyLoss()"
   ]
  },
  {
   "cell_type": "code",
   "execution_count": 207,
   "id": "48b15066-a3c4-4a64-bf87-122cd5501375",
   "metadata": {},
   "outputs": [
    {
     "name": "stderr",
     "output_type": "stream",
     "text": [
      "training...: 100%|█████████████████████████████████████████████████████████████████████| 89/89 [00:12<00:00,  7.06it/s]\n",
      "evaluating...: 100%|███████████████████████████████████████████████████████████████████| 12/12 [00:00<00:00, 17.92it/s]\n"
     ]
    },
    {
     "name": "stdout",
     "output_type": "stream",
     "text": [
      "epoch: 0\n",
      "train_loss: 0.679, train_acc: 0.610\n",
      "valid_loss: 0.656, valid_acc: 0.764\n"
     ]
    },
    {
     "name": "stderr",
     "output_type": "stream",
     "text": [
      "training...: 100%|█████████████████████████████████████████████████████████████████████| 89/89 [00:12<00:00,  7.04it/s]\n",
      "evaluating...: 100%|███████████████████████████████████████████████████████████████████| 12/12 [00:00<00:00, 13.73it/s]\n"
     ]
    },
    {
     "name": "stdout",
     "output_type": "stream",
     "text": [
      "epoch: 1\n",
      "train_loss: 0.597, train_acc: 0.808\n",
      "valid_loss: 0.566, valid_acc: 0.823\n"
     ]
    },
    {
     "name": "stderr",
     "output_type": "stream",
     "text": [
      "training...: 100%|█████████████████████████████████████████████████████████████████████| 89/89 [00:17<00:00,  5.20it/s]\n",
      "evaluating...: 100%|███████████████████████████████████████████████████████████████████| 12/12 [00:00<00:00, 12.47it/s]\n"
     ]
    },
    {
     "name": "stdout",
     "output_type": "stream",
     "text": [
      "epoch: 2\n",
      "train_loss: 0.490, train_acc: 0.877\n",
      "valid_loss: 0.489, valid_acc: 0.882\n"
     ]
    },
    {
     "name": "stderr",
     "output_type": "stream",
     "text": [
      "training...: 100%|█████████████████████████████████████████████████████████████████████| 89/89 [00:17<00:00,  5.08it/s]\n",
      "evaluating...: 100%|███████████████████████████████████████████████████████████████████| 12/12 [00:01<00:00,  9.03it/s]\n"
     ]
    },
    {
     "name": "stdout",
     "output_type": "stream",
     "text": [
      "epoch: 3\n",
      "train_loss: 0.439, train_acc: 0.909\n",
      "valid_loss: 0.435, valid_acc: 0.912\n"
     ]
    },
    {
     "name": "stderr",
     "output_type": "stream",
     "text": [
      "training...: 100%|█████████████████████████████████████████████████████████████████████| 89/89 [00:18<00:00,  4.88it/s]\n",
      "evaluating...: 100%|███████████████████████████████████████████████████████████████████| 12/12 [00:00<00:00, 13.02it/s]\n"
     ]
    },
    {
     "name": "stdout",
     "output_type": "stream",
     "text": [
      "epoch: 4\n",
      "train_loss: 0.373, train_acc: 0.935\n",
      "valid_loss: 0.391, valid_acc: 0.927\n"
     ]
    },
    {
     "name": "stderr",
     "output_type": "stream",
     "text": [
      "training...: 100%|█████████████████████████████████████████████████████████████████████| 89/89 [00:17<00:00,  5.06it/s]\n",
      "evaluating...: 100%|███████████████████████████████████████████████████████████████████| 12/12 [00:00<00:00, 12.23it/s]\n"
     ]
    },
    {
     "name": "stdout",
     "output_type": "stream",
     "text": [
      "epoch: 5\n",
      "train_loss: 0.326, train_acc: 0.946\n",
      "valid_loss: 0.358, valid_acc: 0.938\n"
     ]
    },
    {
     "name": "stderr",
     "output_type": "stream",
     "text": [
      "training...: 100%|█████████████████████████████████████████████████████████████████████| 89/89 [00:17<00:00,  5.15it/s]\n",
      "evaluating...: 100%|███████████████████████████████████████████████████████████████████| 12/12 [00:00<00:00, 13.05it/s]\n"
     ]
    },
    {
     "name": "stdout",
     "output_type": "stream",
     "text": [
      "epoch: 6\n",
      "train_loss: 0.293, train_acc: 0.953\n",
      "valid_loss: 0.332, valid_acc: 0.943\n"
     ]
    },
    {
     "name": "stderr",
     "output_type": "stream",
     "text": [
      "training...: 100%|█████████████████████████████████████████████████████████████████████| 89/89 [00:17<00:00,  5.19it/s]\n",
      "evaluating...: 100%|███████████████████████████████████████████████████████████████████| 12/12 [00:00<00:00, 13.34it/s]\n"
     ]
    },
    {
     "name": "stdout",
     "output_type": "stream",
     "text": [
      "epoch: 7\n",
      "train_loss: 0.266, train_acc: 0.958\n",
      "valid_loss: 0.311, valid_acc: 0.945\n"
     ]
    },
    {
     "name": "stderr",
     "output_type": "stream",
     "text": [
      "training...: 100%|█████████████████████████████████████████████████████████████████████| 89/89 [00:17<00:00,  5.13it/s]\n",
      "evaluating...: 100%|███████████████████████████████████████████████████████████████████| 12/12 [00:00<00:00, 13.12it/s]\n"
     ]
    },
    {
     "name": "stdout",
     "output_type": "stream",
     "text": [
      "epoch: 8\n",
      "train_loss: 0.241, train_acc: 0.961\n",
      "valid_loss: 0.295, valid_acc: 0.947\n"
     ]
    },
    {
     "name": "stderr",
     "output_type": "stream",
     "text": [
      "training...: 100%|█████████████████████████████████████████████████████████████████████| 89/89 [00:17<00:00,  5.16it/s]\n",
      "evaluating...: 100%|███████████████████████████████████████████████████████████████████| 12/12 [00:00<00:00, 12.98it/s]"
     ]
    },
    {
     "name": "stdout",
     "output_type": "stream",
     "text": [
      "epoch: 9\n",
      "train_loss: 0.244, train_acc: 0.964\n",
      "valid_loss: 0.281, valid_acc: 0.948\n"
     ]
    },
    {
     "name": "stderr",
     "output_type": "stream",
     "text": [
      "\n"
     ]
    }
   ],
   "source": [
    "n_epochs = 10\n",
    "best_valid_loss = float(\"inf\")\n",
    "\n",
    "metrics = collections.defaultdict(list)\n",
    "\n",
    "for epoch in range(n_epochs):\n",
    "    train_loss, train_acc = train(\n",
    "        train_data_loader, model, criterion, optimizer\n",
    "    )\n",
    "    valid_loss, valid_acc = evaluate(valid_data_loader, model, criterion)\n",
    "    metrics[\"train_losses\"].append(train_loss)\n",
    "    metrics[\"train_accs\"].append(train_acc)\n",
    "    metrics[\"valid_losses\"].append(valid_loss)\n",
    "    metrics[\"valid_accs\"].append(valid_acc)\n",
    "    if valid_loss < best_valid_loss:\n",
    "        best_valid_loss = valid_loss\n",
    "        torch.save(model.state_dict(), \"nbow_emb_pretrained.pt\")\n",
    "    print(f\"epoch: {epoch}\")\n",
    "    print(f\"train_loss: {train_loss:.3f}, train_acc: {train_acc:.3f}\")\n",
    "    print(f\"valid_loss: {valid_loss:.3f}, valid_acc: {valid_acc:.3f}\")"
   ]
  },
  {
   "cell_type": "code",
   "execution_count": 208,
   "id": "15cb8777-77a8-465d-b256-dfd3ce67e8ce",
   "metadata": {},
   "outputs": [
    {
     "data": {
      "image/png": "[encoded data removed]",
      "text/plain": [
       "<Figure size 1000x600 with 1 Axes>"
      ]
     },
     "metadata": {},
     "output_type": "display_data"
    }
   ],
   "source": [
    "fig = plt.figure(figsize=(10, 6))\n",
    "ax = fig.add_subplot(1, 1, 1)\n",
    "ax.plot(metrics[\"train_losses\"], label=\"train loss\")\n",
    "ax.plot(metrics[\"valid_losses\"], label=\"valid loss\")\n",
    "ax.set_xlabel(\"epoch\")\n",
    "ax.set_ylabel(\"loss\")\n",
    "ax.set_xticks(range(n_epochs))\n",
    "ax.legend()\n",
    "ax.grid()"
   ]
  },
  {
   "cell_type": "code",
   "execution_count": 209,
   "id": "b05dc2d4-255d-49f2-9a20-5f668df30f74",
   "metadata": {},
   "outputs": [
    {
     "data": {
      "image/png": "[encoded data removed]",
      "text/plain": [
       "<Figure size 1000x600 with 1 Axes>"
      ]
     },
     "metadata": {},
     "output_type": "display_data"
    }
   ],
   "source": [
    "fig = plt.figure(figsize=(10, 6))\n",
    "ax = fig.add_subplot(1, 1, 1)\n",
    "ax.plot(metrics[\"train_accs\"], label=\"train accuracy\")\n",
    "ax.plot(metrics[\"valid_accs\"], label=\"valid accuracy\")\n",
    "ax.set_xlabel(\"epoch\")\n",
    "ax.set_ylabel(\"loss\")\n",
    "ax.set_xticks(range(n_epochs))\n",
    "ax.legend()\n",
    "ax.grid()"
   ]
  },
  {
   "cell_type": "code",
   "execution_count": 210,
   "id": "93aa733a-a85b-4c7e-9a0b-b44dbb4cdf55",
   "metadata": {},
   "outputs": [
    {
     "name": "stderr",
     "output_type": "stream",
     "text": [
      "evaluating...: 100%|███████████████████████████████████████████████████████████████████| 12/12 [00:00<00:00, 19.26it/s]\n"
     ]
    }
   ],
   "source": [
    "model.load_state_dict(torch.load(\"nbow_emb_pretrained.pt\"))\n",
    "\n",
    "test_loss, test_acc = evaluate(test_data_loader, model, criterion)"
   ]
  },
  {
   "cell_type": "code",
   "execution_count": 211,
   "id": "9a19c231-ed27-4ede-883e-25883500c647",
   "metadata": {},
   "outputs": [
    {
     "name": "stdout",
     "output_type": "stream",
     "text": [
      "test_loss: 0.207, test_acc: 0.942\n"
     ]
    }
   ],
   "source": [
    "print(f\"test_loss: {test_loss:.3f}, test_acc: {test_acc:.3f}\")"
   ]
  },
  {
   "cell_type": "code",
   "execution_count": 214,
   "id": "ae2d241b-e8d7-4d61-92f6-3442c6201080",
   "metadata": {},
   "outputs": [
    {
     "name": "stderr",
     "output_type": "stream",
     "text": [
      "evaluating...: 100%|███████████████████████████████████████████████████████████████████| 12/12 [00:00<00:00, 20.37it/s]\n",
      "evaluating...: 100%|███████████████████████████████████████████████████████████████████| 12/12 [00:00<00:00, 19.87it/s]\n"
     ]
    },
    {
     "data": {
      "image/png": "[encoded data removed]",
      "text/plain": [
       "<Figure size 600x400 with 1 Axes>"
      ]
     },
     "metadata": {},
     "output_type": "display_data"
    },
    {
     "data": {
      "image/png": "[encoded data removed]",
      "text/plain": [
       "<Figure size 600x400 with 1 Axes>"
      ]
     },
     "metadata": {},
     "output_type": "display_data"
    }
   ],
   "source": [
    "def eval_model(path):\n",
    "    model.load_state_dict(torch.load(path))\n",
    "    loss, acc = evaluate(test_data_loader, model, criterion)\n",
    "    return loss, acc\n",
    "\n",
    "loss_pretrained, acc_pretrained = eval_model(\"nbow_emb_pretrained.pt\")\n",
    "loss_random, acc_random = eval_model(\"nbow_emb.pt\")\n",
    "\n",
    "labels = [\"Random Embedding\", \"Pretrained Embedding\"]\n",
    "losses = [loss_random, loss_pretrained]\n",
    "accs = [acc_random, acc_pretrained]\n",
    "\n",
    "# -------------------------------\n",
    "# Plot Comparaison Accuracy\n",
    "# -------------------------------\n",
    "plt.figure(figsize=(6,4))\n",
    "bars = plt.bar(labels, accs, color=[\"red\", \"green\"])\n",
    "plt.ylabel(\"Accuracy\")\n",
    "plt.title(\"Accuracy Comparison\")\n",
    "plt.ylim(0, 1)\n",
    "for bar, val in zip(bars, accs):\n",
    "    plt.text(bar.get_x() + bar.get_width()/2, bar.get_height(),\n",
    "             f\"{val:.3f}\", ha=\"center\", va=\"bottom\")\n",
    "plt.show()\n",
    "\n",
    "# -------------------------------\n",
    "# Plot Comparaison Loss\n",
    "# -------------------------------\n",
    "plt.figure(figsize=(6,4))\n",
    "bars = plt.bar(labels, losses, color=[\"red\", \"green\"])\n",
    "plt.ylabel(\"Loss\")\n",
    "plt.title(\"Loss Comparison\")\n",
    "for bar, val in zip(bars, losses):\n",
    "    plt.text(bar.get_x() + bar.get_width()/2, bar.get_height(),\n",
    "             f\"{val:.3f}\", ha=\"center\", va=\"bottom\")\n",
    "plt.show()"
   ]
  }
 ],
 "metadata": {
  "kernelspec": {
   "display_name": "data",
   "language": "python",
   "name": "data"
  },
  "language_info": {
   "codemirror_mode": {
    "name": "ipython",
    "version": 3
   },
   "file_extension": ".py",
   "mimetype": "text/x-python",
   "name": "python",
   "nbconvert_exporter": "python",
   "pygments_lexer": "ipython3",
   "version": "3.11.13"
  }
 },
 "nbformat": 4,
 "nbformat_minor": 5
}
