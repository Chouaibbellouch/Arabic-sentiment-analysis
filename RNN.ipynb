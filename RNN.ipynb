{
 "cells": [
  {
   "cell_type": "markdown",
   "id": "3e2c6c7b-4734-419f-89f8-6c045db34b8d",
   "metadata": {},
   "source": [
    "**Importing Modules**"
   ]
  },
  {
   "cell_type": "code",
   "execution_count": 77,
   "id": "7f24740d-097e-404b-89d7-49b3e0f1cbd7",
   "metadata": {},
   "outputs": [],
   "source": [
    "import collections\n",
    "\n",
    "import datasets\n",
    "import matplotlib.pyplot as plt\n",
    "import numpy as np\n",
    "import torch\n",
    "import torch.nn as nn\n",
    "import torch.optim as optim\n",
    "import tqdm\n",
    "import nltk\n",
    "import time"
   ]
  },
  {
   "cell_type": "code",
   "execution_count": 2,
   "id": "53a5552f-f876-4e8d-97a5-466c7099974b",
   "metadata": {},
   "outputs": [],
   "source": [
    "seed = 1306\n",
    "\n",
    "np.random.seed(seed)\n",
    "torch.manual_seed(seed)\n",
    "torch.backends.cudnn.deterministic = True"
   ]
  },
  {
   "cell_type": "markdown",
   "id": "07f2c13d-93c2-4b87-9580-8355031f0d18",
   "metadata": {},
   "source": [
    "**Loading the Dataset**"
   ]
  },
  {
   "cell_type": "code",
   "execution_count": 3,
   "id": "c3c2fc89-62f9-43dc-a885-29392f68153a",
   "metadata": {},
   "outputs": [
    {
     "name": "stderr",
     "output_type": "stream",
     "text": [
      "Repo card metadata block was not found. Setting CardData to empty.\n"
     ]
    }
   ],
   "source": [
    "ds = datasets.load_dataset('arbml/Arabic_Sentiment_Twitter_Corpus')"
   ]
  },
  {
   "cell_type": "code",
   "execution_count": 4,
   "id": "7371bc59-7522-40fc-85f0-0ea09de92ad6",
   "metadata": {},
   "outputs": [
    {
     "data": {
      "text/plain": [
       "DatasetDict({\n",
       "    train: Dataset({\n",
       "        features: ['tweet', 'label'],\n",
       "        num_rows: 47000\n",
       "    })\n",
       "    test: Dataset({\n",
       "        features: ['tweet', 'label'],\n",
       "        num_rows: 11751\n",
       "    })\n",
       "})"
      ]
     },
     "execution_count": 4,
     "metadata": {},
     "output_type": "execute_result"
    }
   ],
   "source": [
    "ds"
   ]
  },
  {
   "cell_type": "code",
   "execution_count": 5,
   "id": "faa60856-67d2-4b66-a711-326b1e1a154c",
   "metadata": {},
   "outputs": [],
   "source": [
    "train_val_test = ds['test'].train_test_split(test_size=0.5, seed=42)\n",
    "\n",
    "ds = {\n",
    "    \"train\": ds[\"train\"],\n",
    "    \"validation\": train_val_test[\"train\"],\n",
    "    \"test\": train_val_test[\"test\"],\n",
    "}"
   ]
  },
  {
   "cell_type": "code",
   "execution_count": 6,
   "id": "64aaae4c-8eef-49dc-b7c8-f502ef390e3e",
   "metadata": {},
   "outputs": [
    {
     "data": {
      "text/plain": [
       "{'train': Dataset({\n",
       "     features: ['tweet', 'label'],\n",
       "     num_rows: 47000\n",
       " }),\n",
       " 'validation': Dataset({\n",
       "     features: ['tweet', 'label'],\n",
       "     num_rows: 5875\n",
       " }),\n",
       " 'test': Dataset({\n",
       "     features: ['tweet', 'label'],\n",
       "     num_rows: 5876\n",
       " })}"
      ]
     },
     "execution_count": 6,
     "metadata": {},
     "output_type": "execute_result"
    }
   ],
   "source": [
    "ds"
   ]
  },
  {
   "cell_type": "code",
   "execution_count": 7,
   "id": "e5a6e2bd-1b1c-45c2-adbe-b3a0b34c630c",
   "metadata": {},
   "outputs": [
    {
     "data": {
      "text/plain": [
       "{'tweet': 'اعترف ان بتس كانو شوي شوي يجيبو راسي لكن اليوم بالزايد 😭',\n",
       " 'label': 0}"
      ]
     },
     "execution_count": 7,
     "metadata": {},
     "output_type": "execute_result"
    }
   ],
   "source": [
    "ds['train'][0]"
   ]
  },
  {
   "cell_type": "code",
   "execution_count": 8,
   "id": "9c692cf1-1b7d-4d8c-af1a-cd4ac4869696",
   "metadata": {},
   "outputs": [
    {
     "data": {
      "text/plain": [
       "{'tweet': Value('string'), 'label': ClassLabel(names=['neg', 'pos'])}"
      ]
     },
     "execution_count": 8,
     "metadata": {},
     "output_type": "execute_result"
    }
   ],
   "source": [
    "ds['train'].features"
   ]
  },
  {
   "cell_type": "code",
   "execution_count": 9,
   "id": "29caadca-f741-4ddb-b0d1-f3a248d705fb",
   "metadata": {},
   "outputs": [],
   "source": [
    "from datasets import Features, Value, ClassLabel, Sequence\n",
    "\n",
    "target_features = Features({\n",
    "    \"tweet\": Value(\"string\"),\n",
    "    \"label\": ClassLabel(names=[\"neg\", \"pos\"]),\n",
    "    \"tokens\": Sequence(Value(\"string\")),\n",
    "    \"length\": Value(\"int32\"),\n",
    "})"
   ]
  },
  {
   "cell_type": "markdown",
   "id": "722816f5-9a89-4035-8ac0-faa3a02f0860",
   "metadata": {},
   "source": [
    "**Tokenization**"
   ]
  },
  {
   "cell_type": "code",
   "execution_count": 10,
   "id": "4609d440-c49b-4d75-9f1c-a790682d3d50",
   "metadata": {},
   "outputs": [
    {
     "name": "stderr",
     "output_type": "stream",
     "text": [
      "[nltk_data] Downloading package punkt_tab to\n",
      "[nltk_data]     C:\\Users\\user\\AppData\\Roaming\\nltk_data...\n",
      "[nltk_data]   Package punkt_tab is already up-to-date!\n"
     ]
    },
    {
     "data": {
      "text/plain": [
       "True"
      ]
     },
     "execution_count": 10,
     "metadata": {},
     "output_type": "execute_result"
    }
   ],
   "source": [
    "nltk.download(\"punkt_tab\")"
   ]
  },
  {
   "cell_type": "code",
   "execution_count": 11,
   "id": "9ff2258b-d410-4119-b509-9ab9b7a8532c",
   "metadata": {},
   "outputs": [
    {
     "name": "stdout",
     "output_type": "stream",
     "text": [
      "['اعترف', 'ان', 'بتس', 'كانو', 'شوي', 'شوي', 'يجيبو', 'راسي', 'لكن', 'اليوم', 'بالزايد', '😭']\n"
     ]
    }
   ],
   "source": [
    "text = 'اعترف ان بتس كانو شوي شوي يجيبو راسي لكن اليوم بالزايد 😭'\n",
    "print(nltk.word_tokenize(text))"
   ]
  },
  {
   "cell_type": "code",
   "execution_count": 12,
   "id": "59b58c35-2b5e-4f70-b42a-2c4ffd6ec08a",
   "metadata": {},
   "outputs": [],
   "source": [
    "def tokenize(example, tokenizer, max_length):\n",
    "    tokens = tokenizer(example[\"tweet\"])[:max_length]\n",
    "    length = len(tokens)\n",
    "    return {\"tokens\": tokens, \"length\": length}"
   ]
  },
  {
   "cell_type": "code",
   "execution_count": 13,
   "id": "2b8d0013-a33c-4860-9120-94d8f52e9ee3",
   "metadata": {},
   "outputs": [],
   "source": [
    "max_length = 256\n",
    "\n",
    "train_data = ds['train'].map(\n",
    "    tokenize, fn_kwargs={\"tokenizer\": nltk.word_tokenize, \"max_length\": max_length}, features=target_features\n",
    ")\n",
    "valid_data = ds['validation'].map(\n",
    "    tokenize, fn_kwargs={\"tokenizer\": nltk.word_tokenize, \"max_length\": max_length}, features=target_features\n",
    ")\n",
    "test_data = ds['test'].map(\n",
    "    tokenize, fn_kwargs={\"tokenizer\": nltk.word_tokenize, \"max_length\": max_length}, features=target_features\n",
    ")"
   ]
  },
  {
   "cell_type": "code",
   "execution_count": 14,
   "id": "7004b787-1c8e-4b09-94c7-31f238349c91",
   "metadata": {},
   "outputs": [
    {
     "data": {
      "text/plain": [
       "{'tweet': 'اعترف ان بتس كانو شوي شوي يجيبو راسي لكن اليوم بالزايد 😭',\n",
       " 'label': 0,\n",
       " 'tokens': ['اعترف',\n",
       "  'ان',\n",
       "  'بتس',\n",
       "  'كانو',\n",
       "  'شوي',\n",
       "  'شوي',\n",
       "  'يجيبو',\n",
       "  'راسي',\n",
       "  'لكن',\n",
       "  'اليوم',\n",
       "  'بالزايد',\n",
       "  '😭'],\n",
       " 'length': 12}"
      ]
     },
     "execution_count": 14,
     "metadata": {},
     "output_type": "execute_result"
    }
   ],
   "source": [
    "train_data[0]"
   ]
  },
  {
   "cell_type": "code",
   "execution_count": 15,
   "id": "3b53ae69-b0a0-4869-8e63-da3027ded771",
   "metadata": {},
   "outputs": [
    {
     "data": {
      "text/plain": [
       "{'tweet': Value('string'),\n",
       " 'label': ClassLabel(names=['neg', 'pos']),\n",
       " 'tokens': List(Value('string')),\n",
       " 'length': Value('int32')}"
      ]
     },
     "execution_count": 15,
     "metadata": {},
     "output_type": "execute_result"
    }
   ],
   "source": [
    "train_data.features"
   ]
  },
  {
   "cell_type": "code",
   "execution_count": 16,
   "id": "8ef75665-764a-45d7-ba69-7caec2f094f8",
   "metadata": {},
   "outputs": [
    {
     "data": {
      "text/plain": [
       "(47000, 5875, 5876)"
      ]
     },
     "execution_count": 16,
     "metadata": {},
     "output_type": "execute_result"
    }
   ],
   "source": [
    "len(train_data), len(valid_data), len(test_data)"
   ]
  },
  {
   "cell_type": "markdown",
   "id": "45f1ae85-5b29-4008-8b36-990fe0034049",
   "metadata": {},
   "source": [
    "**Creating a Vocabulary**"
   ]
  },
  {
   "cell_type": "code",
   "execution_count": 17,
   "id": "172fef5f-d7f7-4314-9b27-3e60ad4933e5",
   "metadata": {},
   "outputs": [],
   "source": [
    "from collections import Counter\n",
    "\n",
    "counter = Counter(token for tokens in train_data[\"tokens\"] for token in tokens)\n",
    "special_tokens = [\"<unk>\", \"<pad>\"]\n",
    "stoi = {tok: i for i, tok in enumerate(special_tokens + [t for t, c in counter.items() if c >= 5])}\n",
    "itos = {i: tok for tok, i in stoi.items()}"
   ]
  },
  {
   "cell_type": "code",
   "execution_count": 18,
   "id": "12729d60-2ba8-49d9-a82b-f4aae5a6c3c2",
   "metadata": {},
   "outputs": [
    {
     "data": {
      "text/plain": [
       "14926"
      ]
     },
     "execution_count": 18,
     "metadata": {},
     "output_type": "execute_result"
    }
   ],
   "source": [
    "len(stoi)"
   ]
  },
  {
   "cell_type": "code",
   "execution_count": 19,
   "id": "71a18239-cd9c-4ac7-b460-ef76c038046a",
   "metadata": {},
   "outputs": [],
   "source": [
    "unk_index = stoi[\"<unk>\"]\n",
    "pad_index = stoi[\"<pad>\"]"
   ]
  },
  {
   "cell_type": "code",
   "execution_count": 20,
   "id": "10f9fe8a-272a-4648-8d50-018656d2c569",
   "metadata": {},
   "outputs": [],
   "source": [
    "# For the tokens that doesn't exist in stoi we should return unk_index\n",
    "from collections import defaultdict\n",
    "stoi = defaultdict(lambda: unk_index, stoi)"
   ]
  },
  {
   "cell_type": "code",
   "execution_count": 21,
   "id": "197e17f3-881d-40ef-a59b-baf021c8c83f",
   "metadata": {},
   "outputs": [],
   "source": [
    "def lookup_indices(tokens):\n",
    "    return [stoi[token] for token in tokens]"
   ]
  },
  {
   "cell_type": "code",
   "execution_count": 22,
   "id": "e11cde0f-f4e9-40bb-a664-66cfd54c02e4",
   "metadata": {},
   "outputs": [],
   "source": [
    "def lookup_tokens(ids):\n",
    "    return [itos[Id] for Id in ids]"
   ]
  },
  {
   "cell_type": "code",
   "execution_count": 23,
   "id": "f5eec864-351f-4b6a-9a23-f7c92a3ad56b",
   "metadata": {},
   "outputs": [
    {
     "data": {
      "text/plain": [
       "[0, 6185, 239, 0, 4612, 3551]"
      ]
     },
     "execution_count": 23,
     "metadata": {},
     "output_type": "execute_result"
    }
   ],
   "source": [
    "lookup_indices(['رغبتك', 'تنزل', 'ع', 'سمعي', 'مطر', '💙'])"
   ]
  },
  {
   "cell_type": "markdown",
   "id": "1c7bf96b-7089-415b-a8e8-646433bdf060",
   "metadata": {},
   "source": [
    "**Numericalizing Data**"
   ]
  },
  {
   "cell_type": "code",
   "execution_count": 24,
   "id": "4a0ffcf4-036a-4f97-b787-6a7c28319c32",
   "metadata": {},
   "outputs": [],
   "source": [
    "def numericalize_example(example):\n",
    "    ids = lookup_indices(example[\"tokens\"])\n",
    "    return {\"ids\": ids}"
   ]
  },
  {
   "cell_type": "code",
   "execution_count": 25,
   "id": "65737d84-aec4-413b-acfb-4926f03a7950",
   "metadata": {},
   "outputs": [
    {
     "data": {
      "application/vnd.jupyter.widget-view+json": {
       "model_id": "4ad26449698c4887b8a68bf6b001c680",
       "version_major": 2,
       "version_minor": 0
      },
      "text/plain": [
       "Map:   0%|          | 0/5875 [00:00<?, ? examples/s]"
      ]
     },
     "metadata": {},
     "output_type": "display_data"
    },
    {
     "data": {
      "application/vnd.jupyter.widget-view+json": {
       "model_id": "df80f2443b0f48988c151464c0a0be0b",
       "version_major": 2,
       "version_minor": 0
      },
      "text/plain": [
       "Map:   0%|          | 0/5876 [00:00<?, ? examples/s]"
      ]
     },
     "metadata": {},
     "output_type": "display_data"
    }
   ],
   "source": [
    "train_data = train_data.map(numericalize_example)\n",
    "valid_data = valid_data.map(numericalize_example)\n",
    "test_data = test_data.map(numericalize_example)"
   ]
  },
  {
   "cell_type": "code",
   "execution_count": 26,
   "id": "c94a4adf-318a-4cf1-bae8-ce9e6af2c0b2",
   "metadata": {},
   "outputs": [
    {
     "data": {
      "text/plain": [
       "{'tweet': '#الهلال ب مدافع و محاور سوال ل الكوتش #زوران الفريق اللي ناقص لاعب مين ؟؟ 🤔 #الاهلي_الهلال',\n",
       " 'label': 0,\n",
       " 'tokens': ['#',\n",
       "  'الهلال',\n",
       "  'ب',\n",
       "  'مدافع',\n",
       "  'و',\n",
       "  'محاور',\n",
       "  'سوال',\n",
       "  'ل',\n",
       "  'الكوتش',\n",
       "  '#',\n",
       "  'زوران',\n",
       "  'الفريق',\n",
       "  'اللي',\n",
       "  'ناقص',\n",
       "  'لاعب',\n",
       "  'مين',\n",
       "  '؟؟',\n",
       "  '🤔',\n",
       "  '#',\n",
       "  'الاهلي_الهلال'],\n",
       " 'length': 20,\n",
       " 'ids': [22,\n",
       "  28,\n",
       "  407,\n",
       "  0,\n",
       "  53,\n",
       "  9026,\n",
       "  0,\n",
       "  380,\n",
       "  0,\n",
       "  22,\n",
       "  2015,\n",
       "  5001,\n",
       "  890,\n",
       "  2296,\n",
       "  1669,\n",
       "  374,\n",
       "  982,\n",
       "  101,\n",
       "  22,\n",
       "  23]}"
      ]
     },
     "execution_count": 26,
     "metadata": {},
     "output_type": "execute_result"
    }
   ],
   "source": [
    "test_data[0]"
   ]
  },
  {
   "cell_type": "code",
   "execution_count": 27,
   "id": "50be71a1-62fa-4e22-bc02-a8ce543c09d1",
   "metadata": {},
   "outputs": [
    {
     "data": {
      "text/plain": [
       "'لو بيدي أرجع ساعتي وين أرجع؟ إليا صدفه؟ والله أبقى أفر بيها لما ترجع بشر ماعرفه! وأنهي العلاقة من العرق.. قبل الدمع…'"
      ]
     },
     "execution_count": 27,
     "metadata": {},
     "output_type": "execute_result"
    }
   ],
   "source": [
    "train_data[10]['tweet']"
   ]
  },
  {
   "cell_type": "code",
   "execution_count": 28,
   "id": "60bedb0f-4323-447b-8453-ad22f857f196",
   "metadata": {},
   "outputs": [
    {
     "data": {
      "text/plain": [
       "['لو',\n",
       " 'بيدي',\n",
       " 'أرجع',\n",
       " 'ساعتي',\n",
       " 'وين',\n",
       " 'أرجع؟',\n",
       " 'إليا',\n",
       " 'صدفه؟',\n",
       " 'والله',\n",
       " 'أبقى',\n",
       " 'أفر',\n",
       " 'بيها',\n",
       " 'لما',\n",
       " 'ترجع',\n",
       " 'بشر',\n",
       " 'ماعرفه',\n",
       " '!',\n",
       " 'وأنهي',\n",
       " 'العلاقة',\n",
       " 'من',\n",
       " 'العرق',\n",
       " '..',\n",
       " 'قبل',\n",
       " 'الدمع…']"
      ]
     },
     "execution_count": 28,
     "metadata": {},
     "output_type": "execute_result"
    }
   ],
   "source": [
    "train_data[10][\"tokens\"][:30]"
   ]
  },
  {
   "cell_type": "code",
   "execution_count": 29,
   "id": "87243e80-cec2-4677-a1c0-5d04b4bc888f",
   "metadata": {},
   "outputs": [
    {
     "data": {
      "text/plain": [
       "[106,\n",
       " 107,\n",
       " 108,\n",
       " 0,\n",
       " 109,\n",
       " 0,\n",
       " 0,\n",
       " 0,\n",
       " 110,\n",
       " 111,\n",
       " 0,\n",
       " 112,\n",
       " 113,\n",
       " 114,\n",
       " 115,\n",
       " 0,\n",
       " 116,\n",
       " 0,\n",
       " 117,\n",
       " 68,\n",
       " 0,\n",
       " 81,\n",
       " 118,\n",
       " 0]"
      ]
     },
     "execution_count": 29,
     "metadata": {},
     "output_type": "execute_result"
    }
   ],
   "source": [
    "lookup_indices(train_data[10][\"tokens\"][:30])"
   ]
  },
  {
   "cell_type": "code",
   "execution_count": 30,
   "id": "f6522827-a9a3-4000-b23a-807d32815b12",
   "metadata": {},
   "outputs": [
    {
     "data": {
      "text/plain": [
       "['لو',\n",
       " 'بيدي',\n",
       " 'أرجع',\n",
       " '<unk>',\n",
       " 'وين',\n",
       " '<unk>',\n",
       " '<unk>',\n",
       " '<unk>',\n",
       " 'والله',\n",
       " 'أبقى',\n",
       " '<unk>',\n",
       " 'بيها',\n",
       " 'لما',\n",
       " 'ترجع',\n",
       " 'بشر',\n",
       " '<unk>',\n",
       " '!',\n",
       " '<unk>',\n",
       " 'العلاقة',\n",
       " 'من',\n",
       " '<unk>',\n",
       " '..',\n",
       " 'قبل',\n",
       " '<unk>']"
      ]
     },
     "execution_count": 30,
     "metadata": {},
     "output_type": "execute_result"
    }
   ],
   "source": [
    "lookup_tokens(train_data[10][\"ids\"][:30])"
   ]
  },
  {
   "cell_type": "code",
   "execution_count": 31,
   "id": "a8b78637-aac2-47d3-a595-ae79433607b9",
   "metadata": {},
   "outputs": [],
   "source": [
    "train_data = train_data.with_format(type=\"torch\", columns=[\"ids\", \"label\", \"length\"])\n",
    "valid_data = valid_data.with_format(type=\"torch\", columns=[\"ids\", \"label\", \"length\"])\n",
    "test_data = test_data.with_format(type=\"torch\", columns=[\"ids\", \"label\", \"length\"])"
   ]
  },
  {
   "cell_type": "code",
   "execution_count": 32,
   "id": "e8a9f75f-fc53-42b9-af3a-81c25c6eda7a",
   "metadata": {},
   "outputs": [
    {
     "data": {
      "text/plain": [
       "{'label': tensor(0),\n",
       " 'length': tensor(24),\n",
       " 'ids': tensor([106, 107, 108,   0, 109,   0,   0,   0, 110, 111,   0, 112, 113, 114,\n",
       "         115,   0, 116,   0, 117,  68,   0,  81, 118,   0])}"
      ]
     },
     "execution_count": 32,
     "metadata": {},
     "output_type": "execute_result"
    }
   ],
   "source": [
    "train_data[10]"
   ]
  },
  {
   "cell_type": "markdown",
   "id": "5130356d-d4b7-4cfd-903c-96c3c7513fdc",
   "metadata": {},
   "source": [
    "**Creating Data Loaders**"
   ]
  },
  {
   "cell_type": "code",
   "execution_count": 33,
   "id": "55663912-8249-4fb0-914b-15bcfc9cf570",
   "metadata": {},
   "outputs": [],
   "source": [
    "def get_collate_fn(pad_index):\n",
    "    def collate_fn(batch):\n",
    "        batch_ids = [i[\"ids\"] for i in batch]\n",
    "        batch_ids = nn.utils.rnn.pad_sequence(\n",
    "            batch_ids, padding_value=pad_index, batch_first=True\n",
    "        )\n",
    "        batch_length = [i[\"length\"] for i in batch]\n",
    "        batch_length = torch.stack(batch_length)\n",
    "        batch_label = [i[\"label\"] for i in batch]\n",
    "        batch_label = torch.stack(batch_label)\n",
    "        batch = {\"ids\": batch_ids, \"length\": batch_length, \"label\": batch_label}\n",
    "        return batch\n",
    "\n",
    "    return collate_fn"
   ]
  },
  {
   "cell_type": "code",
   "execution_count": 34,
   "id": "0c2fa3fe-5a11-41f7-b848-cd61dfd1e96a",
   "metadata": {},
   "outputs": [],
   "source": [
    "def get_data_loader(dataset, batch_size, pad_index, shuffle=False):\n",
    "    collate_fn = get_collate_fn(pad_index)\n",
    "    data_loader = torch.utils.data.DataLoader(\n",
    "        dataset=dataset,\n",
    "        batch_size=batch_size,\n",
    "        collate_fn=collate_fn,\n",
    "        shuffle=shuffle,\n",
    "    )\n",
    "    return data_loader"
   ]
  },
  {
   "cell_type": "code",
   "execution_count": 35,
   "id": "656583ce-af02-4eca-83e1-e5530ab6a2b8",
   "metadata": {},
   "outputs": [],
   "source": [
    "batch_size = 512\n",
    "\n",
    "train_data_loader = get_data_loader(train_data, batch_size, pad_index, shuffle=True)\n",
    "valid_data_loader = get_data_loader(valid_data, batch_size, pad_index)\n",
    "test_data_loader = get_data_loader(test_data, batch_size, pad_index)"
   ]
  },
  {
   "cell_type": "code",
   "execution_count": 36,
   "id": "dc436327-7ae6-4adf-b27a-30b18f17a527",
   "metadata": {},
   "outputs": [
    {
     "data": {
      "text/plain": [
       "{'ids': tensor([[ 8063,   292,  3691,  ...,     1,     1,     1],\n",
       "         [ 1293,  8800,    44,  ...,     1,     1,     1],\n",
       "         [ 2388,   135,   449,  ...,     1,     1,     1],\n",
       "         ...,\n",
       "         [  185,     0,  4403,  ...,     1,     1,     1],\n",
       "         [   99,  9347, 12725,  ...,     1,     1,     1],\n",
       "         [    0,  3677, 11526,  ...,     1,     1,     1]]),\n",
       " 'length': tensor([ 5,  8, 24,  7, 20, 19, 11, 15, 23,  5, 17,  4, 15,  3, 21, 19,  3,  5,\n",
       "         24, 19, 19,  5,  3, 12, 23, 19, 11, 14,  7, 15, 19, 16, 13, 12,  4, 16,\n",
       "          6,  9,  8, 21,  5,  7, 12, 16,  9,  7,  9,  4,  6, 22, 15, 23,  6,  5,\n",
       "         24,  6, 30,  9,  7, 23, 28, 11, 19, 13,  9, 20, 12, 18,  3, 26,  6, 20,\n",
       "          6, 14,  5, 13, 19,  8, 13,  8,  4,  3,  9, 23, 12,  8,  9, 27, 17,  5,\n",
       "          5,  9,  3, 29,  5,  5,  9, 12, 14,  9,  9, 24, 20, 20, 15, 24,  5, 18,\n",
       "         19, 14,  8, 13, 11, 24, 14, 22, 18,  4, 14, 16,  4,  7, 24, 20, 19,  5,\n",
       "         12,  3,  6, 26,  3, 22,  3, 15, 24,  4,  4, 10,  3, 14,  4,  7,  4, 19,\n",
       "          8,  3, 11, 16, 12, 19, 11, 31, 11, 14, 15,  7, 18, 22,  8,  3, 20, 17,\n",
       "         15, 14, 33, 29, 21, 19,  5,  9, 22,  4, 21, 13,  4, 29, 15, 22,  7, 22,\n",
       "         23,  6,  3,  5, 23,  3,  6, 23, 27, 22, 12, 22,  3, 14, 22, 23, 12, 20,\n",
       "         13, 28,  6, 17, 24,  8,  4, 21, 25,  9, 18, 12,  7, 19, 23,  6,  4, 20,\n",
       "         22, 22,  6, 24,  9, 21,  8, 12, 33, 13,  3,  5, 19, 24, 21,  8, 24, 12,\n",
       "          6, 22,  5,  6,  6, 19, 11, 29, 12,  3, 20, 22, 19, 16, 12, 24, 20, 20,\n",
       "         22, 18, 19,  7, 17, 24,  3, 22, 15, 14, 22, 18, 19,  5, 14, 12, 16,  8,\n",
       "         16, 17,  3, 15, 19,  6,  5,  8,  3, 12, 22, 24,  3, 15, 29, 24,  8, 18,\n",
       "         23, 21,  4, 20, 20, 13, 11, 28, 20, 26, 20, 14, 23, 19, 20, 14, 12, 23,\n",
       "         27, 25, 19, 18,  9, 24, 17, 23, 13, 15,  3, 19,  3,  5, 24,  5,  9,  8,\n",
       "         20, 12, 25, 22,  8, 24,  9,  6, 22,  4,  4, 21, 21, 20, 25, 10,  6, 22,\n",
       "         15, 15, 14,  4, 24,  8, 26,  5,  8, 23, 21, 22, 10, 24,  4, 20, 10,  8,\n",
       "         17,  5, 14, 19, 22,  5, 13, 26, 11, 24, 13, 14, 12,  5, 20, 16, 16,  6,\n",
       "         13,  6,  3, 26,  3, 24, 20, 17, 19, 28, 25,  9, 27, 22,  3, 18, 21, 18,\n",
       "          8, 12,  3,  3,  6, 24, 21,  7, 23, 19,  5,  5, 19, 10, 13,  6, 14, 16,\n",
       "         25, 13, 11, 23, 10, 13,  6,  5,  9, 21,  4,  6, 22, 24, 16, 21,  3, 12,\n",
       "         15,  6,  3, 15,  6,  6, 17, 12, 24,  5, 12, 18,  9,  3, 25, 24, 16, 10,\n",
       "          4, 14,  3, 19,  8, 22, 12,  5, 17,  7,  8,  3, 24, 20, 23,  4,  3,  6,\n",
       "         17,  6, 23, 21,  5,  4, 13,  5, 18, 19, 23,  7,  8,  3, 23,  9, 21, 20,\n",
       "         23, 25, 17, 29, 24, 20,  7,  7, 24, 27,  3, 19, 22, 19, 20,  7, 20, 19,\n",
       "         22, 17,  4, 20, 12,  8, 22,  9]),\n",
       " 'label': tensor([0, 1, 1, 0, 1, 1, 1, 1, 1, 1, 0, 1, 0, 0, 1, 1, 1, 1, 0, 1, 0, 1, 1, 0,\n",
       "         1, 1, 0, 1, 1, 1, 1, 0, 0, 1, 0, 0, 1, 0, 1, 1, 1, 1, 0, 0, 0, 1, 1, 1,\n",
       "         0, 1, 0, 1, 1, 0, 1, 1, 1, 0, 0, 0, 0, 1, 0, 0, 0, 0, 1, 0, 1, 1, 1, 1,\n",
       "         1, 0, 0, 0, 1, 0, 1, 0, 1, 0, 1, 1, 1, 1, 0, 1, 0, 0, 0, 0, 1, 0, 1, 0,\n",
       "         0, 0, 1, 1, 1, 1, 1, 0, 1, 1, 0, 0, 0, 1, 0, 0, 0, 1, 1, 0, 1, 1, 1, 0,\n",
       "         0, 0, 1, 1, 0, 0, 0, 0, 0, 1, 1, 1, 1, 1, 0, 1, 1, 0, 0, 1, 1, 0, 0, 1,\n",
       "         1, 1, 0, 1, 0, 1, 1, 1, 1, 0, 0, 0, 0, 1, 1, 1, 1, 1, 0, 1, 0, 0, 1, 1,\n",
       "         1, 1, 1, 0, 0, 0, 1, 1, 1, 1, 0, 0, 1, 1, 0, 0, 0, 0, 0, 0, 1, 1, 1, 0,\n",
       "         1, 0, 1, 0, 1, 0, 0, 1, 0, 0, 1, 0, 0, 1, 0, 0, 0, 1, 0, 0, 1, 0, 1, 0,\n",
       "         0, 1, 1, 0, 0, 0, 0, 1, 0, 1, 0, 0, 1, 1, 1, 0, 0, 1, 1, 0, 1, 0, 0, 0,\n",
       "         1, 1, 1, 1, 1, 0, 1, 0, 0, 0, 0, 1, 1, 1, 0, 0, 0, 1, 1, 0, 0, 1, 1, 1,\n",
       "         1, 1, 0, 1, 1, 0, 1, 0, 0, 0, 0, 1, 1, 0, 1, 1, 1, 0, 0, 1, 1, 0, 1, 1,\n",
       "         1, 1, 0, 1, 1, 0, 0, 0, 1, 0, 0, 1, 1, 1, 1, 1, 0, 0, 1, 1, 1, 1, 1, 0,\n",
       "         1, 1, 1, 1, 0, 1, 1, 1, 0, 0, 0, 1, 1, 0, 1, 1, 0, 0, 0, 1, 1, 0, 0, 0,\n",
       "         0, 1, 0, 1, 1, 0, 0, 1, 1, 1, 0, 1, 1, 1, 1, 0, 1, 0, 1, 0, 0, 1, 0, 1,\n",
       "         0, 0, 1, 1, 1, 1, 1, 1, 0, 1, 1, 0, 0, 1, 1, 1, 1, 1, 1, 1, 1, 0, 1, 0,\n",
       "         0, 0, 0, 0, 1, 0, 1, 1, 0, 1, 0, 1, 1, 1, 1, 0, 1, 1, 1, 1, 0, 0, 0, 1,\n",
       "         0, 0, 0, 1, 0, 1, 1, 1, 0, 1, 0, 0, 0, 0, 1, 0, 0, 1, 0, 0, 1, 1, 0, 1,\n",
       "         0, 0, 1, 0, 1, 0, 1, 0, 0, 0, 0, 0, 1, 0, 1, 1, 1, 1, 1, 0, 1, 1, 1, 1,\n",
       "         1, 0, 1, 1, 0, 1, 0, 1, 0, 1, 0, 1, 1, 0, 1, 0, 0, 0, 1, 1, 1, 1, 1, 0,\n",
       "         0, 0, 1, 0, 1, 0, 1, 1, 0, 1, 0, 1, 0, 1, 1, 1, 1, 0, 0, 0, 1, 0, 0, 0,\n",
       "         1, 0, 0, 1, 1, 0, 1, 1])}"
      ]
     },
     "execution_count": 36,
     "metadata": {},
     "output_type": "execute_result"
    }
   ],
   "source": [
    "next(iter(train_data_loader))"
   ]
  },
  {
   "cell_type": "markdown",
   "id": "829b8fd9-ce7b-4e00-8351-59471087de37",
   "metadata": {},
   "source": [
    "**Building the Model**"
   ]
  },
  {
   "cell_type": "markdown",
   "id": "51fb275e-61a1-4387-9c01-43ab699ab38a",
   "metadata": {},
   "source": [
    "**LSTM**"
   ]
  },
  {
   "cell_type": "code",
   "execution_count": 63,
   "id": "d0760635-f16d-49ca-8f8c-07825763239c",
   "metadata": {},
   "outputs": [],
   "source": [
    "class LSTM(nn.Module):\n",
    "    def __init__(\n",
    "        self,\n",
    "        vocab_size,\n",
    "        embedding_dim,\n",
    "        hidden_dim,\n",
    "        output_dim,\n",
    "        n_layers,\n",
    "        dropout_rate,\n",
    "        pad_index,\n",
    "    ):\n",
    "        super().__init__()\n",
    "        self.embedding = nn.Embedding(vocab_size, embedding_dim, padding_idx=pad_index)\n",
    "        self.lstm = nn.LSTM(\n",
    "            embedding_dim,\n",
    "            hidden_dim,\n",
    "            n_layers,\n",
    "            dropout=dropout_rate,\n",
    "            batch_first=True,\n",
    "        )\n",
    "        self.fc = nn.Linear(hidden_dim, output_dim)\n",
    "        self.dropout = nn.Dropout(dropout_rate)\n",
    "\n",
    "    def forward(self, ids, length):\n",
    "        # ids = [batch size, seq len]\n",
    "        # length = [batch size]\n",
    "        embedded = self.dropout(self.embedding(ids))\n",
    "        # embedded = [batch size, seq len, embedding dim]\n",
    "        packed_embedded = nn.utils.rnn.pack_padded_sequence(\n",
    "            embedded, length, batch_first=True, enforce_sorted=False\n",
    "        )\n",
    "        packed_output, (hidden, cell) = self.lstm(packed_embedded)\n",
    "        # hidden = [n layers, batch size, hidden dim]\n",
    "        # cell = [n layers, batch size, hidden dim]\n",
    "        hidden = self.dropout(hidden[-1])\n",
    "        # hidden = [batch size, hidden dim]\n",
    "        prediction = self.fc(hidden)\n",
    "        # prediction = [batch size, output dim]\n",
    "        return prediction"
   ]
  },
  {
   "cell_type": "code",
   "execution_count": 38,
   "id": "9f340f92-bfd3-4c05-b6fb-155360b701ca",
   "metadata": {},
   "outputs": [],
   "source": [
    "vocab_size = len(stoi)\n",
    "embedding_dim = 128\n",
    "hidden_dim = 256\n",
    "output_dim = len(train_data.unique(\"label\"))\n",
    "n_layers = 2\n",
    "dropout_rate = 0.5\n",
    "\n",
    "model = LSTM(\n",
    "    vocab_size,\n",
    "    embedding_dim,\n",
    "    hidden_dim,\n",
    "    output_dim,\n",
    "    n_layers,\n",
    "    dropout_rate,\n",
    "    pad_index,\n",
    ")"
   ]
  },
  {
   "cell_type": "code",
   "execution_count": 39,
   "id": "8ca7c540-8f60-4087-8b6a-4da8e65a9e5f",
   "metadata": {},
   "outputs": [
    {
     "data": {
      "text/plain": [
       "LSTM(\n",
       "  (embedding): Embedding(37508, 128, padding_idx=1)\n",
       "  (lstm): LSTM(128, 256, num_layers=2, batch_first=True, dropout=0.5)\n",
       "  (fc): Linear(in_features=256, out_features=2, bias=True)\n",
       "  (dropout): Dropout(p=0.5, inplace=False)\n",
       ")"
      ]
     },
     "execution_count": 39,
     "metadata": {},
     "output_type": "execute_result"
    }
   ],
   "source": [
    "model"
   ]
  },
  {
   "cell_type": "code",
   "execution_count": 40,
   "id": "9c3abb17-ca90-4bfc-bf5b-3c66c6970648",
   "metadata": {},
   "outputs": [
    {
     "name": "stdout",
     "output_type": "stream",
     "text": [
      "The model has 5,723,138 trainable parameters\n"
     ]
    }
   ],
   "source": [
    "def count_parameters(model):\n",
    "    return sum(p.numel() for p in model.parameters() if p.requires_grad)\n",
    "\n",
    "\n",
    "print(f\"The model has {count_parameters(model):,} trainable parameters\")"
   ]
  },
  {
   "cell_type": "code",
   "execution_count": 41,
   "id": "db232c0b-6ede-42c4-bf03-c7feef8f5584",
   "metadata": {},
   "outputs": [],
   "source": [
    "def initialize_weights(m):\n",
    "    if isinstance(m, nn.Linear):\n",
    "        nn.init.xavier_normal_(m.weight)\n",
    "        nn.init.zeros_(m.bias)\n",
    "    elif isinstance(m, nn.LSTM):\n",
    "        for name, param in m.named_parameters():\n",
    "            if \"bias\" in name:\n",
    "                nn.init.zeros_(param)\n",
    "            elif \"weight\" in name:\n",
    "                nn.init.orthogonal_(param)"
   ]
  },
  {
   "cell_type": "code",
   "execution_count": 42,
   "id": "cc4227e8-6f12-4e92-a914-ff090c581ef5",
   "metadata": {},
   "outputs": [
    {
     "data": {
      "text/plain": [
       "LSTM(\n",
       "  (embedding): Embedding(37508, 128, padding_idx=1)\n",
       "  (lstm): LSTM(128, 256, num_layers=2, batch_first=True, dropout=0.5)\n",
       "  (fc): Linear(in_features=256, out_features=2, bias=True)\n",
       "  (dropout): Dropout(p=0.5, inplace=False)\n",
       ")"
      ]
     },
     "execution_count": 42,
     "metadata": {},
     "output_type": "execute_result"
    }
   ],
   "source": [
    "model.apply(initialize_weights)"
   ]
  },
  {
   "cell_type": "code",
   "execution_count": 43,
   "id": "eb0f1eb4-2f5a-4b05-bc8f-fc6497bc72be",
   "metadata": {},
   "outputs": [],
   "source": [
    "lr = 5e-4\n",
    "\n",
    "optimizer = optim.Adam(model.parameters(), lr=lr)"
   ]
  },
  {
   "cell_type": "code",
   "execution_count": 44,
   "id": "2e1c05ba-eccd-4022-aa08-a8dcadeaacd6",
   "metadata": {},
   "outputs": [],
   "source": [
    "criterion = nn.CrossEntropyLoss()"
   ]
  },
  {
   "cell_type": "code",
   "execution_count": 45,
   "id": "59e251bf-df6f-4b87-9042-fda64a1151d4",
   "metadata": {},
   "outputs": [],
   "source": [
    "def train(dataloader, model, criterion, optimizer):\n",
    "    model.train()\n",
    "    epoch_losses = []\n",
    "    epoch_accs = []\n",
    "    for batch in tqdm.tqdm(dataloader, desc=\"training...\"):\n",
    "        ids = batch[\"ids\"]\n",
    "        length = batch[\"length\"]\n",
    "        label = batch[\"label\"]\n",
    "        prediction = model(ids, length)\n",
    "        loss = criterion(prediction, label)\n",
    "        accuracy = get_accuracy(prediction, label)\n",
    "        optimizer.zero_grad()\n",
    "        loss.backward()\n",
    "        optimizer.step()\n",
    "        epoch_losses.append(loss.item())\n",
    "        epoch_accs.append(accuracy.item())\n",
    "    return np.mean(epoch_losses), np.mean(epoch_accs)"
   ]
  },
  {
   "cell_type": "code",
   "execution_count": 49,
   "id": "090cd058-2878-4e4f-9f76-bbdef3cfb9d2",
   "metadata": {},
   "outputs": [],
   "source": [
    "def evaluate(dataloader, model, criterion):\n",
    "    model.eval()\n",
    "    epoch_losses = []\n",
    "    epoch_accs = []\n",
    "    with torch.no_grad():\n",
    "        for batch in tqdm.tqdm(dataloader, desc=\"evaluating...\"):\n",
    "            ids = batch[\"ids\"]\n",
    "            length = batch[\"length\"]\n",
    "            label = batch[\"label\"]\n",
    "            prediction = model(ids, length)\n",
    "            loss = criterion(prediction, label)\n",
    "            accuracy = get_accuracy(prediction, label)\n",
    "            epoch_losses.append(loss.item())\n",
    "            epoch_accs.append(accuracy.item())\n",
    "    return np.mean(epoch_losses), np.mean(epoch_accs)"
   ]
  },
  {
   "cell_type": "code",
   "execution_count": 47,
   "id": "bcf4f780-6df4-4044-8168-4a8d6cdd8ded",
   "metadata": {},
   "outputs": [],
   "source": [
    "def get_accuracy(prediction, label):\n",
    "    batch_size, _ = prediction.shape\n",
    "    predicted_classes = prediction.argmax(dim=-1)\n",
    "    correct_predictions = predicted_classes.eq(label).sum()\n",
    "    accuracy = correct_predictions / batch_size\n",
    "    return accuracy"
   ]
  },
  {
   "cell_type": "code",
   "execution_count": 50,
   "id": "f70bd070-e3f3-4bff-88b4-da5060191de3",
   "metadata": {},
   "outputs": [
    {
     "name": "stderr",
     "output_type": "stream",
     "text": [
      "training...: 100%|█████████████████████████████████████████████████████████████████████| 92/92 [01:40<00:00,  1.09s/it]\n",
      "evaluating...: 100%|███████████████████████████████████████████████████████████████████| 12/12 [00:03<00:00,  3.01it/s]\n"
     ]
    },
    {
     "name": "stdout",
     "output_type": "stream",
     "text": [
      "epoch: 0\n",
      "train_loss: 0.357, train_acc: 0.835\n",
      "valid_loss: 0.259, valid_acc: 0.894\n"
     ]
    },
    {
     "name": "stderr",
     "output_type": "stream",
     "text": [
      "training...: 100%|█████████████████████████████████████████████████████████████████████| 92/92 [01:42<00:00,  1.12s/it]\n",
      "evaluating...: 100%|███████████████████████████████████████████████████████████████████| 12/12 [00:03<00:00,  3.05it/s]\n"
     ]
    },
    {
     "name": "stdout",
     "output_type": "stream",
     "text": [
      "epoch: 1\n",
      "train_loss: 0.287, train_acc: 0.876\n",
      "valid_loss: 0.219, valid_acc: 0.909\n"
     ]
    },
    {
     "name": "stderr",
     "output_type": "stream",
     "text": [
      "training...: 100%|█████████████████████████████████████████████████████████████████████| 92/92 [01:43<00:00,  1.12s/it]\n",
      "evaluating...: 100%|███████████████████████████████████████████████████████████████████| 12/12 [00:04<00:00,  2.99it/s]\n"
     ]
    },
    {
     "name": "stdout",
     "output_type": "stream",
     "text": [
      "epoch: 2\n",
      "train_loss: 0.251, train_acc: 0.893\n",
      "valid_loss: 0.200, valid_acc: 0.918\n"
     ]
    },
    {
     "name": "stderr",
     "output_type": "stream",
     "text": [
      "training...: 100%|█████████████████████████████████████████████████████████████████████| 92/92 [01:43<00:00,  1.12s/it]\n",
      "evaluating...: 100%|███████████████████████████████████████████████████████████████████| 12/12 [00:04<00:00,  2.95it/s]\n"
     ]
    },
    {
     "name": "stdout",
     "output_type": "stream",
     "text": [
      "epoch: 3\n",
      "train_loss: 0.230, train_acc: 0.903\n",
      "valid_loss: 0.187, valid_acc: 0.924\n"
     ]
    },
    {
     "name": "stderr",
     "output_type": "stream",
     "text": [
      "training...: 100%|█████████████████████████████████████████████████████████████████████| 92/92 [01:44<00:00,  1.14s/it]\n",
      "evaluating...: 100%|███████████████████████████████████████████████████████████████████| 12/12 [00:03<00:00,  3.04it/s]\n"
     ]
    },
    {
     "name": "stdout",
     "output_type": "stream",
     "text": [
      "epoch: 4\n",
      "train_loss: 0.215, train_acc: 0.911\n",
      "valid_loss: 0.179, valid_acc: 0.926\n"
     ]
    },
    {
     "name": "stderr",
     "output_type": "stream",
     "text": [
      "training...: 100%|█████████████████████████████████████████████████████████████████████| 92/92 [01:43<00:00,  1.13s/it]\n",
      "evaluating...: 100%|███████████████████████████████████████████████████████████████████| 12/12 [00:04<00:00,  2.97it/s]\n"
     ]
    },
    {
     "name": "stdout",
     "output_type": "stream",
     "text": [
      "epoch: 5\n",
      "train_loss: 0.202, train_acc: 0.918\n",
      "valid_loss: 0.181, valid_acc: 0.923\n"
     ]
    },
    {
     "name": "stderr",
     "output_type": "stream",
     "text": [
      "training...: 100%|█████████████████████████████████████████████████████████████████████| 92/92 [01:43<00:00,  1.12s/it]\n",
      "evaluating...: 100%|███████████████████████████████████████████████████████████████████| 12/12 [00:04<00:00,  2.98it/s]\n"
     ]
    },
    {
     "name": "stdout",
     "output_type": "stream",
     "text": [
      "epoch: 6\n",
      "train_loss: 0.192, train_acc: 0.922\n",
      "valid_loss: 0.169, valid_acc: 0.932\n"
     ]
    },
    {
     "name": "stderr",
     "output_type": "stream",
     "text": [
      "training...: 100%|█████████████████████████████████████████████████████████████████████| 92/92 [01:44<00:00,  1.13s/it]\n",
      "evaluating...: 100%|███████████████████████████████████████████████████████████████████| 12/12 [00:04<00:00,  2.93it/s]\n"
     ]
    },
    {
     "name": "stdout",
     "output_type": "stream",
     "text": [
      "epoch: 7\n",
      "train_loss: 0.183, train_acc: 0.925\n",
      "valid_loss: 0.166, valid_acc: 0.932\n"
     ]
    },
    {
     "name": "stderr",
     "output_type": "stream",
     "text": [
      "training...: 100%|█████████████████████████████████████████████████████████████████████| 92/92 [01:43<00:00,  1.13s/it]\n",
      "evaluating...: 100%|███████████████████████████████████████████████████████████████████| 12/12 [00:03<00:00,  3.05it/s]\n"
     ]
    },
    {
     "name": "stdout",
     "output_type": "stream",
     "text": [
      "epoch: 8\n",
      "train_loss: 0.175, train_acc: 0.928\n",
      "valid_loss: 0.160, valid_acc: 0.935\n"
     ]
    },
    {
     "name": "stderr",
     "output_type": "stream",
     "text": [
      "training...: 100%|█████████████████████████████████████████████████████████████████████| 92/92 [01:43<00:00,  1.13s/it]\n",
      "evaluating...: 100%|███████████████████████████████████████████████████████████████████| 12/12 [00:04<00:00,  2.85it/s]"
     ]
    },
    {
     "name": "stdout",
     "output_type": "stream",
     "text": [
      "epoch: 9\n",
      "train_loss: 0.172, train_acc: 0.929\n",
      "valid_loss: 0.160, valid_acc: 0.936\n"
     ]
    },
    {
     "name": "stderr",
     "output_type": "stream",
     "text": [
      "\n"
     ]
    }
   ],
   "source": [
    "n_epochs = 10\n",
    "best_valid_loss = float(\"inf\")\n",
    "\n",
    "metrics = collections.defaultdict(list)\n",
    "\n",
    "for epoch in range(n_epochs):\n",
    "    train_loss, train_acc = train(\n",
    "        train_data_loader, model, criterion, optimizer\n",
    "    )\n",
    "    valid_loss, valid_acc = evaluate(valid_data_loader, model, criterion)\n",
    "    metrics[\"train_losses\"].append(train_loss)\n",
    "    metrics[\"train_accs\"].append(train_acc)\n",
    "    metrics[\"valid_losses\"].append(valid_loss)\n",
    "    metrics[\"valid_accs\"].append(valid_acc)\n",
    "    if valid_loss < best_valid_loss:\n",
    "        best_valid_loss = valid_loss\n",
    "        torch.save(model.state_dict(), \"lstm.pt\")\n",
    "    print(f\"epoch: {epoch}\")\n",
    "    print(f\"train_loss: {train_loss:.3f}, train_acc: {train_acc:.3f}\")\n",
    "    print(f\"valid_loss: {valid_loss:.3f}, valid_acc: {valid_acc:.3f}\")"
   ]
  },
  {
   "cell_type": "code",
   "execution_count": 51,
   "id": "86b4f556-795c-440f-aad8-0512469a5b71",
   "metadata": {},
   "outputs": [
    {
     "data": {
      "image/png": "[encoded data removed]",
      "text/plain": [
       "<Figure size 1000x600 with 1 Axes>"
      ]
     },
     "metadata": {},
     "output_type": "display_data"
    }
   ],
   "source": [
    "fig = plt.figure(figsize=(10, 6))\n",
    "ax = fig.add_subplot(1, 1, 1)\n",
    "ax.plot(metrics[\"train_losses\"], label=\"train loss\")\n",
    "ax.plot(metrics[\"valid_losses\"], label=\"valid loss\")\n",
    "ax.set_xlabel(\"epoch\")\n",
    "ax.set_ylabel(\"loss\")\n",
    "ax.set_xticks(range(n_epochs))\n",
    "ax.legend()\n",
    "ax.grid()"
   ]
  },
  {
   "cell_type": "code",
   "execution_count": 52,
   "id": "2902d3fd-e8b2-4b6e-9546-0f1d10cac9ef",
   "metadata": {},
   "outputs": [
    {
     "data": {
      "image/png": "[encoded data removed]",
      "text/plain": [
       "<Figure size 1000x600 with 1 Axes>"
      ]
     },
     "metadata": {},
     "output_type": "display_data"
    }
   ],
   "source": [
    "fig = plt.figure(figsize=(10, 6))\n",
    "ax = fig.add_subplot(1, 1, 1)\n",
    "ax.plot(metrics[\"train_accs\"], label=\"train accuracy\")\n",
    "ax.plot(metrics[\"valid_accs\"], label=\"valid accuracy\")\n",
    "ax.set_xlabel(\"epoch\")\n",
    "ax.set_ylabel(\"loss\")\n",
    "ax.set_xticks(range(n_epochs))\n",
    "ax.legend()\n",
    "ax.grid()"
   ]
  },
  {
   "cell_type": "code",
   "execution_count": 53,
   "id": "86ac8413-7eba-4d56-81b7-6d723fde7c8d",
   "metadata": {},
   "outputs": [
    {
     "name": "stderr",
     "output_type": "stream",
     "text": [
      "evaluating...: 100%|███████████████████████████████████████████████████████████████████| 12/12 [00:02<00:00,  4.32it/s]\n"
     ]
    }
   ],
   "source": [
    "model.load_state_dict(torch.load(\"lstm.pt\"))\n",
    "\n",
    "test_loss, test_acc = evaluate(test_data_loader, model, criterion)"
   ]
  },
  {
   "cell_type": "code",
   "execution_count": 54,
   "id": "dd222ea8-1323-4a20-a855-c61738ea4f4f",
   "metadata": {},
   "outputs": [
    {
     "name": "stdout",
     "output_type": "stream",
     "text": [
      "test_loss: 0.154, test_acc: 0.945\n"
     ]
    }
   ],
   "source": [
    "print(f\"test_loss: {test_loss:.3f}, test_acc: {test_acc:.3f}\")"
   ]
  },
  {
   "cell_type": "markdown",
   "id": "b3603ac1-03dd-45ae-9433-e5c8353fe0cb",
   "metadata": {},
   "source": [
    "**GRU**"
   ]
  },
  {
   "cell_type": "code",
   "execution_count": 64,
   "id": "d4f20609-bea3-4a4b-a619-9cb8ddd3960a",
   "metadata": {},
   "outputs": [],
   "source": [
    "class GRU(nn.Module):\n",
    "    def __init__(\n",
    "        self,\n",
    "        vocab_size,\n",
    "        embedding_dim,\n",
    "        hidden_dim,\n",
    "        output_dim,\n",
    "        n_layers,\n",
    "        dropout_rate,\n",
    "        pad_index,\n",
    "    ):\n",
    "        super().__init__()\n",
    "        self.embedding = nn.Embedding(vocab_size, embedding_dim, padding_idx=pad_index)\n",
    "        self.gru = nn.GRU(\n",
    "            embedding_dim,\n",
    "            hidden_dim,\n",
    "            n_layers,\n",
    "            dropout=dropout_rate,\n",
    "            batch_first=True,\n",
    "        )\n",
    "        self.fc = nn.Linear(hidden_dim, output_dim)\n",
    "        self.dropout = nn.Dropout(dropout_rate)\n",
    "\n",
    "    def forward(self, ids, length):\n",
    "        # ids = [batch size, seq len]\n",
    "        # length = [batch size]\n",
    "        embedded = self.dropout(self.embedding(ids))\n",
    "        # embedded = [batch size, seq len, embedding dim]\n",
    "        packed_embedded = nn.utils.rnn.pack_padded_sequence(\n",
    "            embedded, length, batch_first=True, enforce_sorted=False\n",
    "        )\n",
    "        packed_output, hidden = self.gru(packed_embedded)\n",
    "        # hidden = [n layers, batch size, hidden dim]\n",
    "        hidden = self.dropout(hidden[-1])\n",
    "        # hidden = [batch size, hidden dim]\n",
    "        prediction = self.fc(hidden)\n",
    "        # prediction = [batch size, output dim]\n",
    "        return prediction"
   ]
  },
  {
   "cell_type": "code",
   "execution_count": 56,
   "id": "4f419a45-0c48-46fd-a8c5-731871c165c9",
   "metadata": {},
   "outputs": [],
   "source": [
    "model = GRU(\n",
    "    vocab_size,\n",
    "    embedding_dim,\n",
    "    hidden_dim,\n",
    "    output_dim,\n",
    "    n_layers,\n",
    "    dropout_rate,\n",
    "    pad_index,\n",
    ")"
   ]
  },
  {
   "cell_type": "code",
   "execution_count": 57,
   "id": "eaae5ed3-6d94-4887-9b2e-8f4f4ff48a3a",
   "metadata": {},
   "outputs": [
    {
     "data": {
      "text/plain": [
       "GRU(\n",
       "  (embedding): Embedding(37508, 128, padding_idx=1)\n",
       "  (gru): GRU(128, 256, num_layers=2, batch_first=True, dropout=0.5)\n",
       "  (fc): Linear(in_features=256, out_features=2, bias=True)\n",
       "  (dropout): Dropout(p=0.5, inplace=False)\n",
       ")"
      ]
     },
     "execution_count": 57,
     "metadata": {},
     "output_type": "execute_result"
    }
   ],
   "source": [
    "model"
   ]
  },
  {
   "cell_type": "code",
   "execution_count": 58,
   "id": "dbd1c52b-800c-4fbb-9df4-95a33f5e0dcd",
   "metadata": {},
   "outputs": [
    {
     "name": "stdout",
     "output_type": "stream",
     "text": [
      "The model has 5,492,738 trainable parameters\n"
     ]
    }
   ],
   "source": [
    "def count_parameters(model):\n",
    "    return sum(p.numel() for p in model.parameters() if p.requires_grad)\n",
    "\n",
    "\n",
    "print(f\"The model has {count_parameters(model):,} trainable parameters\")"
   ]
  },
  {
   "cell_type": "code",
   "execution_count": 59,
   "id": "9373a352-e6e4-4aa8-b7cd-1dd7df70bfd4",
   "metadata": {},
   "outputs": [
    {
     "data": {
      "text/plain": [
       "GRU(\n",
       "  (embedding): Embedding(37508, 128, padding_idx=1)\n",
       "  (gru): GRU(128, 256, num_layers=2, batch_first=True, dropout=0.5)\n",
       "  (fc): Linear(in_features=256, out_features=2, bias=True)\n",
       "  (dropout): Dropout(p=0.5, inplace=False)\n",
       ")"
      ]
     },
     "execution_count": 59,
     "metadata": {},
     "output_type": "execute_result"
    }
   ],
   "source": [
    "model.apply(initialize_weights)"
   ]
  },
  {
   "cell_type": "code",
   "execution_count": 60,
   "id": "9e39f9d6-4f16-4526-be46-4a699c222cc2",
   "metadata": {},
   "outputs": [],
   "source": [
    "lr = 5e-4\n",
    "\n",
    "optimizer = optim.Adam(model.parameters(), lr=lr)"
   ]
  },
  {
   "cell_type": "code",
   "execution_count": 61,
   "id": "088f940f-1441-4a93-ac5f-0af6eb1f7fec",
   "metadata": {},
   "outputs": [],
   "source": [
    "criterion = nn.CrossEntropyLoss()"
   ]
  },
  {
   "cell_type": "code",
   "execution_count": 62,
   "id": "d8032f51-8359-4416-907f-61a3d23d9403",
   "metadata": {},
   "outputs": [
    {
     "name": "stderr",
     "output_type": "stream",
     "text": [
      "training...: 100%|█████████████████████████████████████████████████████████████████████| 92/92 [01:42<00:00,  1.12s/it]\n",
      "evaluating...: 100%|███████████████████████████████████████████████████████████████████| 12/12 [00:04<00:00,  2.69it/s]\n"
     ]
    },
    {
     "name": "stdout",
     "output_type": "stream",
     "text": [
      "epoch: 0\n",
      "train_loss: 0.547, train_acc: 0.706\n",
      "valid_loss: 0.377, valid_acc: 0.828\n"
     ]
    },
    {
     "name": "stderr",
     "output_type": "stream",
     "text": [
      "training...: 100%|█████████████████████████████████████████████████████████████████████| 92/92 [01:48<00:00,  1.17s/it]\n",
      "evaluating...: 100%|███████████████████████████████████████████████████████████████████| 12/12 [00:04<00:00,  2.76it/s]\n"
     ]
    },
    {
     "name": "stdout",
     "output_type": "stream",
     "text": [
      "epoch: 1\n",
      "train_loss: 0.413, train_acc: 0.803\n",
      "valid_loss: 0.282, valid_acc: 0.877\n"
     ]
    },
    {
     "name": "stderr",
     "output_type": "stream",
     "text": [
      "training...: 100%|█████████████████████████████████████████████████████████████████████| 92/92 [01:40<00:00,  1.10s/it]\n",
      "evaluating...: 100%|███████████████████████████████████████████████████████████████████| 12/12 [00:04<00:00,  2.67it/s]\n"
     ]
    },
    {
     "name": "stdout",
     "output_type": "stream",
     "text": [
      "epoch: 2\n",
      "train_loss: 0.337, train_acc: 0.851\n",
      "valid_loss: 0.236, valid_acc: 0.905\n"
     ]
    },
    {
     "name": "stderr",
     "output_type": "stream",
     "text": [
      "training...: 100%|█████████████████████████████████████████████████████████████████████| 92/92 [01:47<00:00,  1.17s/it]\n",
      "evaluating...: 100%|███████████████████████████████████████████████████████████████████| 12/12 [00:04<00:00,  2.72it/s]\n"
     ]
    },
    {
     "name": "stdout",
     "output_type": "stream",
     "text": [
      "epoch: 3\n",
      "train_loss: 0.295, train_acc: 0.871\n",
      "valid_loss: 0.213, valid_acc: 0.917\n"
     ]
    },
    {
     "name": "stderr",
     "output_type": "stream",
     "text": [
      "training...: 100%|█████████████████████████████████████████████████████████████████████| 92/92 [01:47<00:00,  1.17s/it]\n",
      "evaluating...: 100%|███████████████████████████████████████████████████████████████████| 12/12 [00:04<00:00,  2.67it/s]\n"
     ]
    },
    {
     "name": "stdout",
     "output_type": "stream",
     "text": [
      "epoch: 4\n",
      "train_loss: 0.265, train_acc: 0.887\n",
      "valid_loss: 0.198, valid_acc: 0.924\n"
     ]
    },
    {
     "name": "stderr",
     "output_type": "stream",
     "text": [
      "training...: 100%|█████████████████████████████████████████████████████████████████████| 92/92 [01:45<00:00,  1.15s/it]\n",
      "evaluating...: 100%|███████████████████████████████████████████████████████████████████| 12/12 [00:03<00:00,  3.41it/s]\n"
     ]
    },
    {
     "name": "stdout",
     "output_type": "stream",
     "text": [
      "epoch: 5\n",
      "train_loss: 0.243, train_acc: 0.898\n",
      "valid_loss: 0.184, valid_acc: 0.928\n"
     ]
    },
    {
     "name": "stderr",
     "output_type": "stream",
     "text": [
      "training...: 100%|█████████████████████████████████████████████████████████████████████| 92/92 [01:43<00:00,  1.13s/it]\n",
      "evaluating...: 100%|███████████████████████████████████████████████████████████████████| 12/12 [00:03<00:00,  3.15it/s]\n"
     ]
    },
    {
     "name": "stdout",
     "output_type": "stream",
     "text": [
      "epoch: 6\n",
      "train_loss: 0.228, train_acc: 0.905\n",
      "valid_loss: 0.184, valid_acc: 0.927\n"
     ]
    },
    {
     "name": "stderr",
     "output_type": "stream",
     "text": [
      "training...: 100%|█████████████████████████████████████████████████████████████████████| 92/92 [01:46<00:00,  1.16s/it]\n",
      "evaluating...: 100%|███████████████████████████████████████████████████████████████████| 12/12 [00:04<00:00,  2.78it/s]\n"
     ]
    },
    {
     "name": "stdout",
     "output_type": "stream",
     "text": [
      "epoch: 7\n",
      "train_loss: 0.216, train_acc: 0.909\n",
      "valid_loss: 0.181, valid_acc: 0.930\n"
     ]
    },
    {
     "name": "stderr",
     "output_type": "stream",
     "text": [
      "training...: 100%|█████████████████████████████████████████████████████████████████████| 92/92 [01:44<00:00,  1.14s/it]\n",
      "evaluating...: 100%|███████████████████████████████████████████████████████████████████| 12/12 [00:04<00:00,  2.97it/s]\n"
     ]
    },
    {
     "name": "stdout",
     "output_type": "stream",
     "text": [
      "epoch: 8\n",
      "train_loss: 0.203, train_acc: 0.915\n",
      "valid_loss: 0.176, valid_acc: 0.932\n"
     ]
    },
    {
     "name": "stderr",
     "output_type": "stream",
     "text": [
      "training...: 100%|█████████████████████████████████████████████████████████████████████| 92/92 [01:41<00:00,  1.11s/it]\n",
      "evaluating...: 100%|███████████████████████████████████████████████████████████████████| 12/12 [00:04<00:00,  2.93it/s]"
     ]
    },
    {
     "name": "stdout",
     "output_type": "stream",
     "text": [
      "epoch: 9\n",
      "train_loss: 0.195, train_acc: 0.919\n",
      "valid_loss: 0.177, valid_acc: 0.931\n"
     ]
    },
    {
     "name": "stderr",
     "output_type": "stream",
     "text": [
      "\n"
     ]
    }
   ],
   "source": [
    "n_epochs = 10\n",
    "best_valid_loss = float(\"inf\")\n",
    "\n",
    "metrics = collections.defaultdict(list)\n",
    "\n",
    "for epoch in range(n_epochs):\n",
    "    train_loss, train_acc = train(\n",
    "        train_data_loader, model, criterion, optimizer\n",
    "    )\n",
    "    valid_loss, valid_acc = evaluate(valid_data_loader, model, criterion)\n",
    "    metrics[\"train_losses\"].append(train_loss)\n",
    "    metrics[\"train_accs\"].append(train_acc)\n",
    "    metrics[\"valid_losses\"].append(valid_loss)\n",
    "    metrics[\"valid_accs\"].append(valid_acc)\n",
    "    if valid_loss < best_valid_loss:\n",
    "        best_valid_loss = valid_loss\n",
    "        torch.save(model.state_dict(), \"gru.pt\")\n",
    "    print(f\"epoch: {epoch}\")\n",
    "    print(f\"train_loss: {train_loss:.3f}, train_acc: {train_acc:.3f}\")\n",
    "    print(f\"valid_loss: {valid_loss:.3f}, valid_acc: {valid_acc:.3f}\")"
   ]
  },
  {
   "cell_type": "code",
   "execution_count": 65,
   "id": "6df0de18-fdec-4bbe-9bcb-8cc6ff09e81e",
   "metadata": {},
   "outputs": [
    {
     "data": {
      "image/png": "[encoded data removed]",
      "text/plain": [
       "<Figure size 1000x600 with 1 Axes>"
      ]
     },
     "metadata": {},
     "output_type": "display_data"
    }
   ],
   "source": [
    "fig = plt.figure(figsize=(10, 6))\n",
    "ax = fig.add_subplot(1, 1, 1)\n",
    "ax.plot(metrics[\"train_losses\"], label=\"train loss\")\n",
    "ax.plot(metrics[\"valid_losses\"], label=\"valid loss\")\n",
    "ax.set_xlabel(\"epoch\")\n",
    "ax.set_ylabel(\"loss\")\n",
    "ax.set_xticks(range(n_epochs))\n",
    "ax.legend()\n",
    "ax.grid()"
   ]
  },
  {
   "cell_type": "code",
   "execution_count": 66,
   "id": "6733f344-a6ed-4cdd-8d2c-a762ff25ef50",
   "metadata": {},
   "outputs": [
    {
     "data": {
      "image/png": "[encoded data removed]",
      "text/plain": [
       "<Figure size 1000x600 with 1 Axes>"
      ]
     },
     "metadata": {},
     "output_type": "display_data"
    }
   ],
   "source": [
    "fig = plt.figure(figsize=(10, 6))\n",
    "ax = fig.add_subplot(1, 1, 1)\n",
    "ax.plot(metrics[\"train_accs\"], label=\"train accuracy\")\n",
    "ax.plot(metrics[\"valid_accs\"], label=\"valid accuracy\")\n",
    "ax.set_xlabel(\"epoch\")\n",
    "ax.set_ylabel(\"loss\")\n",
    "ax.set_xticks(range(n_epochs))\n",
    "ax.legend()\n",
    "ax.grid()"
   ]
  },
  {
   "cell_type": "code",
   "execution_count": 67,
   "id": "f91478f8-2198-4089-9b57-1c51a4d04d21",
   "metadata": {},
   "outputs": [
    {
     "name": "stderr",
     "output_type": "stream",
     "text": [
      "evaluating...: 100%|███████████████████████████████████████████████████████████████████| 12/12 [00:04<00:00,  2.77it/s]\n"
     ]
    }
   ],
   "source": [
    "model.load_state_dict(torch.load(\"gru.pt\"))\n",
    "\n",
    "test_loss, test_acc = evaluate(test_data_loader, model, criterion)"
   ]
  },
  {
   "cell_type": "code",
   "execution_count": 68,
   "id": "5a268b05-719a-4a43-bb43-107db9e228d9",
   "metadata": {},
   "outputs": [
    {
     "name": "stdout",
     "output_type": "stream",
     "text": [
      "test_loss: 0.166, test_acc: 0.938\n"
     ]
    }
   ],
   "source": [
    "print(f\"test_loss: {test_loss:.3f}, test_acc: {test_acc:.3f}\")"
   ]
  },
  {
   "cell_type": "code",
   "execution_count": 71,
   "id": "a4a72925-7606-4d1d-bae6-fdbd61eeeb2b",
   "metadata": {},
   "outputs": [],
   "source": [
    "def build_gru():\n",
    "    return GRU(vocab_size, embedding_dim, hidden_dim, output_dim, n_layers, dropout_rate, pad_index)\n",
    "\n",
    "def build_lstm():\n",
    "    return LSTM(vocab_size, embedding_dim, hidden_dim, output_dim, n_layers, dropout_rate, pad_index)"
   ]
  },
  {
   "cell_type": "code",
   "execution_count": 69,
   "id": "19240382-814c-4edb-88a9-992bf07c6eda",
   "metadata": {},
   "outputs": [],
   "source": [
    "def eval_model(ckpt_path, model_fn):\n",
    "    model = model_fn()\n",
    "    model.load_state_dict(torch.load(ckpt_path))\n",
    "    t0 = time.time()\n",
    "    loss, acc = evaluate(test_data_loader, model, criterion)\n",
    "    dt = time.time() - t0\n",
    "    return loss, acc, dt"
   ]
  },
  {
   "cell_type": "code",
   "execution_count": 74,
   "id": "f6410fd6-926c-48ee-8c92-d01334a394c3",
   "metadata": {},
   "outputs": [
    {
     "name": "stderr",
     "output_type": "stream",
     "text": [
      "evaluating...: 100%|███████████████████████████████████████████████████████████████████| 12/12 [00:05<00:00,  2.17it/s]\n",
      "evaluating...: 100%|███████████████████████████████████████████████████████████████████| 12/12 [00:04<00:00,  2.67it/s]\n"
     ]
    }
   ],
   "source": [
    "loss_lstm, acc_lstm, t_lstm = eval_model(\"lstm.pt\", build_lstm)\n",
    "loss_gru,  acc_gru,  t_gru  = eval_model(\"gru.pt\",  build_gru)"
   ]
  },
  {
   "cell_type": "code",
   "execution_count": 75,
   "id": "954b2795-1246-4f92-993c-d47fd0b75d78",
   "metadata": {},
   "outputs": [
    {
     "data": {
      "image/png": "[encoded data removed]",
      "text/plain": [
       "<Figure size 600x400 with 1 Axes>"
      ]
     },
     "metadata": {},
     "output_type": "display_data"
    },
    {
     "data": {
      "image/png": "[encoded data removed]",
      "text/plain": [
       "<Figure size 600x400 with 1 Axes>"
      ]
     },
     "metadata": {},
     "output_type": "display_data"
    },
    {
     "data": {
      "image/png": "[encoded data removed]",
      "text/plain": [
       "<Figure size 600x400 with 1 Axes>"
      ]
     },
     "metadata": {},
     "output_type": "display_data"
    }
   ],
   "source": [
    "labels = [\"LSTM\", \"GRU\"]\n",
    "accs   = [acc_lstm, acc_gru]\n",
    "losses = [loss_lstm, loss_gru]\n",
    "times  = [t_lstm, t_gru]\n",
    "\n",
    "plt.figure(figsize=(6,4))\n",
    "bars = plt.bar(labels, accs)\n",
    "plt.ylabel(\"Accuracy\")\n",
    "plt.title(\"Accuracy: LSTM vs GRU\")\n",
    "plt.ylim(0, 1)\n",
    "for b, v in zip(bars, accs):\n",
    "    plt.text(b.get_x() + b.get_width()/2, b.get_height(), f\"{v:.3f}\", ha=\"center\", va=\"bottom\")\n",
    "plt.show()\n",
    "\n",
    "plt.figure(figsize=(6,4))\n",
    "bars = plt.bar(labels, losses)\n",
    "plt.ylabel(\"Loss\")\n",
    "plt.title(\"Loss: LSTM vs GRU\")\n",
    "for b, v in zip(bars, losses):\n",
    "    plt.text(b.get_x() + b.get_width()/2, b.get_height(), f\"{v:.3f}\", ha=\"center\", va=\"bottom\")\n",
    "plt.show()\n",
    "\n",
    "plt.figure(figsize=(6,4))\n",
    "bars = plt.bar(labels, times)\n",
    "plt.ylabel(\"Temps d’inférence (s) – test\")\n",
    "plt.title(\"Vitesse: LSTM vs GRU\")\n",
    "for b, v in zip(bars, times):\n",
    "    plt.text(b.get_x() + b.get_width()/2, b.get_height(), f\"{v:.2f}s\", ha=\"center\", va=\"bottom\")\n",
    "plt.show()"
   ]
  }
 ],
 "metadata": {
  "kernelspec": {
   "display_name": "data",
   "language": "python",
   "name": "data"
  },
  "language_info": {
   "codemirror_mode": {
    "name": "ipython",
    "version": 3
   },
   "file_extension": ".py",
   "mimetype": "text/x-python",
   "name": "python",
   "nbconvert_exporter": "python",
   "pygments_lexer": "ipython3",
   "version": "3.11.13"
  }
 },
 "nbformat": 4,
 "nbformat_minor": 5
}
