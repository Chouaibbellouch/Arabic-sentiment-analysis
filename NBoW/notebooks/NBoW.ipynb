{
 "cells": [
  {
   "cell_type": "markdown",
   "id": "b27d31c0-1940-42a5-a326-849d351f4d63",
   "metadata": {},
   "source": [
    "**Importing Modules**"
   ]
  },
  {
   "cell_type": "code",
   "execution_count": 2,
   "id": "47c67866-1c09-4e42-b35c-f13041f0b587",
   "metadata": {},
   "outputs": [],
   "source": [
    "import collections\n",
    "\n",
    "import datasets\n",
    "import matplotlib.pyplot as plt\n",
    "import numpy as np\n",
    "import torch\n",
    "import torch.nn as nn\n",
    "import torch.optim as optim\n",
    "import torchtext\n",
    "import tqdm\n",
    "import nltk\n",
    "import sklearn"
   ]
  },
  {
   "cell_type": "code",
   "execution_count": null,
   "id": "e8dcd7a8-a2ab-430f-ae39-35aa716be5b2",
   "metadata": {},
   "outputs": [],
   "source": [
    "seed = 1306\n",
    "\n",
    "np.random.seed(seed)\n",
    "torch.manual_seed(seed)"
   ]
  },
  {
   "cell_type": "markdown",
   "id": "d3fcf705-bcc1-4e5e-aeeb-031fb6e3912b",
   "metadata": {},
   "source": [
    "**Loading the Dataset**"
   ]
  },
  {
   "cell_type": "code",
   "execution_count": 8,
   "id": "41a23b44-70cb-43c0-b452-8e6387811e5d",
   "metadata": {},
   "outputs": [
    {
     "name": "stderr",
     "output_type": "stream",
     "text": [
      "Repo card metadata block was not found. Setting CardData to empty.\n"
     ]
    }
   ],
   "source": [
    "ds = datasets.load_dataset('arbml/Arabic_Sentiment_Twitter_Corpus')"
   ]
  },
  {
   "cell_type": "code",
   "execution_count": 9,
   "id": "403329e0-48f3-4db0-9955-41839390eda2",
   "metadata": {},
   "outputs": [
    {
     "data": {
      "text/plain": [
       "DatasetDict({\n",
       "    train: Dataset({\n",
       "        features: ['tweet', 'label'],\n",
       "        num_rows: 47000\n",
       "    })\n",
       "    test: Dataset({\n",
       "        features: ['tweet', 'label'],\n",
       "        num_rows: 11751\n",
       "    })\n",
       "})"
      ]
     },
     "execution_count": 9,
     "metadata": {},
     "output_type": "execute_result"
    }
   ],
   "source": [
    "ds"
   ]
  },
  {
   "cell_type": "code",
   "execution_count": 10,
   "id": "80786286-3643-483e-8dec-9e14a8e7a7df",
   "metadata": {},
   "outputs": [],
   "source": [
    "train_val_test = ds['test'].train_test_split(test_size=0.5, seed=42)\n",
    "\n",
    "ds = {\n",
    "    \"train\": ds[\"train\"],\n",
    "    \"validation\": train_val_test[\"train\"],\n",
    "    \"test\": train_val_test[\"test\"],\n",
    "}"
   ]
  },
  {
   "cell_type": "code",
   "execution_count": 11,
   "id": "e9f262f6-4699-4840-abec-8ec90834f7dc",
   "metadata": {},
   "outputs": [
    {
     "data": {
      "text/plain": [
       "{'train': Dataset({\n",
       "     features: ['tweet', 'label'],\n",
       "     num_rows: 47000\n",
       " }),\n",
       " 'validation': Dataset({\n",
       "     features: ['tweet', 'label'],\n",
       "     num_rows: 5875\n",
       " }),\n",
       " 'test': Dataset({\n",
       "     features: ['tweet', 'label'],\n",
       "     num_rows: 5876\n",
       " })}"
      ]
     },
     "execution_count": 11,
     "metadata": {},
     "output_type": "execute_result"
    }
   ],
   "source": [
    "ds"
   ]
  },
  {
   "cell_type": "code",
   "execution_count": 12,
   "id": "a678d3c1-8403-4c5d-9b93-2ebbf80d4803",
   "metadata": {},
   "outputs": [
    {
     "data": {
      "text/plain": [
       "{'tweet': 'اعترف ان بتس كانو شوي شوي يجيبو راسي لكن اليوم بالزايد 😭',\n",
       " 'label': 0}"
      ]
     },
     "execution_count": 12,
     "metadata": {},
     "output_type": "execute_result"
    }
   ],
   "source": [
    "ds['train'][0]"
   ]
  },
  {
   "cell_type": "code",
   "execution_count": 13,
   "id": "2610d5e4-fb3d-4235-a07e-a6807b320b3b",
   "metadata": {},
   "outputs": [
    {
     "data": {
      "text/plain": [
       "{'tweet': Value('string'), 'label': ClassLabel(names=['neg', 'pos'])}"
      ]
     },
     "execution_count": 13,
     "metadata": {},
     "output_type": "execute_result"
    }
   ],
   "source": [
    "ds['train'].features"
   ]
  },
  {
   "cell_type": "code",
   "execution_count": 2,
   "id": "fc0b286b-7ed7-4dba-874d-c83679367c04",
   "metadata": {},
   "outputs": [],
   "source": [
    "from datasets import Features, Value, ClassLabel, Sequence\n",
    "\n",
    "target_features = Features({\n",
    "    \"tweet\": Value(\"string\"),\n",
    "    \"label\": ClassLabel(names=[\"neg\", \"pos\"]),\n",
    "    \"tokens\": Sequence(Value(\"string\"))\n",
    "})"
   ]
  },
  {
   "cell_type": "markdown",
   "id": "5d875486-663d-47ea-bb02-4ee9ee0dd0c4",
   "metadata": {},
   "source": [
    "**Tokenization**"
   ]
  },
  {
   "cell_type": "code",
   "execution_count": 23,
   "id": "be41d299-fa1b-4686-b904-5f92d17cbc55",
   "metadata": {},
   "outputs": [
    {
     "name": "stderr",
     "output_type": "stream",
     "text": [
      "[nltk_data] Downloading package punkt to\n",
      "[nltk_data]     C:\\Users\\user\\AppData\\Roaming\\nltk_data...\n",
      "[nltk_data]   Package punkt is already up-to-date!\n"
     ]
    },
    {
     "data": {
      "text/plain": [
       "True"
      ]
     },
     "execution_count": 23,
     "metadata": {},
     "output_type": "execute_result"
    }
   ],
   "source": [
    "nltk.download('punkt')"
   ]
  },
  {
   "cell_type": "code",
   "execution_count": 14,
   "id": "0dc483c2-689e-4435-bc2f-2b8f61a35a0c",
   "metadata": {},
   "outputs": [
    {
     "name": "stderr",
     "output_type": "stream",
     "text": [
      "[nltk_data] Downloading package punkt_tab to\n",
      "[nltk_data]     C:\\Users\\user\\AppData\\Roaming\\nltk_data...\n",
      "[nltk_data]   Package punkt_tab is already up-to-date!\n"
     ]
    },
    {
     "data": {
      "text/plain": [
       "True"
      ]
     },
     "execution_count": 14,
     "metadata": {},
     "output_type": "execute_result"
    }
   ],
   "source": [
    "nltk.download(\"punkt_tab\")"
   ]
  },
  {
   "cell_type": "code",
   "execution_count": 15,
   "id": "6c1d527f-651e-4b4c-a602-f3c012ba0376",
   "metadata": {},
   "outputs": [
    {
     "name": "stdout",
     "output_type": "stream",
     "text": [
      "['اعترف', 'ان', 'بتس', 'كانو', 'شوي', 'شوي', 'يجيبو', 'راسي', 'لكن', 'اليوم', 'بالزايد', '😭']\n"
     ]
    }
   ],
   "source": [
    "text = 'اعترف ان بتس كانو شوي شوي يجيبو راسي لكن اليوم بالزايد 😭'\n",
    "print(nltk.word_tokenize(text))"
   ]
  },
  {
   "cell_type": "code",
   "execution_count": 16,
   "id": "8c60b67f-91c0-4b16-b9b7-7013e48f398b",
   "metadata": {},
   "outputs": [],
   "source": [
    "def tokenize(example, tokenizer, max_length):\n",
    "    tokens = tokenizer(example[\"tweet\"])[:max_length]\n",
    "    return {\"tokens\": tokens}"
   ]
  },
  {
   "cell_type": "code",
   "execution_count": 19,
   "id": "f5b4288f-15b0-4838-a030-c3c878b9a6dc",
   "metadata": {},
   "outputs": [
    {
     "data": {
      "application/vnd.jupyter.widget-view+json": {
       "model_id": "649d569db3774cc7a8979da44a4e1f14",
       "version_major": 2,
       "version_minor": 0
      },
      "text/plain": [
       "Map:   0%|          | 0/47000 [00:00<?, ? examples/s]"
      ]
     },
     "metadata": {},
     "output_type": "display_data"
    },
    {
     "data": {
      "application/vnd.jupyter.widget-view+json": {
       "model_id": "d796e79d0991488f8e7c591a0837fec5",
       "version_major": 2,
       "version_minor": 0
      },
      "text/plain": [
       "Map:   0%|          | 0/5875 [00:00<?, ? examples/s]"
      ]
     },
     "metadata": {},
     "output_type": "display_data"
    },
    {
     "data": {
      "application/vnd.jupyter.widget-view+json": {
       "model_id": "2059cba3c1144cb8ac20add4b9dd59c0",
       "version_major": 2,
       "version_minor": 0
      },
      "text/plain": [
       "Map:   0%|          | 0/5876 [00:00<?, ? examples/s]"
      ]
     },
     "metadata": {},
     "output_type": "display_data"
    }
   ],
   "source": [
    "max_length = 256\n",
    "\n",
    "train_data = ds['train'].map(\n",
    "    tokenize, fn_kwargs={\"tokenizer\": nltk.word_tokenize, \"max_length\": max_length}, features=target_features\n",
    ")\n",
    "valid_data = ds['validation'].map(\n",
    "    tokenize, fn_kwargs={\"tokenizer\": nltk.word_tokenize, \"max_length\": max_length}, features=target_features\n",
    ")\n",
    "test_data = ds['test'].map(\n",
    "    tokenize, fn_kwargs={\"tokenizer\": nltk.word_tokenize, \"max_length\": max_length}, features=target_features\n",
    ")"
   ]
  },
  {
   "cell_type": "code",
   "execution_count": 20,
   "id": "002e8d3e-c6f9-426a-86d6-f08ce79e3879",
   "metadata": {},
   "outputs": [
    {
     "data": {
      "text/plain": [
       "{'tweet': 'احل شوف اذا تبي فكرتي عشان الفقرات اشتر D printer وورق صنفرة والي يبقى عليك التلوين بس 🌚',\n",
       " 'label': 0,\n",
       " 'tokens': ['احل',\n",
       "  'شوف',\n",
       "  'اذا',\n",
       "  'تبي',\n",
       "  'فكرتي',\n",
       "  'عشان',\n",
       "  'الفقرات',\n",
       "  'اشتر',\n",
       "  'D',\n",
       "  'printer',\n",
       "  'وورق',\n",
       "  'صنفرة',\n",
       "  'والي',\n",
       "  'يبقى',\n",
       "  'عليك',\n",
       "  'التلوين',\n",
       "  'بس',\n",
       "  '🌚']}"
      ]
     },
     "execution_count": 20,
     "metadata": {},
     "output_type": "execute_result"
    }
   ],
   "source": [
    "train_data[3536]"
   ]
  },
  {
   "cell_type": "code",
   "execution_count": 21,
   "id": "9d6ed9e1-5c80-4a08-a0ef-7a01433a5d78",
   "metadata": {},
   "outputs": [
    {
     "data": {
      "text/plain": [
       "Dataset({\n",
       "    features: ['tweet', 'label', 'tokens'],\n",
       "    num_rows: 47000\n",
       "})"
      ]
     },
     "execution_count": 21,
     "metadata": {},
     "output_type": "execute_result"
    }
   ],
   "source": [
    "train_data"
   ]
  },
  {
   "cell_type": "code",
   "execution_count": 22,
   "id": "fb259a63-4ce6-4851-bf93-c93b0b6c2659",
   "metadata": {},
   "outputs": [
    {
     "data": {
      "text/plain": [
       "{'tweet': Value('string'),\n",
       " 'label': ClassLabel(names=['neg', 'pos']),\n",
       " 'tokens': List(Value('string'))}"
      ]
     },
     "execution_count": 22,
     "metadata": {},
     "output_type": "execute_result"
    }
   ],
   "source": [
    "train_data.features"
   ]
  },
  {
   "cell_type": "code",
   "execution_count": 23,
   "id": "1b3c5de0-5dc3-4798-ac77-d70cfb3bf833",
   "metadata": {},
   "outputs": [
    {
     "data": {
      "text/plain": [
       "['رغبتك', 'تنزل', 'ع', 'سمعي', 'مطر', '💙']"
      ]
     },
     "execution_count": 23,
     "metadata": {},
     "output_type": "execute_result"
    }
   ],
   "source": [
    "valid_data[0][\"tokens\"][:25]"
   ]
  },
  {
   "cell_type": "code",
   "execution_count": 24,
   "id": "986acbe4-155f-41bb-a339-a9e96fdbaa02",
   "metadata": {},
   "outputs": [
    {
     "data": {
      "text/plain": [
       "(47000, 5875, 5876)"
      ]
     },
     "execution_count": 24,
     "metadata": {},
     "output_type": "execute_result"
    }
   ],
   "source": [
    "len(train_data), len(valid_data), len(test_data)"
   ]
  },
  {
   "cell_type": "markdown",
   "id": "40e451e6-fbf2-4647-bde4-a833fdd5fa3c",
   "metadata": {},
   "source": [
    "**Creating a Vocabulary**"
   ]
  },
  {
   "cell_type": "code",
   "execution_count": 25,
   "id": "5433bd31-bae9-4069-9b03-6e77d30dcdda",
   "metadata": {},
   "outputs": [],
   "source": [
    "from collections import Counter\n",
    "\n",
    "counter = Counter(token for tokens in train_data[\"tokens\"] for token in tokens)\n",
    "special_tokens = [\"<unk>\", \"<pad>\"]\n",
    "stoi = {tok: i for i, tok in enumerate(special_tokens + [t for t, c in counter.items() if c >= 5])}\n",
    "itos = {i: tok for tok, i in stoi.items()}"
   ]
  },
  {
   "cell_type": "code",
   "execution_count": 26,
   "id": "c5801321-87d3-4e8f-a519-6f209a5e9a9b",
   "metadata": {},
   "outputs": [
    {
     "data": {
      "text/plain": [
       "14926"
      ]
     },
     "execution_count": 26,
     "metadata": {},
     "output_type": "execute_result"
    }
   ],
   "source": [
    "len(itos)"
   ]
  },
  {
   "cell_type": "code",
   "execution_count": 27,
   "id": "5f905cba-1628-4d3c-ac46-1c5907e1a582",
   "metadata": {},
   "outputs": [],
   "source": [
    "unk_index = stoi[\"<unk>\"]\n",
    "pad_index = stoi[\"<pad>\"]"
   ]
  },
  {
   "cell_type": "code",
   "execution_count": 28,
   "id": "ee1e4a21-a0d8-4a76-9bf7-8c17b6ec78a5",
   "metadata": {},
   "outputs": [],
   "source": [
    "# For the tokens that doesn't exist in stoi we should return unk_index\n",
    "from collections import defaultdict\n",
    "stoi = defaultdict(lambda: unk_index, stoi)"
   ]
  },
  {
   "cell_type": "code",
   "execution_count": 29,
   "id": "86d1d146-ae5f-49e7-bb7b-dde2265ca7fb",
   "metadata": {},
   "outputs": [],
   "source": [
    "def lookup_indices(tokens):\n",
    "    return [stoi[token] for token in tokens]"
   ]
  },
  {
   "cell_type": "code",
   "execution_count": 30,
   "id": "0e251b4f-34dc-4903-94b8-3ed9d677b3d9",
   "metadata": {},
   "outputs": [],
   "source": [
    "def lookup_tokens(ids):\n",
    "    return [itos[Id] for Id in ids]"
   ]
  },
  {
   "cell_type": "code",
   "execution_count": 34,
   "id": "04e46f31-73cc-44b4-89fc-82f6bdd7fe0e",
   "metadata": {},
   "outputs": [
    {
     "data": {
      "text/plain": [
       "[0, 6185, 239, 0, 4612, 3551]"
      ]
     },
     "execution_count": 34,
     "metadata": {},
     "output_type": "execute_result"
    }
   ],
   "source": [
    "lookup_indices(['رغبتك', 'تنزل', 'ع', 'سمعي', 'مطر', '💙'])"
   ]
  },
  {
   "cell_type": "markdown",
   "id": "cc905c8e-03f2-4843-bd45-3747742c1504",
   "metadata": {},
   "source": [
    "**Numericalizing Data**"
   ]
  },
  {
   "cell_type": "code",
   "execution_count": 35,
   "id": "0acf4c5a-314c-4faf-badf-c6ad3c7b4ba6",
   "metadata": {},
   "outputs": [],
   "source": [
    "def numericalize_example(example):\n",
    "    ids = lookup_indices(example[\"tokens\"])\n",
    "    return {\"ids\": ids}"
   ]
  },
  {
   "cell_type": "code",
   "execution_count": 36,
   "id": "b5dc90bc-1712-4b9a-9620-49556ed894e0",
   "metadata": {},
   "outputs": [
    {
     "data": {
      "application/vnd.jupyter.widget-view+json": {
       "model_id": "e7e322f6ac2049d098a0e276d2ffa957",
       "version_major": 2,
       "version_minor": 0
      },
      "text/plain": [
       "Map:   0%|          | 0/47000 [00:00<?, ? examples/s]"
      ]
     },
     "metadata": {},
     "output_type": "display_data"
    },
    {
     "data": {
      "application/vnd.jupyter.widget-view+json": {
       "model_id": "780dce30eff14b3d91eb4a1121cc4792",
       "version_major": 2,
       "version_minor": 0
      },
      "text/plain": [
       "Map:   0%|          | 0/5875 [00:00<?, ? examples/s]"
      ]
     },
     "metadata": {},
     "output_type": "display_data"
    },
    {
     "data": {
      "application/vnd.jupyter.widget-view+json": {
       "model_id": "2a75eaac78de4032b67533939f655c04",
       "version_major": 2,
       "version_minor": 0
      },
      "text/plain": [
       "Map:   0%|          | 0/5876 [00:00<?, ? examples/s]"
      ]
     },
     "metadata": {},
     "output_type": "display_data"
    }
   ],
   "source": [
    "train_data = train_data.map(numericalize_example)\n",
    "valid_data = valid_data.map(numericalize_example)\n",
    "test_data = test_data.map(numericalize_example)"
   ]
  },
  {
   "cell_type": "code",
   "execution_count": 37,
   "id": "b114114b-4d41-477b-806b-1137e9c3ffda",
   "metadata": {},
   "outputs": [
    {
     "data": {
      "text/plain": [
       "{'tweet': '#الهلال ب مدافع و محاور سوال ل الكوتش #زوران الفريق اللي ناقص لاعب مين ؟؟ 🤔 #الاهلي_الهلال',\n",
       " 'label': 0,\n",
       " 'tokens': ['#',\n",
       "  'الهلال',\n",
       "  'ب',\n",
       "  'مدافع',\n",
       "  'و',\n",
       "  'محاور',\n",
       "  'سوال',\n",
       "  'ل',\n",
       "  'الكوتش',\n",
       "  '#',\n",
       "  'زوران',\n",
       "  'الفريق',\n",
       "  'اللي',\n",
       "  'ناقص',\n",
       "  'لاعب',\n",
       "  'مين',\n",
       "  '؟؟',\n",
       "  '🤔',\n",
       "  '#',\n",
       "  'الاهلي_الهلال'],\n",
       " 'ids': [22,\n",
       "  28,\n",
       "  407,\n",
       "  0,\n",
       "  53,\n",
       "  9026,\n",
       "  0,\n",
       "  380,\n",
       "  0,\n",
       "  22,\n",
       "  2015,\n",
       "  5001,\n",
       "  890,\n",
       "  2296,\n",
       "  1669,\n",
       "  374,\n",
       "  982,\n",
       "  101,\n",
       "  22,\n",
       "  23]}"
      ]
     },
     "execution_count": 37,
     "metadata": {},
     "output_type": "execute_result"
    }
   ],
   "source": [
    "test_data[0]"
   ]
  },
  {
   "cell_type": "code",
   "execution_count": 38,
   "id": "b017d570-9b9e-4fa1-af75-9f4af81c5b64",
   "metadata": {},
   "outputs": [
    {
     "data": {
      "text/plain": [
       "'بنشكر الله انو القلب عضلة مو عظم .. بضل التعضيل ارحم من الكسر 😔'"
      ]
     },
     "execution_count": 38,
     "metadata": {},
     "output_type": "execute_result"
    }
   ],
   "source": [
    "train_data[24]['tweet']"
   ]
  },
  {
   "cell_type": "code",
   "execution_count": 39,
   "id": "0cfebc8f-db94-4794-a04f-40e6af6fa56f",
   "metadata": {},
   "outputs": [
    {
     "data": {
      "text/plain": [
       "['بنشكر',\n",
       " 'الله',\n",
       " 'انو',\n",
       " 'القلب',\n",
       " 'عضلة',\n",
       " 'مو',\n",
       " 'عظم',\n",
       " '..',\n",
       " 'بضل',\n",
       " 'التعضيل',\n",
       " 'ارحم',\n",
       " 'من',\n",
       " 'الكسر',\n",
       " '😔']"
      ]
     },
     "execution_count": 39,
     "metadata": {},
     "output_type": "execute_result"
    }
   ],
   "source": [
    "train_data[24][\"tokens\"][:20]"
   ]
  },
  {
   "cell_type": "code",
   "execution_count": 40,
   "id": "b8ba86b0-26f0-43bb-a699-6f75ff8b2d9a",
   "metadata": {},
   "outputs": [
    {
     "data": {
      "text/plain": [
       "[218, 135, 219, 220, 221, 222, 223, 81, 224, 225, 226, 68, 227, 137]"
      ]
     },
     "execution_count": 40,
     "metadata": {},
     "output_type": "execute_result"
    }
   ],
   "source": [
    "lookup_indices(train_data[24][\"tokens\"][:20])"
   ]
  },
  {
   "cell_type": "code",
   "execution_count": 41,
   "id": "c1de9462-6926-4491-aeb2-8f172d2f8a52",
   "metadata": {},
   "outputs": [
    {
     "data": {
      "text/plain": [
       "['بنشكر',\n",
       " 'الله',\n",
       " 'انو',\n",
       " 'القلب',\n",
       " 'عضلة',\n",
       " 'مو',\n",
       " 'عظم',\n",
       " '..',\n",
       " 'بضل',\n",
       " 'التعضيل',\n",
       " 'ارحم',\n",
       " 'من',\n",
       " 'الكسر',\n",
       " '😔']"
      ]
     },
     "execution_count": 41,
     "metadata": {},
     "output_type": "execute_result"
    }
   ],
   "source": [
    "lookup_tokens(train_data[24][\"ids\"][:20])"
   ]
  },
  {
   "cell_type": "code",
   "execution_count": 42,
   "id": "b97a417c-0ba7-431e-a399-e8a2f83bf1a6",
   "metadata": {},
   "outputs": [],
   "source": [
    "train_data = train_data.with_format(type=\"torch\", columns=[\"ids\", \"label\"])\n",
    "valid_data = valid_data.with_format(type=\"torch\", columns=[\"ids\", \"label\"])\n",
    "test_data = test_data.with_format(type=\"torch\", columns=[\"ids\", \"label\"])"
   ]
  },
  {
   "cell_type": "code",
   "execution_count": 43,
   "id": "ed3c8c46-ee1e-44c3-ad2d-2dcd56263e79",
   "metadata": {},
   "outputs": [
    {
     "data": {
      "text/plain": [
       "tensor(0)"
      ]
     },
     "execution_count": 43,
     "metadata": {},
     "output_type": "execute_result"
    }
   ],
   "source": [
    "train_data[24][\"label\"]"
   ]
  },
  {
   "cell_type": "code",
   "execution_count": 44,
   "id": "3f572a9c-af87-4b3a-b98c-6346205e41b2",
   "metadata": {},
   "outputs": [
    {
     "data": {
      "text/plain": [
       "tensor([218, 135, 219, 220, 221, 222, 223,  81, 224, 225])"
      ]
     },
     "execution_count": 44,
     "metadata": {},
     "output_type": "execute_result"
    }
   ],
   "source": [
    "train_data[24][\"ids\"][:10]"
   ]
  },
  {
   "cell_type": "code",
   "execution_count": 45,
   "id": "2da1eb02-85a4-4704-8cc7-62d78d673d5d",
   "metadata": {},
   "outputs": [
    {
     "data": {
      "text/plain": [
       "{'label': tensor(0),\n",
       " 'ids': tensor([218, 135, 219, 220, 221, 222, 223,  81, 224, 225, 226,  68, 227, 137])}"
      ]
     },
     "execution_count": 45,
     "metadata": {},
     "output_type": "execute_result"
    }
   ],
   "source": [
    "train_data[24]"
   ]
  },
  {
   "cell_type": "code",
   "execution_count": 46,
   "id": "67e5e3f1-afa3-4bea-8f9f-637b10d33b46",
   "metadata": {},
   "outputs": [
    {
     "data": {
      "text/plain": [
       "['اعترف',\n",
       " 'ان',\n",
       " 'بتس',\n",
       " 'كانو',\n",
       " 'شوي',\n",
       " 'شوي',\n",
       " 'يجيبو',\n",
       " 'راسي',\n",
       " 'لكن',\n",
       " 'اليوم',\n",
       " '<unk>',\n",
       " '😭']"
      ]
     },
     "execution_count": 46,
     "metadata": {},
     "output_type": "execute_result"
    }
   ],
   "source": [
    "lookup_tokens(train_data[0][\"ids\"][:30].tolist())"
   ]
  },
  {
   "cell_type": "markdown",
   "id": "107db387-d8e8-4cde-9e6b-be49d472b6ee",
   "metadata": {},
   "source": [
    "**Creating Data Loaders**"
   ]
  },
  {
   "cell_type": "code",
   "execution_count": 47,
   "id": "17b904ed-71a5-43c0-a2bd-f243dc91eaba",
   "metadata": {},
   "outputs": [],
   "source": [
    "def get_collate_fn(pad_index):\n",
    "    def collate_fn(batch):\n",
    "        batch_ids = [i[\"ids\"] for i in batch]\n",
    "        batch_ids = nn.utils.rnn.pad_sequence(\n",
    "            batch_ids, padding_value=pad_index, batch_first=True\n",
    "        )\n",
    "        batch_label = [i[\"label\"] for i in batch]\n",
    "        batch_label = torch.stack(batch_label)\n",
    "        batch = {\"ids\": batch_ids, \"label\": batch_label}\n",
    "        return batch\n",
    "\n",
    "    return collate_fn"
   ]
  },
  {
   "cell_type": "code",
   "execution_count": 48,
   "id": "fa8c46bf-d450-4e03-8247-93ca235851f6",
   "metadata": {},
   "outputs": [],
   "source": [
    "def get_data_loader(dataset, batch_size, pad_index, shuffle=False):\n",
    "    collate_fn = get_collate_fn(pad_index)\n",
    "    data_loader = torch.utils.data.DataLoader(\n",
    "        dataset=dataset,\n",
    "        batch_size=batch_size,\n",
    "        collate_fn=collate_fn,\n",
    "        shuffle=shuffle,\n",
    "    )\n",
    "    return data_loader"
   ]
  },
  {
   "cell_type": "code",
   "execution_count": 49,
   "id": "49fbcdf2-6c59-4fa1-b35d-147aea0164db",
   "metadata": {},
   "outputs": [],
   "source": [
    "batch_size = 512\n",
    "\n",
    "train_data_loader = get_data_loader(train_data, batch_size, pad_index, shuffle=True)\n",
    "valid_data_loader = get_data_loader(valid_data, batch_size, pad_index)\n",
    "test_data_loader = get_data_loader(test_data, batch_size, pad_index)"
   ]
  },
  {
   "cell_type": "code",
   "execution_count": 50,
   "id": "431a8c95-6e69-47b8-92fd-5b7b854d1048",
   "metadata": {},
   "outputs": [
    {
     "data": {
      "text/plain": [
       "{'ids': tensor([[ 8063,   292,  3691,  ...,     1,     1,     1],\n",
       "         [ 1293,  8800,    44,  ...,     1,     1,     1],\n",
       "         [ 2388,   135,   449,  ...,     1,     1,     1],\n",
       "         ...,\n",
       "         [  185,     0,  4403,  ...,     1,     1,     1],\n",
       "         [   99,  9347, 12725,  ...,     1,     1,     1],\n",
       "         [    0,  3677, 11526,  ...,     1,     1,     1]]),\n",
       " 'label': tensor([0, 1, 1, 0, 1, 1, 1, 1, 1, 1, 0, 1, 0, 0, 1, 1, 1, 1, 0, 1, 0, 1, 1, 0,\n",
       "         1, 1, 0, 1, 1, 1, 1, 0, 0, 1, 0, 0, 1, 0, 1, 1, 1, 1, 0, 0, 0, 1, 1, 1,\n",
       "         0, 1, 0, 1, 1, 0, 1, 1, 1, 0, 0, 0, 0, 1, 0, 0, 0, 0, 1, 0, 1, 1, 1, 1,\n",
       "         1, 0, 0, 0, 1, 0, 1, 0, 1, 0, 1, 1, 1, 1, 0, 1, 0, 0, 0, 0, 1, 0, 1, 0,\n",
       "         0, 0, 1, 1, 1, 1, 1, 0, 1, 1, 0, 0, 0, 1, 0, 0, 0, 1, 1, 0, 1, 1, 1, 0,\n",
       "         0, 0, 1, 1, 0, 0, 0, 0, 0, 1, 1, 1, 1, 1, 0, 1, 1, 0, 0, 1, 1, 0, 0, 1,\n",
       "         1, 1, 0, 1, 0, 1, 1, 1, 1, 0, 0, 0, 0, 1, 1, 1, 1, 1, 0, 1, 0, 0, 1, 1,\n",
       "         1, 1, 1, 0, 0, 0, 1, 1, 1, 1, 0, 0, 1, 1, 0, 0, 0, 0, 0, 0, 1, 1, 1, 0,\n",
       "         1, 0, 1, 0, 1, 0, 0, 1, 0, 0, 1, 0, 0, 1, 0, 0, 0, 1, 0, 0, 1, 0, 1, 0,\n",
       "         0, 1, 1, 0, 0, 0, 0, 1, 0, 1, 0, 0, 1, 1, 1, 0, 0, 1, 1, 0, 1, 0, 0, 0,\n",
       "         1, 1, 1, 1, 1, 0, 1, 0, 0, 0, 0, 1, 1, 1, 0, 0, 0, 1, 1, 0, 0, 1, 1, 1,\n",
       "         1, 1, 0, 1, 1, 0, 1, 0, 0, 0, 0, 1, 1, 0, 1, 1, 1, 0, 0, 1, 1, 0, 1, 1,\n",
       "         1, 1, 0, 1, 1, 0, 0, 0, 1, 0, 0, 1, 1, 1, 1, 1, 0, 0, 1, 1, 1, 1, 1, 0,\n",
       "         1, 1, 1, 1, 0, 1, 1, 1, 0, 0, 0, 1, 1, 0, 1, 1, 0, 0, 0, 1, 1, 0, 0, 0,\n",
       "         0, 1, 0, 1, 1, 0, 0, 1, 1, 1, 0, 1, 1, 1, 1, 0, 1, 0, 1, 0, 0, 1, 0, 1,\n",
       "         0, 0, 1, 1, 1, 1, 1, 1, 0, 1, 1, 0, 0, 1, 1, 1, 1, 1, 1, 1, 1, 0, 1, 0,\n",
       "         0, 0, 0, 0, 1, 0, 1, 1, 0, 1, 0, 1, 1, 1, 1, 0, 1, 1, 1, 1, 0, 0, 0, 1,\n",
       "         0, 0, 0, 1, 0, 1, 1, 1, 0, 1, 0, 0, 0, 0, 1, 0, 0, 1, 0, 0, 1, 1, 0, 1,\n",
       "         0, 0, 1, 0, 1, 0, 1, 0, 0, 0, 0, 0, 1, 0, 1, 1, 1, 1, 1, 0, 1, 1, 1, 1,\n",
       "         1, 0, 1, 1, 0, 1, 0, 1, 0, 1, 0, 1, 1, 0, 1, 0, 0, 0, 1, 1, 1, 1, 1, 0,\n",
       "         0, 0, 1, 0, 1, 0, 1, 1, 0, 1, 0, 1, 0, 1, 1, 1, 1, 0, 0, 0, 1, 0, 0, 0,\n",
       "         1, 0, 0, 1, 1, 0, 1, 1])}"
      ]
     },
     "execution_count": 50,
     "metadata": {},
     "output_type": "execute_result"
    }
   ],
   "source": [
    "next(iter(train_data_loader))"
   ]
  },
  {
   "cell_type": "markdown",
   "id": "6660c37f-a0a6-4df1-8248-53b3514e9982",
   "metadata": {},
   "source": [
    "**Building the Model**"
   ]
  },
  {
   "cell_type": "code",
   "execution_count": 51,
   "id": "6ba7edd5-0032-4d39-8acf-74eafbc545f3",
   "metadata": {},
   "outputs": [],
   "source": [
    "class NBoW(nn.Module):\n",
    "    def __init__(self, vocab_size, embedding_dim, output_dim, pad_index):\n",
    "        super().__init__()\n",
    "        self.embedding = nn.Embedding(vocab_size, embedding_dim, padding_idx=pad_index)\n",
    "        self.fc = nn.Linear(embedding_dim, output_dim)\n",
    "\n",
    "    def forward(self, ids):\n",
    "        # ids = [batch size, seq len]\n",
    "        embedded = self.embedding(ids)\n",
    "        # embedded = [batch size, seq len, embedding dim]\n",
    "        pooled = embedded.mean(dim=1)\n",
    "        # pooled = [batch size, embedding dim]\n",
    "        prediction = self.fc(pooled)\n",
    "        # prediction = [batch size, output dim]\n",
    "        return prediction"
   ]
  },
  {
   "cell_type": "code",
   "execution_count": 110,
   "id": "cfc5815b-dba5-488f-84e7-5eab4804a349",
   "metadata": {},
   "outputs": [],
   "source": [
    "vocab_size = len(stoi)\n",
    "embedding_dim = 128\n",
    "output_dim = len(train_data.unique(\"label\"))\n",
    "\n",
    "model = NBoW(vocab_size, embedding_dim, output_dim, pad_index)"
   ]
  },
  {
   "cell_type": "code",
   "execution_count": 111,
   "id": "e4788449-e4c4-4345-85f6-cc8a167e8075",
   "metadata": {},
   "outputs": [
    {
     "data": {
      "text/plain": [
       "NBoW(\n",
       "  (embedding): Embedding(89919, 128, padding_idx=1)\n",
       "  (fc): Linear(in_features=128, out_features=2, bias=True)\n",
       ")"
      ]
     },
     "execution_count": 111,
     "metadata": {},
     "output_type": "execute_result"
    }
   ],
   "source": [
    "model"
   ]
  },
  {
   "cell_type": "code",
   "execution_count": 113,
   "id": "04377d89-7e16-43bc-9546-d5f97260a84a",
   "metadata": {},
   "outputs": [
    {
     "name": "stdout",
     "output_type": "stream",
     "text": [
      "The model has 11,509,890 trainable parameters\n"
     ]
    }
   ],
   "source": [
    "def count_parameters(model):\n",
    "    return sum(p.numel() for p in model.parameters() if p.requires_grad)\n",
    "\n",
    "\n",
    "print(f\"The model has {count_parameters(model):,} trainable parameters\")"
   ]
  },
  {
   "cell_type": "code",
   "execution_count": 114,
   "id": "e81a2986-3275-4b79-ad45-f5f1dedd6c91",
   "metadata": {},
   "outputs": [],
   "source": [
    "optimizer = optim.Adam(model.parameters())"
   ]
  },
  {
   "cell_type": "code",
   "execution_count": 115,
   "id": "057f46f4-b528-46fb-b9b8-7aabd58e43f0",
   "metadata": {},
   "outputs": [],
   "source": [
    "criterion = nn.CrossEntropyLoss()"
   ]
  },
  {
   "cell_type": "code",
   "execution_count": 116,
   "id": "401bc48d-25ab-4cda-9aca-4b2b12d299e0",
   "metadata": {},
   "outputs": [],
   "source": [
    "def train(data_loader, model, criterion, optimizer):\n",
    "    model.train()\n",
    "    epoch_losses = []\n",
    "    epoch_accs = []\n",
    "    for batch in tqdm.tqdm(data_loader, desc=\"training...\"):\n",
    "        ids = batch[\"ids\"]\n",
    "        label = batch[\"label\"]\n",
    "        prediction = model(ids)\n",
    "        loss = criterion(prediction, label)\n",
    "        accuracy = get_accuracy(prediction, label)\n",
    "        optimizer.zero_grad()\n",
    "        loss.backward()\n",
    "        optimizer.step()\n",
    "        epoch_losses.append(loss.item())\n",
    "        epoch_accs.append(accuracy.item())\n",
    "    return np.mean(epoch_losses), np.mean(epoch_accs)"
   ]
  },
  {
   "cell_type": "code",
   "execution_count": 117,
   "id": "229ede05-9ea6-4bfc-b565-b797baefc230",
   "metadata": {},
   "outputs": [],
   "source": [
    "def evaluate(data_loader, model, criterion):\n",
    "    model.eval()\n",
    "    epoch_losses = []\n",
    "    epoch_accs = []\n",
    "    with torch.no_grad():\n",
    "        for batch in tqdm.tqdm(data_loader, desc=\"evaluating...\"):\n",
    "            ids = batch[\"ids\"]\n",
    "            label = batch[\"label\"]\n",
    "            prediction = model(ids)\n",
    "            loss = criterion(prediction, label)\n",
    "            accuracy = get_accuracy(prediction, label)\n",
    "            epoch_losses.append(loss.item())\n",
    "            epoch_accs.append(accuracy.item())\n",
    "    return np.mean(epoch_losses), np.mean(epoch_accs)"
   ]
  },
  {
   "cell_type": "code",
   "execution_count": 118,
   "id": "55304ed9-5caa-4eba-8212-3b81fdad5ddd",
   "metadata": {},
   "outputs": [],
   "source": [
    "def get_accuracy(prediction, label):\n",
    "    batch_size, _ = prediction.shape\n",
    "    predicted_classes = prediction.argmax(dim=-1)\n",
    "    correct_predictions = predicted_classes.eq(label).sum()\n",
    "    accuracy = correct_predictions / batch_size\n",
    "    return accuracy"
   ]
  },
  {
   "cell_type": "code",
   "execution_count": 119,
   "id": "6355ac20-3c6d-48a8-82b2-a73cbfc7e184",
   "metadata": {},
   "outputs": [
    {
     "name": "stderr",
     "output_type": "stream",
     "text": [
      "training...: 100%|█████████████████████████████████████████████████████████████████████| 92/92 [00:22<00:00,  4.10it/s]\n",
      "evaluating...: 100%|███████████████████████████████████████████████████████████████████| 12/12 [00:01<00:00, 10.46it/s]\n"
     ]
    },
    {
     "name": "stdout",
     "output_type": "stream",
     "text": [
      "epoch: 0\n",
      "train_loss: 0.657, train_acc: 0.655\n",
      "valid_loss: 0.608, valid_acc: 0.774\n"
     ]
    },
    {
     "name": "stderr",
     "output_type": "stream",
     "text": [
      "training...: 100%|█████████████████████████████████████████████████████████████████████| 92/92 [00:22<00:00,  4.12it/s]\n",
      "evaluating...: 100%|███████████████████████████████████████████████████████████████████| 12/12 [00:01<00:00,  9.53it/s]\n"
     ]
    },
    {
     "name": "stdout",
     "output_type": "stream",
     "text": [
      "epoch: 1\n",
      "train_loss: 0.530, train_acc: 0.829\n",
      "valid_loss: 0.466, valid_acc: 0.857\n"
     ]
    },
    {
     "name": "stderr",
     "output_type": "stream",
     "text": [
      "training...: 100%|█████████████████████████████████████████████████████████████████████| 92/92 [00:22<00:00,  4.10it/s]\n",
      "evaluating...: 100%|███████████████████████████████████████████████████████████████████| 12/12 [00:01<00:00,  9.66it/s]\n"
     ]
    },
    {
     "name": "stdout",
     "output_type": "stream",
     "text": [
      "epoch: 2\n",
      "train_loss: 0.397, train_acc: 0.884\n",
      "valid_loss: 0.364, valid_acc: 0.890\n"
     ]
    },
    {
     "name": "stderr",
     "output_type": "stream",
     "text": [
      "training...: 100%|█████████████████████████████████████████████████████████████████████| 92/92 [00:22<00:00,  4.03it/s]\n",
      "evaluating...: 100%|███████████████████████████████████████████████████████████████████| 12/12 [00:01<00:00,  9.73it/s]\n"
     ]
    },
    {
     "name": "stdout",
     "output_type": "stream",
     "text": [
      "epoch: 3\n",
      "train_loss: 0.307, train_acc: 0.915\n",
      "valid_loss: 0.297, valid_acc: 0.915\n"
     ]
    },
    {
     "name": "stderr",
     "output_type": "stream",
     "text": [
      "training...: 100%|█████████████████████████████████████████████████████████████████████| 92/92 [00:22<00:00,  4.07it/s]\n",
      "evaluating...: 100%|███████████████████████████████████████████████████████████████████| 12/12 [00:01<00:00,  9.62it/s]\n"
     ]
    },
    {
     "name": "stdout",
     "output_type": "stream",
     "text": [
      "epoch: 4\n",
      "train_loss: 0.244, train_acc: 0.935\n",
      "valid_loss: 0.251, valid_acc: 0.930\n"
     ]
    },
    {
     "name": "stderr",
     "output_type": "stream",
     "text": [
      "training...: 100%|█████████████████████████████████████████████████████████████████████| 92/92 [00:22<00:00,  4.06it/s]\n",
      "evaluating...: 100%|███████████████████████████████████████████████████████████████████| 12/12 [00:01<00:00,  9.94it/s]\n"
     ]
    },
    {
     "name": "stdout",
     "output_type": "stream",
     "text": [
      "epoch: 5\n",
      "train_loss: 0.201, train_acc: 0.946\n",
      "valid_loss: 0.220, valid_acc: 0.934\n"
     ]
    },
    {
     "name": "stderr",
     "output_type": "stream",
     "text": [
      "training...: 100%|█████████████████████████████████████████████████████████████████████| 92/92 [00:22<00:00,  4.06it/s]\n",
      "evaluating...: 100%|███████████████████████████████████████████████████████████████████| 12/12 [00:01<00:00, 10.26it/s]\n"
     ]
    },
    {
     "name": "stdout",
     "output_type": "stream",
     "text": [
      "epoch: 6\n",
      "train_loss: 0.170, train_acc: 0.953\n",
      "valid_loss: 0.199, valid_acc: 0.939\n"
     ]
    },
    {
     "name": "stderr",
     "output_type": "stream",
     "text": [
      "training...: 100%|█████████████████████████████████████████████████████████████████████| 92/92 [00:22<00:00,  4.09it/s]\n",
      "evaluating...: 100%|███████████████████████████████████████████████████████████████████| 12/12 [00:01<00:00,  9.68it/s]\n"
     ]
    },
    {
     "name": "stdout",
     "output_type": "stream",
     "text": [
      "epoch: 7\n",
      "train_loss: 0.149, train_acc: 0.958\n",
      "valid_loss: 0.184, valid_acc: 0.941\n"
     ]
    },
    {
     "name": "stderr",
     "output_type": "stream",
     "text": [
      "training...: 100%|█████████████████████████████████████████████████████████████████████| 92/92 [00:22<00:00,  4.05it/s]\n",
      "evaluating...: 100%|███████████████████████████████████████████████████████████████████| 12/12 [00:01<00:00,  9.92it/s]\n"
     ]
    },
    {
     "name": "stdout",
     "output_type": "stream",
     "text": [
      "epoch: 8\n",
      "train_loss: 0.133, train_acc: 0.961\n",
      "valid_loss: 0.173, valid_acc: 0.942\n"
     ]
    },
    {
     "name": "stderr",
     "output_type": "stream",
     "text": [
      "training...: 100%|█████████████████████████████████████████████████████████████████████| 92/92 [00:22<00:00,  4.04it/s]\n",
      "evaluating...: 100%|███████████████████████████████████████████████████████████████████| 12/12 [00:01<00:00,  9.95it/s]\n"
     ]
    },
    {
     "name": "stdout",
     "output_type": "stream",
     "text": [
      "epoch: 9\n",
      "train_loss: 0.120, train_acc: 0.964\n",
      "valid_loss: 0.166, valid_acc: 0.944\n"
     ]
    },
    {
     "name": "stderr",
     "output_type": "stream",
     "text": [
      "training...: 100%|█████████████████████████████████████████████████████████████████████| 92/92 [00:22<00:00,  4.04it/s]\n",
      "evaluating...: 100%|███████████████████████████████████████████████████████████████████| 12/12 [00:01<00:00,  9.45it/s]\n"
     ]
    },
    {
     "name": "stdout",
     "output_type": "stream",
     "text": [
      "epoch: 10\n",
      "train_loss: 0.111, train_acc: 0.967\n",
      "valid_loss: 0.161, valid_acc: 0.945\n"
     ]
    },
    {
     "name": "stderr",
     "output_type": "stream",
     "text": [
      "training...: 100%|█████████████████████████████████████████████████████████████████████| 92/92 [00:22<00:00,  4.06it/s]\n",
      "evaluating...: 100%|███████████████████████████████████████████████████████████████████| 12/12 [00:01<00:00, 10.52it/s]\n"
     ]
    },
    {
     "name": "stdout",
     "output_type": "stream",
     "text": [
      "epoch: 11\n",
      "train_loss: 0.103, train_acc: 0.969\n",
      "valid_loss: 0.157, valid_acc: 0.946\n"
     ]
    },
    {
     "name": "stderr",
     "output_type": "stream",
     "text": [
      "training...: 100%|█████████████████████████████████████████████████████████████████████| 92/92 [00:22<00:00,  4.08it/s]\n",
      "evaluating...: 100%|███████████████████████████████████████████████████████████████████| 12/12 [00:01<00:00,  9.76it/s]\n"
     ]
    },
    {
     "name": "stdout",
     "output_type": "stream",
     "text": [
      "epoch: 12\n",
      "train_loss: 0.097, train_acc: 0.970\n",
      "valid_loss: 0.154, valid_acc: 0.945\n"
     ]
    },
    {
     "name": "stderr",
     "output_type": "stream",
     "text": [
      "training...: 100%|█████████████████████████████████████████████████████████████████████| 92/92 [00:21<00:00,  4.32it/s]\n",
      "evaluating...: 100%|███████████████████████████████████████████████████████████████████| 12/12 [00:01<00:00, 10.33it/s]\n"
     ]
    },
    {
     "name": "stdout",
     "output_type": "stream",
     "text": [
      "epoch: 13\n",
      "train_loss: 0.091, train_acc: 0.972\n",
      "valid_loss: 0.152, valid_acc: 0.945\n"
     ]
    },
    {
     "name": "stderr",
     "output_type": "stream",
     "text": [
      "training...: 100%|█████████████████████████████████████████████████████████████████████| 92/92 [00:22<00:00,  4.05it/s]\n",
      "evaluating...: 100%|███████████████████████████████████████████████████████████████████| 12/12 [00:01<00:00,  9.72it/s]\n"
     ]
    },
    {
     "name": "stdout",
     "output_type": "stream",
     "text": [
      "epoch: 14\n",
      "train_loss: 0.086, train_acc: 0.974\n",
      "valid_loss: 0.151, valid_acc: 0.945\n"
     ]
    }
   ],
   "source": [
    "n_epochs = 15\n",
    "best_valid_loss = float(\"inf\")\n",
    "\n",
    "metrics = collections.defaultdict(list)\n",
    "\n",
    "for epoch in range(n_epochs):\n",
    "    train_loss, train_acc = train(\n",
    "        train_data_loader, model, criterion, optimizer\n",
    "    )\n",
    "    valid_loss, valid_acc = evaluate(valid_data_loader, model, criterion)\n",
    "    metrics[\"train_losses\"].append(train_loss)\n",
    "    metrics[\"train_accs\"].append(train_acc)\n",
    "    metrics[\"valid_losses\"].append(valid_loss)\n",
    "    metrics[\"valid_accs\"].append(valid_acc)\n",
    "    if valid_loss < best_valid_loss:\n",
    "        best_valid_loss = valid_loss\n",
    "        torch.save(model.state_dict(), \"nbow_v1.pt\")\n",
    "    print(f\"epoch: {epoch}\")\n",
    "    print(f\"train_loss: {train_loss:.3f}, train_acc: {train_acc:.3f}\")\n",
    "    print(f\"valid_loss: {valid_loss:.3f}, valid_acc: {valid_acc:.3f}\")"
   ]
  },
  {
   "cell_type": "code",
   "execution_count": 120,
   "id": "7c13bd20-8321-4c6e-b929-75b3a7163a31",
   "metadata": {},
   "outputs": [
    {
     "data": {
      "image/png": "[encoded data removed]",
      "text/plain": [
       "<Figure size 1000x600 with 1 Axes>"
      ]
     },
     "metadata": {},
     "output_type": "display_data"
    }
   ],
   "source": [
    "fig = plt.figure(figsize=(10, 6))\n",
    "ax = fig.add_subplot(1, 1, 1)\n",
    "ax.plot(metrics[\"train_losses\"], label=\"train loss\")\n",
    "ax.plot(metrics[\"valid_losses\"], label=\"valid loss\")\n",
    "ax.set_xlabel(\"epoch\")\n",
    "ax.set_ylabel(\"loss\")\n",
    "ax.set_xticks(range(n_epochs))\n",
    "ax.legend()\n",
    "ax.grid()"
   ]
  },
  {
   "cell_type": "code",
   "execution_count": 121,
   "id": "87ac33b4-67bf-4fb3-a45d-0da899662629",
   "metadata": {},
   "outputs": [
    {
     "data": {
      "image/png": "[encoded data removed]",
      "text/plain": [
       "<Figure size 1000x600 with 1 Axes>"
      ]
     },
     "metadata": {},
     "output_type": "display_data"
    }
   ],
   "source": [
    "fig = plt.figure(figsize=(10, 6))\n",
    "ax = fig.add_subplot(1, 1, 1)\n",
    "ax.plot(metrics[\"train_accs\"], label=\"train accuracy\")\n",
    "ax.plot(metrics[\"valid_accs\"], label=\"valid accuracy\")\n",
    "ax.set_xlabel(\"epoch\")\n",
    "ax.set_ylabel(\"loss\")\n",
    "ax.set_xticks(range(n_epochs))\n",
    "ax.legend()\n",
    "ax.grid()"
   ]
  },
  {
   "cell_type": "code",
   "execution_count": 124,
   "id": "09f9c7be-ece7-4c2d-bc87-08bb510a6d18",
   "metadata": {},
   "outputs": [
    {
     "name": "stderr",
     "output_type": "stream",
     "text": [
      "evaluating...: 100%|███████████████████████████████████████████████████████████████████| 12/12 [00:01<00:00, 10.87it/s]\n"
     ]
    }
   ],
   "source": [
    "model.load_state_dict(torch.load(\"nbow_v1.pt\"))\n",
    "\n",
    "test_loss, test_acc = evaluate(test_data_loader, model, criterion)"
   ]
  },
  {
   "cell_type": "code",
   "execution_count": 125,
   "id": "1ffc4c55-63a9-4812-a325-afc2f6bb5144",
   "metadata": {},
   "outputs": [
    {
     "name": "stdout",
     "output_type": "stream",
     "text": [
      "test_loss: 0.136, test_acc: 0.950\n"
     ]
    }
   ],
   "source": [
    "print(f\"test_loss: {test_loss:.3f}, test_acc: {test_acc:.3f}\")"
   ]
  },
  {
   "cell_type": "code",
   "execution_count": 127,
   "id": "9400dcae-e06c-422d-a578-3a3641a50c39",
   "metadata": {},
   "outputs": [
    {
     "name": "stderr",
     "output_type": "stream",
     "text": [
      "evaluating...: 100%|███████████████████████████████████████████████████████████████████| 12/12 [00:01<00:00, 10.36it/s]"
     ]
    },
    {
     "name": "stdout",
     "output_type": "stream",
     "text": [
      "Test Loss: 0.13552690918246904\n",
      "Classification Report:\n",
      "               precision    recall  f1-score   support\n",
      "\n",
      "           0     0.9450    0.9524    0.9487      2921\n",
      "           1     0.9526    0.9452    0.9489      2955\n",
      "\n",
      "    accuracy                         0.9488      5876\n",
      "   macro avg     0.9488    0.9488    0.9488      5876\n",
      "weighted avg     0.9488    0.9488    0.9488      5876\n",
      "\n"
     ]
    },
    {
     "name": "stderr",
     "output_type": "stream",
     "text": [
      "\n"
     ]
    }
   ],
   "source": [
    "from sklearn.metrics import classification_report\n",
    "\n",
    "def evaluate_with_report(data_loader, model, criterion):\n",
    "    model.eval()\n",
    "    epoch_losses = []\n",
    "    all_preds = []\n",
    "    all_labels = []\n",
    "    with torch.no_grad():\n",
    "        for batch in tqdm.tqdm(data_loader, desc=\"evaluating...\"):\n",
    "            ids = batch[\"ids\"]\n",
    "            labels = batch[\"label\"]\n",
    "            preds = model(ids)\n",
    "\n",
    "            # loss\n",
    "            loss = criterion(preds, labels)\n",
    "            epoch_losses.append(loss.item())\n",
    "\n",
    "            # prédictions finales (argmax si classification multi-classes)\n",
    "            pred_labels = preds.argmax(dim=1).cpu().numpy()\n",
    "            all_preds.extend(pred_labels)\n",
    "            all_labels.extend(labels.cpu().numpy())\n",
    "\n",
    "    avg_loss = np.mean(epoch_losses)\n",
    "    report = classification_report(all_labels, all_preds, digits=4)\n",
    "    return avg_loss, report\n",
    "\n",
    "\n",
    "# Exemple d'utilisation\n",
    "model.load_state_dict(torch.load(\"nbow_v1.pt\"))\n",
    "\n",
    "test_loss, test_report = evaluate_with_report(test_data_loader, model, criterion)\n",
    "\n",
    "print(\"Test Loss:\", test_loss)\n",
    "print(\"Classification Report:\\n\", test_report)"
   ]
  },
  {
   "cell_type": "code",
   "execution_count": 66,
   "id": "e7b88b24-14d0-4796-aa5f-eb1595da8882",
   "metadata": {},
   "outputs": [],
   "source": [
    "def predict_sentiment(text, model):\n",
    "    tokens = nltk.word_tokenize(text)\n",
    "    ids = lookup_indices(tokens)\n",
    "    tensor = torch.LongTensor(ids).unsqueeze(dim=0)\n",
    "    prediction = model(tensor).squeeze(dim=0)\n",
    "    probability = torch.softmax(prediction, dim=-1)\n",
    "    predicted_class = prediction.argmax(dim=-1).item()\n",
    "    predicted_probability = probability[predicted_class].item()\n",
    "    return predicted_class, predicted_probability"
   ]
  },
  {
   "cell_type": "code",
   "execution_count": 78,
   "id": "28c4f9e9-33ef-4e4c-ab3b-a5ebc1a20916",
   "metadata": {},
   "outputs": [
    {
     "data": {
      "text/plain": [
       "(1, 0.9993869066238403)"
      ]
     },
     "execution_count": 78,
     "metadata": {},
     "output_type": "execute_result"
    }
   ],
   "source": [
    "text = \"شكراً لكل من سأل عني، أنتم نعمة 💕\"\n",
    "\n",
    "predict_sentiment(text, model)"
   ]
  },
  {
   "cell_type": "code",
   "execution_count": 79,
   "id": "cd263213-d3a9-4e6e-9858-85dd04c02c58",
   "metadata": {},
   "outputs": [
    {
     "data": {
      "text/plain": [
       "(0, 0.9919320940971375)"
      ]
     },
     "execution_count": 79,
     "metadata": {},
     "output_type": "execute_result"
    }
   ],
   "source": [
    "text = \"ما في شيء يمشي مثل ما خططت 💭💔\"\n",
    "\n",
    "predict_sentiment(text, model)"
   ]
  },
  {
   "cell_type": "markdown",
   "id": "dd9a93a5-4157-4a57-a8e6-ad3048376760",
   "metadata": {},
   "source": [
    "**Using Embeddings of a model pretrained**"
   ]
  },
  {
   "cell_type": "code",
   "execution_count": 80,
   "id": "c95a9ad9-23bb-4cc3-9a13-ee3799bc9b9d",
   "metadata": {},
   "outputs": [
    {
     "data": {
      "text/plain": [
       "Parameter containing:\n",
       "tensor([[-0.6534, -0.1361,  0.5599,  ...,  0.2466, -0.5995,  1.1559],\n",
       "        [ 0.0000,  0.0000,  0.0000,  ...,  0.0000,  0.0000,  0.0000],\n",
       "        [ 0.9523,  0.6390,  0.5093,  ...,  0.8721, -0.8748, -1.9885],\n",
       "        ...,\n",
       "        [ 0.3950, -0.0852,  0.4837,  ...,  0.9014,  0.8994,  1.8198],\n",
       "        [ 0.1531, -2.1351, -1.1187,  ..., -0.3122, -0.1037, -0.7491],\n",
       "        [-0.8534, -0.2391,  0.0702,  ...,  0.7802, -3.2498,  0.6618]],\n",
       "       requires_grad=True)"
      ]
     },
     "execution_count": 80,
     "metadata": {},
     "output_type": "execute_result"
    }
   ],
   "source": [
    "model.embedding.weight"
   ]
  },
  {
   "cell_type": "code",
   "execution_count": 81,
   "id": "012a03cc-9062-47c9-a857-a85c8e1d738f",
   "metadata": {},
   "outputs": [
    {
     "name": "stderr",
     "output_type": "stream",
     "text": [
      "C:\\Users\\user\\miniconda3\\envs\\data\\Lib\\site-packages\\transformers\\tokenization_utils_base.py:1601: FutureWarning: `clean_up_tokenization_spaces` was not set. It will be set to `True` by default. This behavior will be depracted in transformers v4.45, and will be then set to `False` by default. For more details check this issue: https://github.com/huggingface/transformers/issues/31884\n",
      "  warnings.warn(\n"
     ]
    },
    {
     "name": "stdout",
     "output_type": "stream",
     "text": [
      "Embedding matrix shape: torch.Size([89919, 128])\n"
     ]
    }
   ],
   "source": [
    "from transformers import AutoTokenizer, AutoModel\n",
    "\n",
    "pretrained_name = \"asafaya/bert-base-arabic\"\n",
    "tokenizer = AutoTokenizer.from_pretrained(pretrained_name)\n",
    "hf_model = AutoModel.from_pretrained(pretrained_name)\n",
    "\n",
    "hf_embeddings = hf_model.get_input_embeddings().weight.data  # (vocab_hf, 768)\n",
    "hf_dim = hf_embeddings.shape[1]\n",
    "\n",
    "\n",
    "target_dim = 128\n",
    "\n",
    "projection = nn.Linear(hf_dim, target_dim, bias=False)\n",
    "with torch.no_grad():\n",
    "    projected_hf_embeddings = projection(hf_embeddings)  # (vocab_hf, 128)\n",
    "\n",
    "new_weights = torch.zeros(len(stoi), target_dim)\n",
    "\n",
    "for word, idx in stoi.items():\n",
    "    sub_tokens = tokenizer.tokenize(word)\n",
    "    sub_ids = tokenizer.convert_tokens_to_ids(sub_tokens)\n",
    "\n",
    "    if len(sub_ids) > 0 and all(i != tokenizer.unk_token_id for i in sub_ids):\n",
    "        vecs = projected_hf_embeddings[sub_ids]\n",
    "        new_weights[idx] = vecs.mean(dim=0)\n",
    "    else:\n",
    "        new_weights[idx] = torch.randn(target_dim)\n",
    "\n",
    "embedding_layer = nn.Embedding.from_pretrained(new_weights, freeze=False)\n",
    "\n",
    "print(\"Embedding matrix shape:\", embedding_layer.weight.shape)"
   ]
  },
  {
   "cell_type": "code",
   "execution_count": 82,
   "id": "48954e12-54a6-4280-9522-69fa863ce7d3",
   "metadata": {},
   "outputs": [],
   "source": [
    "vocab_size = len(stoi)\n",
    "embedding_dim = 128\n",
    "output_dim = len(train_data.unique(\"label\"))\n",
    "\n",
    "model = NBoW(vocab_size, embedding_dim, output_dim, pad_index)"
   ]
  },
  {
   "cell_type": "code",
   "execution_count": 83,
   "id": "3b2b365b-c731-4803-94d6-f0001285b016",
   "metadata": {},
   "outputs": [
    {
     "data": {
      "text/plain": [
       "Parameter containing:\n",
       "tensor([[ 0.8639,  0.6768, -0.5552,  ...,  1.9874, -1.2685, -0.2932],\n",
       "        [-0.0201, -0.0243,  0.0178,  ..., -0.0100,  0.0115, -0.0158],\n",
       "        [-0.0138, -0.0104,  0.0243,  ..., -0.0210, -0.0118, -0.0143],\n",
       "        ...,\n",
       "        [ 0.0000,  0.0000,  0.0000,  ...,  0.0000,  0.0000,  0.0000],\n",
       "        [ 0.0000,  0.0000,  0.0000,  ...,  0.0000,  0.0000,  0.0000],\n",
       "        [ 0.0000,  0.0000,  0.0000,  ...,  0.0000,  0.0000,  0.0000]],\n",
       "       requires_grad=True)"
      ]
     },
     "execution_count": 83,
     "metadata": {},
     "output_type": "execute_result"
    }
   ],
   "source": [
    "embedding_layer.weight"
   ]
  },
  {
   "cell_type": "code",
   "execution_count": 84,
   "id": "9ef13ad9-d2da-4c65-ac0c-530dbc68772b",
   "metadata": {},
   "outputs": [],
   "source": [
    "model.embedding.weight.data = embedding_layer.weight"
   ]
  },
  {
   "cell_type": "code",
   "execution_count": 85,
   "id": "81b9b7dd-9fdc-4bc4-a4b0-6e80e5958ecf",
   "metadata": {},
   "outputs": [
    {
     "data": {
      "text/plain": [
       "Parameter containing:\n",
       "tensor([[ 0.8639,  0.6768, -0.5552,  ...,  1.9874, -1.2685, -0.2932],\n",
       "        [-0.0201, -0.0243,  0.0178,  ..., -0.0100,  0.0115, -0.0158],\n",
       "        [-0.0138, -0.0104,  0.0243,  ..., -0.0210, -0.0118, -0.0143],\n",
       "        ...,\n",
       "        [ 0.0000,  0.0000,  0.0000,  ...,  0.0000,  0.0000,  0.0000],\n",
       "        [ 0.0000,  0.0000,  0.0000,  ...,  0.0000,  0.0000,  0.0000],\n",
       "        [ 0.0000,  0.0000,  0.0000,  ...,  0.0000,  0.0000,  0.0000]],\n",
       "       requires_grad=True)"
      ]
     },
     "execution_count": 85,
     "metadata": {},
     "output_type": "execute_result"
    }
   ],
   "source": [
    "model.embedding.weight"
   ]
  },
  {
   "cell_type": "code",
   "execution_count": 86,
   "id": "3c0c306f-6d1a-4cb6-9d71-48163d2027c4",
   "metadata": {},
   "outputs": [],
   "source": [
    "optimizer = optim.Adam(model.parameters())\n",
    "criterion = nn.CrossEntropyLoss()"
   ]
  },
  {
   "cell_type": "code",
   "execution_count": 87,
   "id": "48b15066-a3c4-4a64-bf87-122cd5501375",
   "metadata": {},
   "outputs": [
    {
     "name": "stderr",
     "output_type": "stream",
     "text": [
      "training...: 100%|█████████████████████████████████████████████████████████████████████| 92/92 [00:22<00:00,  4.12it/s]\n",
      "evaluating...: 100%|███████████████████████████████████████████████████████████████████| 12/12 [00:01<00:00, 10.40it/s]\n"
     ]
    },
    {
     "name": "stdout",
     "output_type": "stream",
     "text": [
      "epoch: 0\n",
      "train_loss: 0.664, train_acc: 0.676\n",
      "valid_loss: 0.613, valid_acc: 0.851\n"
     ]
    },
    {
     "name": "stderr",
     "output_type": "stream",
     "text": [
      "training...: 100%|█████████████████████████████████████████████████████████████████████| 92/92 [00:22<00:00,  4.15it/s]\n",
      "evaluating...: 100%|███████████████████████████████████████████████████████████████████| 12/12 [00:01<00:00, 10.31it/s]\n"
     ]
    },
    {
     "name": "stdout",
     "output_type": "stream",
     "text": [
      "epoch: 1\n",
      "train_loss: 0.521, train_acc: 0.872\n",
      "valid_loss: 0.454, valid_acc: 0.879\n"
     ]
    },
    {
     "name": "stderr",
     "output_type": "stream",
     "text": [
      "training...: 100%|█████████████████████████████████████████████████████████████████████| 92/92 [00:21<00:00,  4.20it/s]\n",
      "evaluating...: 100%|███████████████████████████████████████████████████████████████████| 12/12 [00:01<00:00, 10.20it/s]\n"
     ]
    },
    {
     "name": "stdout",
     "output_type": "stream",
     "text": [
      "epoch: 2\n",
      "train_loss: 0.379, train_acc: 0.905\n",
      "valid_loss: 0.350, valid_acc: 0.907\n"
     ]
    },
    {
     "name": "stderr",
     "output_type": "stream",
     "text": [
      "training...: 100%|█████████████████████████████████████████████████████████████████████| 92/92 [00:21<00:00,  4.19it/s]\n",
      "evaluating...: 100%|███████████████████████████████████████████████████████████████████| 12/12 [00:01<00:00, 11.30it/s]\n"
     ]
    },
    {
     "name": "stdout",
     "output_type": "stream",
     "text": [
      "epoch: 3\n",
      "train_loss: 0.286, train_acc: 0.932\n",
      "valid_loss: 0.283, valid_acc: 0.922\n"
     ]
    },
    {
     "name": "stderr",
     "output_type": "stream",
     "text": [
      "training...: 100%|█████████████████████████████████████████████████████████████████████| 92/92 [00:21<00:00,  4.28it/s]\n",
      "evaluating...: 100%|███████████████████████████████████████████████████████████████████| 12/12 [00:01<00:00, 11.93it/s]\n"
     ]
    },
    {
     "name": "stdout",
     "output_type": "stream",
     "text": [
      "epoch: 4\n",
      "train_loss: 0.224, train_acc: 0.947\n",
      "valid_loss: 0.237, valid_acc: 0.933\n"
     ]
    },
    {
     "name": "stderr",
     "output_type": "stream",
     "text": [
      "training...: 100%|█████████████████████████████████████████████████████████████████████| 92/92 [00:21<00:00,  4.19it/s]\n",
      "evaluating...: 100%|███████████████████████████████████████████████████████████████████| 12/12 [00:01<00:00,  9.93it/s]\n"
     ]
    },
    {
     "name": "stdout",
     "output_type": "stream",
     "text": [
      "epoch: 5\n",
      "train_loss: 0.184, train_acc: 0.955\n",
      "valid_loss: 0.208, valid_acc: 0.940\n"
     ]
    },
    {
     "name": "stderr",
     "output_type": "stream",
     "text": [
      "training...: 100%|█████████████████████████████████████████████████████████████████████| 92/92 [00:22<00:00,  4.16it/s]\n",
      "evaluating...: 100%|███████████████████████████████████████████████████████████████████| 12/12 [00:01<00:00, 10.48it/s]\n"
     ]
    },
    {
     "name": "stdout",
     "output_type": "stream",
     "text": [
      "epoch: 6\n",
      "train_loss: 0.155, train_acc: 0.960\n",
      "valid_loss: 0.189, valid_acc: 0.942\n"
     ]
    },
    {
     "name": "stderr",
     "output_type": "stream",
     "text": [
      "training...: 100%|█████████████████████████████████████████████████████████████████████| 92/92 [00:21<00:00,  4.35it/s]\n",
      "evaluating...: 100%|███████████████████████████████████████████████████████████████████| 12/12 [00:01<00:00,  9.80it/s]\n"
     ]
    },
    {
     "name": "stdout",
     "output_type": "stream",
     "text": [
      "epoch: 7\n",
      "train_loss: 0.136, train_acc: 0.963\n",
      "valid_loss: 0.176, valid_acc: 0.944\n"
     ]
    },
    {
     "name": "stderr",
     "output_type": "stream",
     "text": [
      "training...: 100%|█████████████████████████████████████████████████████████████████████| 92/92 [00:22<00:00,  4.15it/s]\n",
      "evaluating...: 100%|███████████████████████████████████████████████████████████████████| 12/12 [00:01<00:00, 10.54it/s]\n"
     ]
    },
    {
     "name": "stdout",
     "output_type": "stream",
     "text": [
      "epoch: 8\n",
      "train_loss: 0.122, train_acc: 0.966\n",
      "valid_loss: 0.167, valid_acc: 0.945\n"
     ]
    },
    {
     "name": "stderr",
     "output_type": "stream",
     "text": [
      "training...: 100%|█████████████████████████████████████████████████████████████████████| 92/92 [00:22<00:00,  4.14it/s]\n",
      "evaluating...: 100%|███████████████████████████████████████████████████████████████████| 12/12 [00:01<00:00, 10.41it/s]\n"
     ]
    },
    {
     "name": "stdout",
     "output_type": "stream",
     "text": [
      "epoch: 9\n",
      "train_loss: 0.110, train_acc: 0.968\n",
      "valid_loss: 0.160, valid_acc: 0.945\n"
     ]
    },
    {
     "name": "stderr",
     "output_type": "stream",
     "text": [
      "training...: 100%|█████████████████████████████████████████████████████████████████████| 92/92 [00:21<00:00,  4.20it/s]\n",
      "evaluating...: 100%|███████████████████████████████████████████████████████████████████| 12/12 [00:01<00:00, 11.28it/s]\n"
     ]
    },
    {
     "name": "stdout",
     "output_type": "stream",
     "text": [
      "epoch: 10\n",
      "train_loss: 0.102, train_acc: 0.970\n",
      "valid_loss: 0.156, valid_acc: 0.946\n"
     ]
    },
    {
     "name": "stderr",
     "output_type": "stream",
     "text": [
      "training...: 100%|█████████████████████████████████████████████████████████████████████| 92/92 [00:21<00:00,  4.18it/s]\n",
      "evaluating...: 100%|███████████████████████████████████████████████████████████████████| 12/12 [00:01<00:00, 10.90it/s]\n"
     ]
    },
    {
     "name": "stdout",
     "output_type": "stream",
     "text": [
      "epoch: 11\n",
      "train_loss: 0.095, train_acc: 0.972\n",
      "valid_loss: 0.153, valid_acc: 0.945\n"
     ]
    },
    {
     "name": "stderr",
     "output_type": "stream",
     "text": [
      "training...: 100%|█████████████████████████████████████████████████████████████████████| 92/92 [00:21<00:00,  4.20it/s]\n",
      "evaluating...: 100%|███████████████████████████████████████████████████████████████████| 12/12 [00:00<00:00, 12.15it/s]\n"
     ]
    },
    {
     "name": "stdout",
     "output_type": "stream",
     "text": [
      "epoch: 12\n",
      "train_loss: 0.089, train_acc: 0.973\n",
      "valid_loss: 0.150, valid_acc: 0.945\n"
     ]
    },
    {
     "name": "stderr",
     "output_type": "stream",
     "text": [
      "training...: 100%|█████████████████████████████████████████████████████████████████████| 92/92 [00:21<00:00,  4.20it/s]\n",
      "evaluating...: 100%|███████████████████████████████████████████████████████████████████| 12/12 [00:01<00:00, 11.02it/s]\n"
     ]
    },
    {
     "name": "stdout",
     "output_type": "stream",
     "text": [
      "epoch: 13\n",
      "train_loss: 0.084, train_acc: 0.975\n",
      "valid_loss: 0.149, valid_acc: 0.945\n"
     ]
    },
    {
     "name": "stderr",
     "output_type": "stream",
     "text": [
      "training...: 100%|█████████████████████████████████████████████████████████████████████| 92/92 [00:21<00:00,  4.18it/s]\n",
      "evaluating...: 100%|███████████████████████████████████████████████████████████████████| 12/12 [00:01<00:00, 11.17it/s]"
     ]
    },
    {
     "name": "stdout",
     "output_type": "stream",
     "text": [
      "epoch: 14\n",
      "train_loss: 0.080, train_acc: 0.976\n",
      "valid_loss: 0.148, valid_acc: 0.947\n"
     ]
    },
    {
     "name": "stderr",
     "output_type": "stream",
     "text": [
      "\n"
     ]
    }
   ],
   "source": [
    "n_epochs = 15\n",
    "best_valid_loss = float(\"inf\")\n",
    "\n",
    "metrics = collections.defaultdict(list)\n",
    "\n",
    "for epoch in range(n_epochs):\n",
    "    train_loss, train_acc = train(\n",
    "        train_data_loader, model, criterion, optimizer\n",
    "    )\n",
    "    valid_loss, valid_acc = evaluate(valid_data_loader, model, criterion)\n",
    "    metrics[\"train_losses\"].append(train_loss)\n",
    "    metrics[\"train_accs\"].append(train_acc)\n",
    "    metrics[\"valid_losses\"].append(valid_loss)\n",
    "    metrics[\"valid_accs\"].append(valid_acc)\n",
    "    if valid_loss < best_valid_loss:\n",
    "        best_valid_loss = valid_loss\n",
    "        torch.save(model.state_dict(), \"nbow_emb_pretrained.pt\")\n",
    "    print(f\"epoch: {epoch}\")\n",
    "    print(f\"train_loss: {train_loss:.3f}, train_acc: {train_acc:.3f}\")\n",
    "    print(f\"valid_loss: {valid_loss:.3f}, valid_acc: {valid_acc:.3f}\")"
   ]
  },
  {
   "cell_type": "code",
   "execution_count": 88,
   "id": "15cb8777-77a8-465d-b256-dfd3ce67e8ce",
   "metadata": {},
   "outputs": [
    {
     "data": {
      "image/png": "[encoded data removed]",
      "text/plain": [
       "<Figure size 1000x600 with 1 Axes>"
      ]
     },
     "metadata": {},
     "output_type": "display_data"
    }
   ],
   "source": [
    "fig = plt.figure(figsize=(10, 6))\n",
    "ax = fig.add_subplot(1, 1, 1)\n",
    "ax.plot(metrics[\"train_losses\"], label=\"train loss\")\n",
    "ax.plot(metrics[\"valid_losses\"], label=\"valid loss\")\n",
    "ax.set_xlabel(\"epoch\")\n",
    "ax.set_ylabel(\"loss\")\n",
    "ax.set_xticks(range(n_epochs))\n",
    "ax.legend()\n",
    "ax.grid()"
   ]
  },
  {
   "cell_type": "code",
   "execution_count": 89,
   "id": "b05dc2d4-255d-49f2-9a20-5f668df30f74",
   "metadata": {},
   "outputs": [
    {
     "data": {
      "image/png": "[encoded data removed]",
      "text/plain": [
       "<Figure size 1000x600 with 1 Axes>"
      ]
     },
     "metadata": {},
     "output_type": "display_data"
    }
   ],
   "source": [
    "fig = plt.figure(figsize=(10, 6))\n",
    "ax = fig.add_subplot(1, 1, 1)\n",
    "ax.plot(metrics[\"train_accs\"], label=\"train accuracy\")\n",
    "ax.plot(metrics[\"valid_accs\"], label=\"valid accuracy\")\n",
    "ax.set_xlabel(\"epoch\")\n",
    "ax.set_ylabel(\"loss\")\n",
    "ax.set_xticks(range(n_epochs))\n",
    "ax.legend()\n",
    "ax.grid()"
   ]
  },
  {
   "cell_type": "code",
   "execution_count": 90,
   "id": "93aa733a-a85b-4c7e-9a0b-b44dbb4cdf55",
   "metadata": {},
   "outputs": [
    {
     "name": "stderr",
     "output_type": "stream",
     "text": [
      "evaluating...: 100%|███████████████████████████████████████████████████████████████████| 12/12 [00:01<00:00, 11.06it/s]\n"
     ]
    }
   ],
   "source": [
    "model.load_state_dict(torch.load(\"nbow_emb_pretrained.pt\"))\n",
    "\n",
    "test_loss, test_acc = evaluate(test_data_loader, model, criterion)"
   ]
  },
  {
   "cell_type": "code",
   "execution_count": 91,
   "id": "9a19c231-ed27-4ede-883e-25883500c647",
   "metadata": {},
   "outputs": [
    {
     "name": "stdout",
     "output_type": "stream",
     "text": [
      "test_loss: 0.134, test_acc: 0.952\n"
     ]
    }
   ],
   "source": [
    "print(f\"test_loss: {test_loss:.3f}, test_acc: {test_acc:.3f}\")"
   ]
  },
  {
   "cell_type": "code",
   "execution_count": 128,
   "id": "a1f87129-0ae3-4d79-8477-58f18624b608",
   "metadata": {},
   "outputs": [
    {
     "name": "stderr",
     "output_type": "stream",
     "text": [
      "evaluating...: 100%|███████████████████████████████████████████████████████████████████| 12/12 [00:01<00:00, 10.53it/s]"
     ]
    },
    {
     "name": "stdout",
     "output_type": "stream",
     "text": [
      "Test Loss: 0.13376699884732565\n",
      "Classification Report:\n",
      "               precision    recall  f1-score   support\n",
      "\n",
      "           0     0.9467    0.9545    0.9506      2921\n",
      "           1     0.9546    0.9469    0.9507      2955\n",
      "\n",
      "    accuracy                         0.9506      5876\n",
      "   macro avg     0.9507    0.9507    0.9506      5876\n",
      "weighted avg     0.9507    0.9506    0.9506      5876\n",
      "\n"
     ]
    },
    {
     "name": "stderr",
     "output_type": "stream",
     "text": [
      "\n"
     ]
    }
   ],
   "source": [
    "model.load_state_dict(torch.load(\"nbow_emb_pretrained.pt\"))\n",
    "\n",
    "test_loss, test_report = evaluate_with_report(test_data_loader, model, criterion)\n",
    "\n",
    "print(\"Test Loss:\", test_loss)\n",
    "print(\"Classification Report:\\n\", test_report)"
   ]
  },
  {
   "cell_type": "code",
   "execution_count": 129,
   "id": "398ac231-ba3a-4030-8874-51a633da5150",
   "metadata": {},
   "outputs": [
    {
     "name": "stderr",
     "output_type": "stream",
     "text": [
      "evaluating...: 100%|███████████████████████████████████████████████████████████████████| 12/12 [00:01<00:00, 11.51it/s]\n",
      "evaluating...: 100%|███████████████████████████████████████████████████████████████████| 12/12 [00:01<00:00,  9.74it/s]\n"
     ]
    },
    {
     "data": {
      "image/png": "[encoded data removed]",
      "text/plain": [
       "<Figure size 600x400 with 1 Axes>"
      ]
     },
     "metadata": {},
     "output_type": "display_data"
    },
    {
     "data": {
      "image/png": "[encoded data removed]",
      "text/plain": [
       "<Figure size 600x400 with 1 Axes>"
      ]
     },
     "metadata": {},
     "output_type": "display_data"
    }
   ],
   "source": [
    "def eval_model(path):\n",
    "    model.load_state_dict(torch.load(path))\n",
    "    loss, acc = evaluate(test_data_loader, model, criterion)\n",
    "    return loss, acc\n",
    "\n",
    "loss_pretrained, acc_pretrained = eval_model(\"nbow_emb_pretrained.pt\")\n",
    "loss_random, acc_random = eval_model(\"nbow_v1.pt\")\n",
    "\n",
    "labels = [\"Random Embedding\", \"Pretrained Embedding\"]\n",
    "losses = [loss_random, loss_pretrained]\n",
    "accs = [acc_random, acc_pretrained]\n",
    "\n",
    "# -------------------------------\n",
    "# Plot Comparaison Accuracy\n",
    "# -------------------------------\n",
    "plt.figure(figsize=(6,4))\n",
    "bars = plt.bar(labels, accs, color=[\"red\", \"green\"])\n",
    "plt.ylabel(\"Accuracy\")\n",
    "plt.title(\"Accuracy Comparison\")\n",
    "plt.ylim(0, 1)\n",
    "for bar, val in zip(bars, accs):\n",
    "    plt.text(bar.get_x() + bar.get_width()/2, bar.get_height(),\n",
    "             f\"{val:.3f}\", ha=\"center\", va=\"bottom\")\n",
    "plt.show()\n",
    "\n",
    "# -------------------------------\n",
    "# Plot Comparaison Loss\n",
    "# -------------------------------\n",
    "plt.figure(figsize=(6,4))\n",
    "bars = plt.bar(labels, losses, color=[\"red\", \"green\"])\n",
    "plt.ylabel(\"Loss\")\n",
    "plt.title(\"Loss Comparison\")\n",
    "for bar, val in zip(bars, losses):\n",
    "    plt.text(bar.get_x() + bar.get_width()/2, bar.get_height(),\n",
    "             f\"{val:.3f}\", ha=\"center\", va=\"bottom\")\n",
    "plt.show()"
   ]
  }
 ],
 "metadata": {
  "kernelspec": {
   "display_name": "data",
   "language": "python",
   "name": "data"
  },
  "language_info": {
   "codemirror_mode": {
    "name": "ipython",
    "version": 3
   },
   "file_extension": ".py",
   "mimetype": "text/x-python",
   "name": "python",
   "nbconvert_exporter": "python",
   "pygments_lexer": "ipython3",
   "version": "3.11.13"
  }
 },
 "nbformat": 4,
 "nbformat_minor": 5
}
